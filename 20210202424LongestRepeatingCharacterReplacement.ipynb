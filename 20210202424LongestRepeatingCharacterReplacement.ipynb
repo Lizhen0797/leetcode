{
 "cells": [
  {
   "cell_type": "raw",
   "metadata": {},
   "source": [
    "给你一个仅由大写英文字母组成的字符串，你可以将任意位置上的字符替换成另外的字符，总共可最多替换 k 次。在执行上述操作后，找到包含重复字母的最长子串的长度。\n",
    "\n",
    "注意：字符串长度 和 k 不会超过 104。\n",
    "\n",
    " \n",
    "\n",
    "示例 1：\n",
    "\n",
    "输入：s = \"ABAB\", k = 2\n",
    "输出：4\n",
    "解释：用两个'A'替换为两个'B',反之亦然。\n",
    "示例 2：\n",
    "\n",
    "输入：s = \"AABABBA\", k = 1\n",
    "输出：4\n",
    "解释：\n",
    "将中间的一个'A'替换为'B',字符串变为 \"AABBBBA\"。\n",
    "子串 \"BBBB\" 有最长重复字母, 答案为 4。"
   ]
  },
  {
   "cell_type": "code",
   "execution_count": 1,
   "metadata": {},
   "outputs": [],
   "source": [
    "def characterReplacement(s, k):\n",
    "    \"\"\"\n",
    "    :type s: str\n",
    "    :type k: int\n",
    "    :rtype: int\n",
    "    \"\"\"\n",
    "    num = [0] * 26\n",
    "    n = len(s)\n",
    "    maxn = left = right = 0\n",
    "\n",
    "    while right < n:\n",
    "        num[ord(s[right]) - ord(\"A\")] += 1\n",
    "        maxn = max(maxn, num[ord(s[right]) - ord(\"A\")])\n",
    "        if right - left + 1 - maxn > k:\n",
    "            num[ord(s[left]) - ord(\"A\")] -= 1\n",
    "            left += 1\n",
    "        right += 1\n",
    "\n",
    "    return right - left"
   ]
  },
  {
   "cell_type": "code",
   "execution_count": null,
   "metadata": {},
   "outputs": [],
   "source": []
  }
 ],
 "metadata": {
  "kernelspec": {
   "display_name": "Python 3",
   "language": "python",
   "name": "python3"
  },
  "language_info": {
   "codemirror_mode": {
    "name": "ipython",
    "version": 3
   },
   "file_extension": ".py",
   "mimetype": "text/x-python",
   "name": "python",
   "nbconvert_exporter": "python",
   "pygments_lexer": "ipython3",
   "version": "3.7.4"
  }
 },
 "nbformat": 4,
 "nbformat_minor": 2
}
