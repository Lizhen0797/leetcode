{
 "cells": [
  {
   "cell_type": "raw",
   "metadata": {},
   "source": [
    "给出一些不同颜色的盒子，盒子的颜色由数字表示，即不同的数字表示不同的颜色。\n",
    "你将经过若干轮操作去去掉盒子，直到所有的盒子都去掉为止。每一轮你可以移除具有相同颜色的连续 k 个盒子（k >= 1），这样一轮之后你将得到 k*k 个积分。\n",
    "当你将所有盒子都去掉之后，求你能获得的最大积分和。\n",
    "\n",
    " \n",
    "\n",
    "示例：\n",
    "\n",
    "输入：boxes = [1,3,2,2,2,3,4,3,1]\n",
    "输出：23\n",
    "解释：\n",
    "[1, 3, 2, 2, 2, 3, 4, 3, 1] \n",
    "----> [1, 3, 3, 4, 3, 1] (3*3=9 分) \n",
    "----> [1, 3, 3, 3, 1] (1*1=1 分) \n",
    "----> [1, 1] (3*3=9 分) \n",
    "----> [] (2*2=4 分)\n"
   ]
  },
  {
   "cell_type": "code",
   "execution_count": 3,
   "metadata": {},
   "outputs": [],
   "source": [
    "def removeBoxes(boxes):\n",
    "    \"\"\"\n",
    "    :type boxes: List[int]\n",
    "    :rtype: int\n",
    "    \"\"\"\n",
    "    memo = {}\n",
    "    def dp(l, r, k):\n",
    "        if l > r:\n",
    "            return 0\n",
    "        if (l, r, k) in memo:\n",
    "            return memo[(l, r, k)]\n",
    "        while r > l and boxes[r] == boxes[r-1]:\n",
    "            r -= 1\n",
    "            k += 1\n",
    "        res = dp(l, r-1, 0) + (k+1)*(k+1)\n",
    "\n",
    "        for i in range(l, r):\n",
    "            if boxes[i] == boxes[r]:\n",
    "                res = max(res, dp(i+1, r-1, 0) + dp(l, i, k+1))\n",
    "\n",
    "        memo[(l, r, k)] = res\n",
    "        return res\n",
    "\n",
    "    return dp(0, len(boxes)-1, 0)"
   ]
  },
  {
   "cell_type": "code",
   "execution_count": null,
   "metadata": {},
   "outputs": [],
   "source": []
  }
 ],
 "metadata": {
  "kernelspec": {
   "display_name": "Python 3",
   "language": "python",
   "name": "python3"
  },
  "language_info": {
   "codemirror_mode": {
    "name": "ipython",
    "version": 3
   },
   "file_extension": ".py",
   "mimetype": "text/x-python",
   "name": "python",
   "nbconvert_exporter": "python",
   "pygments_lexer": "ipython3",
   "version": "3.7.5"
  }
 },
 "nbformat": 4,
 "nbformat_minor": 2
}
