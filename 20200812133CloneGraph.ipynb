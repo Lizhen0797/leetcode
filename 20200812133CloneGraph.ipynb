{
 "cells": [
  {
   "cell_type": "code",
   "execution_count": 1,
   "metadata": {},
   "outputs": [
    {
     "ename": "SyntaxError",
     "evalue": "unexpected EOF while parsing (<ipython-input-1-9c59658ab389>, line 3)",
     "output_type": "error",
     "traceback": [
      "\u001b[0;36m  File \u001b[0;32m\"<ipython-input-1-9c59658ab389>\"\u001b[0;36m, line \u001b[0;32m3\u001b[0m\n\u001b[0;31m    if not node:\u001b[0m\n\u001b[0m                ^\u001b[0m\n\u001b[0;31mSyntaxError\u001b[0m\u001b[0;31m:\u001b[0m unexpected EOF while parsing\n"
     ]
    }
   ],
   "source": [
    "visited = {}\n",
    "def cloneGraph(node):\n",
    "    if not node:\n",
    "        return node\n",
    "    \n",
    "    if node in visited:\n",
    "        return visited[node]\n",
    "    \n",
    "    clone_node = Node(node.val, [])\n",
    "    visited[node] = clone_node\n",
    "    \n",
    "    if node.neighbors:\n",
    "        clone_node.neighbors = [self.cloneGraph(n) for n in node.neighbors]\n",
    "    return clone_node"
   ]
  },
  {
   "cell_type": "code",
   "execution_count": null,
   "metadata": {},
   "outputs": [],
   "source": []
  }
 ],
 "metadata": {
  "kernelspec": {
   "display_name": "Python 3",
   "language": "python",
   "name": "python3"
  },
  "language_info": {
   "codemirror_mode": {
    "name": "ipython",
    "version": 3
   },
   "file_extension": ".py",
   "mimetype": "text/x-python",
   "name": "python",
   "nbconvert_exporter": "python",
   "pygments_lexer": "ipython3",
   "version": "3.7.5"
  }
 },
 "nbformat": 4,
 "nbformat_minor": 2
}
