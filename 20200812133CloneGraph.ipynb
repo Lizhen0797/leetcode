{
 "cells": [
  {
   "cell_type": "raw",
   "metadata": {},
   "source": [
    "你无向 连通 图中一个节点的引用，请你返回该图的 深拷贝（克隆）。\n",
    "\n",
    "图中的每个节点都包含它的值 val（int） 和其邻居的列表（list[Node]）。\n",
    "\n",
    "class Node {\n",
    "    public int val;\n",
    "    public List<Node> neighbors;\n",
    "}\n",
    " \n",
    "\n",
    "测试用例格式：\n",
    "\n",
    "简单起见，每个节点的值都和它的索引相同。例如，第一个节点值为 1（val = 1），第二个节点值为 2（val = 2），以此类推。该图在测试用例中使用邻接列表表示。\n",
    "\n",
    "邻接列表 是用于表示有限图的无序列表的集合。每个列表都描述了图中节点的邻居集。\n",
    "\n",
    "给定节点将始终是图中的第一个节点（值为 1）。你必须将 给定节点的拷贝 作为对克隆图的引用返回。\n",
    "\n",
    " \n",
    "\n",
    "示例 1：\n",
    "\n",
    "\n",
    "\n",
    "输入：adjList = [[2,4],[1,3],[2,4],[1,3]]\n",
    "输出：[[2,4],[1,3],[2,4],[1,3]]\n",
    "解释：\n",
    "图中有 4 个节点。\n",
    "节点 1 的值是 1，它有两个邻居：节点 2 和 4 。\n",
    "节点 2 的值是 2，它有两个邻居：节点 1 和 3 。\n",
    "节点 3 的值是 3，它有两个邻居：节点 2 和 4 。\n",
    "节点 4 的值是 4，它有两个邻居：节点 1 和 3 。\n",
    "示例 2：\n",
    "\n",
    "\n",
    "\n",
    "输入：adjList = [[]]\n",
    "输出：[[]]\n",
    "解释：输入包含一个空列表。该图仅仅只有一个值为 1 的节点，它没有任何邻居。\n",
    "示例 3：\n",
    "\n",
    "输入：adjList = []\n",
    "输出：[]\n",
    "解释：这个图是空的，它不含任何节点。\n",
    "示例 4：\n",
    "\n",
    "\n",
    "\n",
    "输入：adjList = [[2],[1]]\n",
    "输出：[[2],[1]]\n",
    "\n",
    "来源：力扣（LeetCode）\n",
    "链接：https://leetcode-cn.com/problems/clone-graph\n",
    "著作权归领扣网络所有。商业转载请联系官方授权，非商业转载请注明出处。"
   ]
  },
  {
   "cell_type": "code",
   "execution_count": 2,
   "metadata": {},
   "outputs": [],
   "source": [
    "visited = {}\n",
    "def cloneGraph(node):\n",
    "    if not node:\n",
    "        return node\n",
    "    \n",
    "    if node in visited:\n",
    "        return visited[node]\n",
    "    \n",
    "    clone_node = Node(node.val, [])\n",
    "    visited[node] = clone_node\n",
    "    \n",
    "    if node.neighbors:\n",
    "        clone_node.neighbors = [cloneGraph(n) for n in node.neighbors]\n",
    "    return clone_node"
   ]
  },
  {
   "cell_type": "code",
   "execution_count": null,
   "metadata": {},
   "outputs": [],
   "source": []
  }
 ],
 "metadata": {
  "kernelspec": {
   "display_name": "Python 3",
   "language": "python",
   "name": "python3"
  },
  "language_info": {
   "codemirror_mode": {
    "name": "ipython",
    "version": 3
   },
   "file_extension": ".py",
   "mimetype": "text/x-python",
   "name": "python",
   "nbconvert_exporter": "python",
   "pygments_lexer": "ipython3",
   "version": "3.7.5"
  }
 },
 "nbformat": 4,
 "nbformat_minor": 2
}
