{
 "cells": [
  {
   "cell_type": "raw",
   "metadata": {},
   "source": [
    "给定一些标记了宽度和高度的信封，宽度和高度以整数对形式 (w, h) 出现。当另一个信封的宽度和高度都比这个信封大的时候，这个信封就可以放进另一个信封里，如同俄罗斯套娃一样。\n",
    "\n",
    "请计算最多能有多少个信封能组成一组“俄罗斯套娃”信封（即可以把一个信封放到另一个信封里面）。\n",
    "\n",
    "说明:\n",
    "不允许旋转信封。\n",
    "\n",
    "示例:\n",
    "\n",
    "输入: envelopes = [[5,4],[6,4],[6,7],[2,3]]\n",
    "输出: 3 \n",
    "解释: 最多信封的个数为 3, 组合为: [2,3] => [5,4] => [6,7]。"
   ]
  },
  {
   "cell_type": "code",
   "execution_count": 1,
   "metadata": {},
   "outputs": [],
   "source": [
    "def maxEnvelopes(envelopes):\n",
    "    \"\"\"\n",
    "    :type envelopes: List[List[int]]\n",
    "    :rtype: int\n",
    "    \"\"\"\n",
    "    if not envelopes:\n",
    "        return 0\n",
    "    n = len(envelopes)\n",
    "    envelopes.sort(key=lambda x: (x[0], -x[1]))\n",
    "    #print(envelopes)\n",
    "    f = [1] * n\n",
    "    for i in range(1, n):\n",
    "        for j in range(i):\n",
    "            if envelopes[j][1] < envelopes[i][1]:\n",
    "                f[i] = max(f[i], f[j]+1)\n",
    "    return max(f)"
   ]
  },
  {
   "cell_type": "code",
   "execution_count": null,
   "metadata": {},
   "outputs": [],
   "source": []
  }
 ],
 "metadata": {
  "kernelspec": {
   "display_name": "Python 3",
   "language": "python",
   "name": "python3"
  },
  "language_info": {
   "codemirror_mode": {
    "name": "ipython",
    "version": 3
   },
   "file_extension": ".py",
   "mimetype": "text/x-python",
   "name": "python",
   "nbconvert_exporter": "python",
   "pygments_lexer": "ipython3",
   "version": "3.7.5"
  }
 },
 "nbformat": 4,
 "nbformat_minor": 2
}
