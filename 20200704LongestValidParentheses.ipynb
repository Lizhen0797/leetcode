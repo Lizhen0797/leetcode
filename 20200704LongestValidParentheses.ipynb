{
 "cells": [
  {
   "cell_type": "markdown",
   "metadata": {},
   "source": [
    "给定一个只包含 '(' 和 ')' 的字符串，找出最长的包含有效括号的子串的长度。\n",
    "\n",
    "示例 1:\n",
    "\n",
    "输入: \"(()\"\n",
    "\n",
    "输出: 2\n",
    "\n",
    "解释: 最长有效括号子串为 \"()\"\n",
    "\n",
    "\n",
    "示例 2:\n",
    "\n",
    "输入: \")()())\"\n",
    "\n",
    "输出: 4\n",
    "\n",
    "解释: 最长有效括号子串为 \"()()\""
   ]
  },
  {
   "cell_type": "code",
   "execution_count": 2,
   "metadata": {},
   "outputs": [],
   "source": [
    "def longestValidParenttheses(s):\n",
    "    n = len(s)\n",
    "    if n == 0:\n",
    "        return 0\n",
    "    dp = [0] * n\n",
    "    for i in range (len(s)):\n",
    "        if s[i] == ')' and s[i-dp[i-1]-1] =='(' and i-dp[i-1]-1 >= 0:\n",
    "            dp[i] = 2 + dp[i-1] + dp[i-dp[i-1]-2]\n",
    "    return max(dp)"
   ]
  },
  {
   "cell_type": "code",
   "execution_count": 4,
   "metadata": {},
   "outputs": [
    {
     "data": {
      "text/plain": [
       "2"
      ]
     },
     "execution_count": 4,
     "metadata": {},
     "output_type": "execute_result"
    }
   ],
   "source": [
    "longestValidParenttheses(\"(()\")"
   ]
  },
  {
   "cell_type": "code",
   "execution_count": 5,
   "metadata": {},
   "outputs": [
    {
     "data": {
      "text/plain": [
       "4"
      ]
     },
     "execution_count": 5,
     "metadata": {},
     "output_type": "execute_result"
    }
   ],
   "source": [
    "longestValidParenttheses(\")()())\")"
   ]
  },
  {
   "cell_type": "code",
   "execution_count": null,
   "metadata": {},
   "outputs": [],
   "source": []
  }
 ],
 "metadata": {
  "kernelspec": {
   "display_name": "Python 3",
   "language": "python",
   "name": "python3"
  },
  "language_info": {
   "codemirror_mode": {
    "name": "ipython",
    "version": 3
   },
   "file_extension": ".py",
   "mimetype": "text/x-python",
   "name": "python",
   "nbconvert_exporter": "python",
   "pygments_lexer": "ipython3",
   "version": "3.7.5"
  }
 },
 "nbformat": 4,
 "nbformat_minor": 2
}
