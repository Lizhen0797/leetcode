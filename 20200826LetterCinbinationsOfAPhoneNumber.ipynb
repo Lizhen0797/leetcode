{
 "cells": [
  {
   "cell_type": "raw",
   "metadata": {},
   "source": [
    "给定一个仅包含数字 2-9 的字符串，返回所有它能表示的字母组合。\n",
    "\n",
    "给出数字到字母的映射如下（与电话按键相同）。注意 1 不对应任何字母。\n",
    "\n",
    "\n",
    "\n",
    "示例:\n",
    "\n",
    "输入：\"23\"\n",
    "输出：[\"ad\", \"ae\", \"af\", \"bd\", \"be\", \"bf\", \"cd\", \"ce\", \"cf\"].\n",
    "\n",
    "来源：力扣（LeetCode）\n",
    "链接：https://leetcode-cn.com/problems/letter-combinations-of-a-phone-number\n",
    "著作权归领扣网络所有。商业转载请联系官方授权，非商业转载请注明出处。"
   ]
  },
  {
   "cell_type": "code",
   "execution_count": 1,
   "metadata": {},
   "outputs": [],
   "source": [
    "def letterCombinations(digits):\n",
    "    \"\"\"\n",
    "    :type digits: str\n",
    "    :rtype: List[str]\n",
    "    \"\"\"\n",
    "    if not digits:\n",
    "        return []\n",
    "\n",
    "    phoneMap = {\n",
    "        \"2\": \"abc\",\n",
    "        \"3\": \"def\",\n",
    "        \"4\": \"ghi\",\n",
    "        \"5\": \"jkl\",\n",
    "        \"6\": \"mno\",\n",
    "        \"7\": \"pqrs\",\n",
    "        \"8\": \"tuv\",\n",
    "        \"9\": \"wxyz\",\n",
    "    }\n",
    "\n",
    "    def backtrack(index):\n",
    "        if index == len(digits):\n",
    "            combinations.append(\"\".join(combination))\n",
    "        else:\n",
    "            digit = digits[index]\n",
    "            for letter in phoneMap[digit]:\n",
    "                combination.append(letter)\n",
    "                backtrack(index + 1)\n",
    "                combination.pop()\n",
    "\n",
    "    combination = []\n",
    "    combinations = []\n",
    "    backtrack(0)\n",
    "    return combinations"
   ]
  },
  {
   "cell_type": "code",
   "execution_count": null,
   "metadata": {},
   "outputs": [],
   "source": []
  }
 ],
 "metadata": {
  "kernelspec": {
   "display_name": "Python 3",
   "language": "python",
   "name": "python3"
  },
  "language_info": {
   "codemirror_mode": {
    "name": "ipython",
    "version": 3
   },
   "file_extension": ".py",
   "mimetype": "text/x-python",
   "name": "python",
   "nbconvert_exporter": "python",
   "pygments_lexer": "ipython3",
   "version": "3.7.5"
  }
 },
 "nbformat": 4,
 "nbformat_minor": 2
}
