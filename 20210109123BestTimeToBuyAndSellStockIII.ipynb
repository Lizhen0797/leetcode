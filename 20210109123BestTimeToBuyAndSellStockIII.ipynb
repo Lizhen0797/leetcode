{
 "cells": [
  {
   "cell_type": "raw",
   "metadata": {},
   "source": [
    "给定一个数组，它的第 i 个元素是一支给定的股票在第 i 天的价格。\n",
    "\n",
    "设计一个算法来计算你所能获取的最大利润。你最多可以完成 两笔 交易。\n",
    "\n",
    "注意：你不能同时参与多笔交易（你必须在再次购买前出售掉之前的股票）。\n",
    "\n",
    " \n",
    "\n",
    "示例 1:\n",
    "\n",
    "输入：prices = [3,3,5,0,0,3,1,4]\n",
    "输出：6\n",
    "解释：在第 4 天（股票价格 = 0）的时候买入，在第 6 天（股票价格 = 3）的时候卖出，这笔交易所能获得利润 = 3-0 = 3 。\n",
    "     随后，在第 7 天（股票价格 = 1）的时候买入，在第 8 天 （股票价格 = 4）的时候卖出，这笔交易所能获得利润 = 4-1 = 3 。\n",
    "示例 2：\n",
    "\n",
    "输入：prices = [1,2,3,4,5]\n",
    "输出：4\n",
    "解释：在第 1 天（股票价格 = 1）的时候买入，在第 5 天 （股票价格 = 5）的时候卖出, 这笔交易所能获得利润 = 5-1 = 4 。   \n",
    "     注意你不能在第 1 天和第 2 天接连购买股票，之后再将它们卖出。   \n",
    "     因为这样属于同时参与了多笔交易，你必须在再次购买前出售掉之前的股票。\n",
    "示例 3：\n",
    "\n",
    "输入：prices = [7,6,4,3,1] \n",
    "输出：0 \n",
    "解释：在这个情况下, 没有交易完成, 所以最大利润为 0。\n",
    "示例 4：\n",
    "\n",
    "输入：prices = [1]\n",
    "输出：0"
   ]
  },
  {
   "cell_type": "code",
   "execution_count": 1,
   "metadata": {},
   "outputs": [],
   "source": [
    "def maxProfit(prices):\n",
    "    \"\"\"\n",
    "    :type prices: List[int]\n",
    "    :rtype: int\n",
    "    \"\"\"\n",
    "    if len(prices) < 2:\n",
    "        return 0\n",
    "    dp = [ [[0] *2 for _ in range(3)] for _ in range(len(prices))]\n",
    "    #第二维为买入次数，在买入时加1\n",
    "    dp[0][1][1] = -prices[0]\n",
    "    dp[0][2][1] = float('-inf')\n",
    "    for i in range(1, len(prices)):\n",
    "        # 此时的状态为交易了一次 此时手中无股票 可能由上一次 和 此次卖出\n",
    "        dp[i][1][0] = max(dp[i-1][1][0], dp[i-1][1][1] + prices[i])\n",
    "        dp[i][1][1] = max(dp[i-1][1][1], -prices[i])\n",
    "        # 此时的状态为交易了一次 此时手中无股票 可能由上一次 和 此次卖出\n",
    "        dp[i][2][0] = max(dp[i-1][2][0], dp[i-1][2][1] + prices[i])\n",
    "        dp[i][2][1] = max(dp[i-1][2][1], dp[i-1][1][0] - prices[i])\n",
    "    return max(dp[-1][1][0], dp[-1][2][0])"
   ]
  },
  {
   "cell_type": "code",
   "execution_count": null,
   "metadata": {},
   "outputs": [],
   "source": []
  }
 ],
 "metadata": {
  "kernelspec": {
   "display_name": "Python 3",
   "language": "python",
   "name": "python3"
  },
  "language_info": {
   "codemirror_mode": {
    "name": "ipython",
    "version": 3
   },
   "file_extension": ".py",
   "mimetype": "text/x-python",
   "name": "python",
   "nbconvert_exporter": "python",
   "pygments_lexer": "ipython3",
   "version": "3.7.4"
  }
 },
 "nbformat": 4,
 "nbformat_minor": 2
}
