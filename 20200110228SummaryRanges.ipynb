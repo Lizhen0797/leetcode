{
 "cells": [
  {
   "cell_type": "raw",
   "metadata": {},
   "source": [
    "给定一个无重复元素的有序整数数组 nums 。\n",
    "\n",
    "返回 恰好覆盖数组中所有数字 的 最小有序 区间范围列表。也就是说，nums 的每个元素都恰好被某个区间范围所覆盖，并且不存在属于某个范围但不属于 nums 的数字 x 。\n",
    "\n",
    "列表中的每个区间范围 [a,b] 应该按如下格式输出：\n",
    "\n",
    "\"a->b\" ，如果 a != b\n",
    "\"a\" ，如果 a == b\n",
    " \n",
    "\n",
    "示例 1：\n",
    "\n",
    "输入：nums = [0,1,2,4,5,7]\n",
    "输出：[\"0->2\",\"4->5\",\"7\"]\n",
    "解释：区间范围是：\n",
    "[0,2] --> \"0->2\"\n",
    "[4,5] --> \"4->5\"\n",
    "[7,7] --> \"7\"\n",
    "示例 2：\n",
    "\n",
    "输入：nums = [0,2,3,4,6,8,9]\n",
    "输出：[\"0\",\"2->4\",\"6\",\"8->9\"]\n",
    "解释：区间范围是：\n",
    "[0,0] --> \"0\"\n",
    "[2,4] --> \"2->4\"\n",
    "[6,6] --> \"6\"\n",
    "[8,9] --> \"8->9\"\n",
    "示例 3：\n",
    "\n",
    "输入：nums = []\n",
    "输出：[]\n",
    "示例 4：\n",
    "\n",
    "输入：nums = [-1]\n",
    "输出：[\"-1\"]\n",
    "示例 5：\n",
    "\n",
    "输入：nums = [0]\n",
    "输出：[\"0\"]"
   ]
  },
  {
   "cell_type": "code",
   "execution_count": 1,
   "metadata": {},
   "outputs": [],
   "source": [
    "def summaryRanges(nums):\n",
    "    \"\"\"\n",
    "    :type nums: List[int]\n",
    "    :rtype: List[str]\n",
    "    \"\"\"\n",
    "    n = 0\n",
    "    res = []\n",
    "    while n < len(nums):\n",
    "        if n+1 < len(nums) and nums[n]+1 == nums[n+1]:\n",
    "            m = n\n",
    "            while n+1 < len(nums) and nums[n]+1 == nums[n+1]:\n",
    "                n += 1\n",
    "            res.append(\"{}->{}\".format(nums[m],nums[n]))\n",
    "        else:\n",
    "            res.append(str(nums[n]))\n",
    "        n +=1\n",
    "    return res"
   ]
  },
  {
   "cell_type": "code",
   "execution_count": null,
   "metadata": {},
   "outputs": [],
   "source": []
  }
 ],
 "metadata": {
  "kernelspec": {
   "display_name": "Python 3",
   "language": "python",
   "name": "python3"
  },
  "language_info": {
   "codemirror_mode": {
    "name": "ipython",
    "version": 3
   },
   "file_extension": ".py",
   "mimetype": "text/x-python",
   "name": "python",
   "nbconvert_exporter": "python",
   "pygments_lexer": "ipython3",
   "version": "3.7.4"
  }
 },
 "nbformat": 4,
 "nbformat_minor": 2
}
