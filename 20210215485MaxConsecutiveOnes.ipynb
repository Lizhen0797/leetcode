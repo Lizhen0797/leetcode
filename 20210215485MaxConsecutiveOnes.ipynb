{
 "cells": [
  {
   "cell_type": "raw",
   "metadata": {},
   "source": [
    "给定一个二进制数组， 计算其中最大连续1的个数。\n",
    "\n",
    "示例 1:\n",
    "\n",
    "输入: [1,1,0,1,1,1]\n",
    "输出: 3\n",
    "解释: 开头的两位和最后的三位都是连续1，所以最大连续1的个数是 3.\n",
    "注意：\n",
    "\n",
    "输入的数组只包含 0 和1。\n",
    "输入数组的长度是正整数，且不超过 10,000。"
   ]
  },
  {
   "cell_type": "code",
   "execution_count": 6,
   "metadata": {},
   "outputs": [],
   "source": [
    "def findMaxConsecutiveOnes(nums):\n",
    "    count = max_count = 0\n",
    "    for num in nums:\n",
    "        if num == 1:\n",
    "            count += 1\n",
    "        else:\n",
    "            max_count = max(count, max_count)\n",
    "            count = 0\n",
    "    max_count = max(count, max_count)\n",
    "    return max_count"
   ]
  },
  {
   "cell_type": "code",
   "execution_count": 7,
   "metadata": {},
   "outputs": [
    {
     "data": {
      "text/plain": [
       "2"
      ]
     },
     "execution_count": 7,
     "metadata": {},
     "output_type": "execute_result"
    }
   ],
   "source": [
    "findMaxConsecutiveOnes([1,0,1,1,0,1])"
   ]
  },
  {
   "cell_type": "code",
   "execution_count": null,
   "metadata": {},
   "outputs": [],
   "source": []
  }
 ],
 "metadata": {
  "kernelspec": {
   "display_name": "Python 3",
   "language": "python",
   "name": "python3"
  },
  "language_info": {
   "codemirror_mode": {
    "name": "ipython",
    "version": 3
   },
   "file_extension": ".py",
   "mimetype": "text/x-python",
   "name": "python",
   "nbconvert_exporter": "python",
   "pygments_lexer": "ipython3",
   "version": "3.7.4"
  }
 },
 "nbformat": 4,
 "nbformat_minor": 2
}
