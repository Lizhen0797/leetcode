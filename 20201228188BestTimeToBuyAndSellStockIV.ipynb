{
 "cells": [
  {
   "cell_type": "raw",
   "metadata": {},
   "source": [
    "给定一个整数数组 prices ，它的第 i 个元素 prices[i] 是一支给定的股票在第 i 天的价格。\n",
    "\n",
    "设计一个算法来计算你所能获取的最大利润。你最多可以完成 k 笔交易。\n",
    "\n",
    "注意：你不能同时参与多笔交易（你必须在再次购买前出售掉之前的股票）。\n",
    "\n",
    " \n",
    "\n",
    "示例 1：\n",
    "\n",
    "输入：k = 2, prices = [2,4,1]\n",
    "输出：2\n",
    "解释：在第 1 天 (股票价格 = 2) 的时候买入，在第 2 天 (股票价格 = 4) 的时候卖出，这笔交易所能获得利润 = 4-2 = 2 。\n",
    "示例 2：\n",
    "\n",
    "输入：k = 2, prices = [3,2,6,5,0,3]\n",
    "输出：7\n",
    "解释：在第 2 天 (股票价格 = 2) 的时候买入，在第 3 天 (股票价格 = 6) 的时候卖出, 这笔交易所能获得利润 = 6-2 = 4 。\n",
    "     随后，在第 5 天 (股票价格 = 0) 的时候买入，在第 6 天 (股票价格 = 3) 的时候卖出, 这笔交易所能获得利润 = 3-0 = 3 。\n"
   ]
  },
  {
   "cell_type": "code",
   "execution_count": 1,
   "metadata": {},
   "outputs": [],
   "source": [
    " def maxProfit(self, k, prices):\n",
    "        \"\"\"\n",
    "        :type k: int\n",
    "        :type prices: List[int]\n",
    "        :rtype: int\n",
    "        \"\"\"\n",
    "        if not prices:\n",
    "            return 0\n",
    "        if k > len(prices)//2:\n",
    "            dp = [ [0] * 2 for _ in range(len(prices))]\n",
    "            dp[0][0] = 0\n",
    "            dp[0][1] = -prices[0]\n",
    "            for i in range(1, len(prices)):\n",
    "                dp[i][0] = max(dp[i-1][0], dp[i-1][1]+prices[i])\n",
    "                dp[i][1] = max(dp[i-1][1], dp[i-1][0]-prices[i])\n",
    "            return dp[-1][0]\n",
    "        \n",
    "        dp = [[ [0] *2 for _ in range(k+1)] for _ in range(len(prices))]\n",
    "        for i in range (k+1):\n",
    "            dp[0][i][1] = -prices[0]\n",
    "        for i in range(1, len(prices)):\n",
    "            for j in range(1, k+1):\n",
    "                dp[i][j][0] = max(dp[i-1][j][0], dp[i-1][j-1][1] + prices[i])\n",
    "                dp[i][j-1][1] = max(dp[i-1][j-1][1], dp[i-1][j-1][0] - prices[i])\n",
    "        return dp[-1][-1][0]"
   ]
  },
  {
   "cell_type": "code",
   "execution_count": null,
   "metadata": {},
   "outputs": [],
   "source": []
  }
 ],
 "metadata": {
  "kernelspec": {
   "display_name": "Python 3",
   "language": "python",
   "name": "python3"
  },
  "language_info": {
   "codemirror_mode": {
    "name": "ipython",
    "version": 3
   },
   "file_extension": ".py",
   "mimetype": "text/x-python",
   "name": "python",
   "nbconvert_exporter": "python",
   "pygments_lexer": "ipython3",
   "version": "3.7.5"
  }
 },
 "nbformat": 4,
 "nbformat_minor": 2
}
