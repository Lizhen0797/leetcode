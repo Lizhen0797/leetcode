{
 "cells": [
  {
   "cell_type": "raw",
   "metadata": {},
   "source": [
    "给定一个数组，将数组中的元素向右移动 k 个位置，其中 k 是非负数。\n",
    "\n",
    "示例 1:\n",
    "\n",
    "输入: [1,2,3,4,5,6,7] 和 k = 3\n",
    "输出: [5,6,7,1,2,3,4]\n",
    "解释:\n",
    "向右旋转 1 步: [7,1,2,3,4,5,6]\n",
    "向右旋转 2 步: [6,7,1,2,3,4,5]\n",
    "向右旋转 3 步: [5,6,7,1,2,3,4]\n",
    "示例 2:\n",
    "\n",
    "输入: [-1,-100,3,99] 和 k = 2\n",
    "输出: [3,99,-1,-100]\n",
    "解释: \n",
    "向右旋转 1 步: [99,-1,-100,3]\n",
    "向右旋转 2 步: [3,99,-1,-100]\n",
    "说明:\n",
    "\n",
    "尽可能想出更多的解决方案，至少有三种不同的方法可以解决这个问题。\n",
    "要求使用空间复杂度为 O(1) 的 原地 算法。"
   ]
  },
  {
   "cell_type": "code",
   "execution_count": 4,
   "metadata": {},
   "outputs": [],
   "source": [
    "def rotate(nums, k):\n",
    "    \"\"\"\n",
    "    :type nums: List[int]\n",
    "    :type k: int\n",
    "    :rtype: None Do not return anything, modify nums in-place instead.\n",
    "    \"\"\"\n",
    "    length = len(nums)\n",
    "    k = k % length\n",
    "    if k == 0:\n",
    "        return nums\n",
    "    res = []\n",
    "    for i in range(k, 0, -1):\n",
    "        res.append(nums[length-i])\n",
    "    #print(res)\n",
    "    for i in range(0, length-k):\n",
    "        res.append(nums[i])\n",
    "    print(res)\n",
    "    return res"
   ]
  },
  {
   "cell_type": "code",
   "execution_count": 5,
   "metadata": {},
   "outputs": [],
   "source": [
    "def rotate(nums, k):\n",
    "    \"\"\"\n",
    "    :type nums: List[int]\n",
    "    :type k: int\n",
    "    :rtype: None Do not return anything, modify nums in-place instead.\n",
    "    \"\"\"\n",
    "    length = len(nums)\n",
    "    k = k % length\n",
    "    if k == 0:\n",
    "        return nums\n",
    "    nums[:] = nums[::-1]\n",
    "    nums[:k] = nums[:k][::-1]\n",
    "    nums[k:] = nums[k:][::-1]"
   ]
  }
 ],
 "metadata": {
  "kernelspec": {
   "display_name": "Python 3",
   "language": "python",
   "name": "python3"
  },
  "language_info": {
   "codemirror_mode": {
    "name": "ipython",
    "version": 3
   },
   "file_extension": ".py",
   "mimetype": "text/x-python",
   "name": "python",
   "nbconvert_exporter": "python",
   "pygments_lexer": "ipython3",
   "version": "3.7.4"
  }
 },
 "nbformat": 4,
 "nbformat_minor": 2
}
