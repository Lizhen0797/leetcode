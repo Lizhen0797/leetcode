{
 "cells": [
  {
   "cell_type": "raw",
   "metadata": {},
   "source": [
    "在一个由小写字母构成的字符串 s 中，包含由一些连续的相同字符所构成的分组。\n",
    "\n",
    "例如，在字符串 s = \"abbxxxxzyy\" 中，就含有 \"a\", \"bb\", \"xxxx\", \"z\" 和 \"yy\" 这样的一些分组。\n",
    "\n",
    "分组可以用区间 [start, end] 表示，其中 start 和 end 分别表示该分组的起始和终止位置的下标。上例中的 \"xxxx\" 分组用区间表示为 [3,6] 。\n",
    "\n",
    "我们称所有包含大于或等于三个连续字符的分组为 较大分组 。\n",
    "\n",
    "找到每一个 较大分组 的区间，按起始位置下标递增顺序排序后，返回结果。\n",
    "\n",
    " \n",
    "\n",
    "示例 1：\n",
    "\n",
    "输入：s = \"abbxxxxzzy\"\n",
    "输出：[[3,6]]\n",
    "解释：\"xxxx\" 是一个起始于 3 且终止于 6 的较大分组。\n",
    "示例 2：\n",
    "\n",
    "输入：s = \"abc\"\n",
    "输出：[]\n",
    "解释：\"a\",\"b\" 和 \"c\" 均不是符合要求的较大分组。\n",
    "示例 3：\n",
    "\n",
    "输入：s = \"abcdddeeeeaabbbcd\"\n",
    "输出：[[3,5],[6,9],[12,14]]\n",
    "解释：较大分组为 \"ddd\", \"eeee\" 和 \"bbb\"\n",
    "示例 4：\n",
    "\n",
    "输入：s = \"aba\"\n",
    "输出：[]"
   ]
  },
  {
   "cell_type": "code",
   "execution_count": 1,
   "metadata": {},
   "outputs": [],
   "source": [
    "def largeGroupPositions(s):\n",
    "    \"\"\"\n",
    "    :type s: str\n",
    "    :rtype: List[List[int]]\n",
    "    \"\"\"\n",
    "    if len(s) < 3:\n",
    "        return []\n",
    "    res = []\n",
    "    begin = 0\n",
    "    end = 0\n",
    "    last = s[0]\n",
    "    for i in range(1, len(s)):\n",
    "        if s[i] == last:\n",
    "            end = i\n",
    "        else:\n",
    "            #print(s[i], begin,end)\n",
    "            if end - begin >= 2:\n",
    "                res.append([begin, end])\n",
    "            last = s[i]\n",
    "            begin = end = i\n",
    "    if end - begin >=2:\n",
    "        res.append([begin,end])\n",
    "    return res"
   ]
  },
  {
   "cell_type": "code",
   "execution_count": null,
   "metadata": {},
   "outputs": [],
   "source": []
  }
 ],
 "metadata": {
  "kernelspec": {
   "display_name": "Python 3",
   "language": "python",
   "name": "python3"
  },
  "language_info": {
   "codemirror_mode": {
    "name": "ipython",
    "version": 3
   },
   "file_extension": ".py",
   "mimetype": "text/x-python",
   "name": "python",
   "nbconvert_exporter": "python",
   "pygments_lexer": "ipython3",
   "version": "3.7.4"
  }
 },
 "nbformat": 4,
 "nbformat_minor": 2
}
