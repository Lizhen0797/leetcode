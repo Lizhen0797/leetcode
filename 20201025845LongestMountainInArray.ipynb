{
 "cells": [
  {
   "cell_type": "raw",
   "metadata": {},
   "source": [
    "我们把数组 A 中符合下列属性的任意连续子数组 B 称为 “山脉”：\n",
    "\n",
    "B.length >= 3\n",
    "存在 0 < i < B.length - 1 使得 B[0] < B[1] < ... B[i-1] < B[i] > B[i+1] > ... > B[B.length - 1]\n",
    "（注意：B 可以是 A 的任意子数组，包括整个数组 A。）\n",
    "\n",
    "给出一个整数数组 A，返回最长 “山脉” 的长度。\n",
    "\n",
    "如果不含有 “山脉” 则返回 0。\n",
    "\n",
    " \n",
    "\n",
    "示例 1：\n",
    "\n",
    "输入：[2,1,4,7,3,2,5]\n",
    "输出：5\n",
    "解释：最长的 “山脉” 是 [1,4,7,3,2]，长度为 5。\n",
    "示例 2：\n",
    "\n",
    "输入：[2,2,2]\n",
    "输出：0\n",
    "解释：不含 “山脉”。"
   ]
  },
  {
   "cell_type": "code",
   "execution_count": 1,
   "metadata": {},
   "outputs": [],
   "source": [
    "def longestMountain(A):\n",
    "    \"\"\"\n",
    "    :type A: List[int]\n",
    "    :rtype: int\n",
    "    \"\"\"\n",
    "    if not A:\n",
    "        return 0\n",
    "\n",
    "    n = len(A)\n",
    "    left = [0] * n\n",
    "    for i in range(1, n):\n",
    "        left[i] = (left[i - 1] + 1 if A[i - 1] < A[i] else 0)\n",
    "\n",
    "    right = [0] * n\n",
    "    for i in range(n - 2, -1, -1):\n",
    "        right[i] = (right[i + 1] + 1 if A[i + 1] < A[i] else 0)\n",
    "\n",
    "    ans = 0\n",
    "    for i in range(n):\n",
    "        if left[i] > 0 and right[i] > 0:\n",
    "            ans = max(ans, left[i] + right[i] + 1)\n",
    "\n",
    "    return ans"
   ]
  },
  {
   "cell_type": "code",
   "execution_count": null,
   "metadata": {},
   "outputs": [],
   "source": []
  }
 ],
 "metadata": {
  "kernelspec": {
   "display_name": "Python 3",
   "language": "python",
   "name": "python3"
  },
  "language_info": {
   "codemirror_mode": {
    "name": "ipython",
    "version": 3
   },
   "file_extension": ".py",
   "mimetype": "text/x-python",
   "name": "python",
   "nbconvert_exporter": "python",
   "pygments_lexer": "ipython3",
   "version": "3.7.5"
  }
 },
 "nbformat": 4,
 "nbformat_minor": 2
}
