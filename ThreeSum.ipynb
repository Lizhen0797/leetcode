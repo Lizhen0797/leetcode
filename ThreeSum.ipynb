{
 "cells": [
  {
   "cell_type": "markdown",
   "metadata": {},
   "source": [
    "给你一个包含 n 个整数的数组 nums，判断 nums 中是否存在三个元素 a，b，c ，使得 a + b + c = 0 ？请你找出所有满足条件且不重复的三元组。\n",
    "\n",
    "注意：答案中不可以包含重复的三元组。\n",
    "\n",
    " \n",
    "\n",
    "示例：\n",
    "\n",
    "给定数组 nums = [-1, 0, 1, 2, -1, -4]，\n",
    "\n",
    "满足要求的三元组集合为：\n",
    "[\n",
    "  [-1, 0, 1],\n",
    "  [-1, -1, 2]\n",
    "]"
   ]
  },
  {
   "cell_type": "markdown",
   "metadata": {},
   "source": [
    "排序 + 双指针\n",
    "本题的难点在于如何去除重复解。\n",
    "\n",
    "算法流程：\n",
    "特判，对于数组长度 nn，如果数组为 nullnull 或者数组长度小于 33，返回 [][]。\n",
    "对数组进行排序。\n",
    "遍历排序后数组：\n",
    "若 nums[i]>0nums[i]>0：因为已经排序好，所以后面不可能有三个数加和等于 00，直接返回结果。\n",
    "对于重复元素：跳过，避免出现重复解\n",
    "令左指针 L=i+1L=i+1，右指针 R=n-1R=n−1，当 L<RL<R 时，执行循环：\n",
    "当 nums[i]+nums[L]+nums[R]==0nums[i]+nums[L]+nums[R]==0，执行循环，判断左界和右界是否和下一位置重复，去除重复解。并同时将 L,RL,R 移到下一位置，寻找新的解\n",
    "若和大于 0，说明 nums[R]nums[R] 太大，RR 左移\n",
    "若和小于 0，说明 nums[L]nums[L] 太小，LL 右移"
   ]
  },
  {
   "cell_type": "code",
   "execution_count": 1,
   "metadata": {},
   "outputs": [],
   "source": [
    "nums = [3,2,1]"
   ]
  },
  {
   "cell_type": "code",
   "execution_count": 2,
   "metadata": {},
   "outputs": [
    {
     "name": "stdout",
     "output_type": "stream",
     "text": [
      "[1, 2, 3]\n"
     ]
    }
   ],
   "source": [
    "nums.sort()\n",
    "print(nums)"
   ]
  },
  {
   "cell_type": "code",
   "execution_count": 4,
   "metadata": {},
   "outputs": [
    {
     "name": "stdout",
     "output_type": "stream",
     "text": [
      "[3, 2, 1]\n",
      "[1, 2, 3]\n"
     ]
    }
   ],
   "source": [
    "nums = [3,2,1]\n",
    "sorted(nums)\n",
    "print(nums)\n",
    "nums = sorted(nums)\n",
    "print(nums)"
   ]
  },
  {
   "cell_type": "code",
   "execution_count": 10,
   "metadata": {},
   "outputs": [],
   "source": [
    "def threeSum(nums):\n",
    "    n = len(nums)\n",
    "    res = []\n",
    "    if (not nums or n<3):\n",
    "        return []\n",
    "    nums.sort()\n",
    "    for i in range(n):\n",
    "        if(nums[i] > 0):\n",
    "            return res\n",
    "        if(i>0 and nums[i] == nums[i-1]):\n",
    "            continue\n",
    "        L = i+1\n",
    "        R = n-1\n",
    "        while(L<R):\n",
    "            if(nums[i] + nums[L] + nums[R]==0):\n",
    "                res.append([nums[i], nums[L], nums[R]])\n",
    "                while(L<R and nums[L] == nums[L+1]):\n",
    "                    L += 1\n",
    "                while(L<R and nums[R] == nums[R-1]):\n",
    "                    R = R-1\n",
    "                L += 1\n",
    "                R -= 1\n",
    "            elif(nums[i] + nums[L] + nums[R] > 0):\n",
    "                R -= 1\n",
    "            else:\n",
    "                L += 1\n",
    "    return res"
   ]
  },
  {
   "cell_type": "code",
   "execution_count": 14,
   "metadata": {},
   "outputs": [
    {
     "data": {
      "text/plain": [
       "[[-1, -1, 2], [-1, 0, 1]]"
      ]
     },
     "execution_count": 14,
     "metadata": {},
     "output_type": "execute_result"
    }
   ],
   "source": [
    "threeSum([-1, 0, 1, 2, -1, -4])"
   ]
  },
  {
   "cell_type": "code",
   "execution_count": null,
   "metadata": {},
   "outputs": [],
   "source": []
  }
 ],
 "metadata": {
  "kernelspec": {
   "display_name": "Python 3",
   "language": "python",
   "name": "python3"
  },
  "language_info": {
   "codemirror_mode": {
    "name": "ipython",
    "version": 3
   },
   "file_extension": ".py",
   "mimetype": "text/x-python",
   "name": "python",
   "nbconvert_exporter": "python",
   "pygments_lexer": "ipython3",
   "version": "3.7.5"
  }
 },
 "nbformat": 4,
 "nbformat_minor": 2
}
