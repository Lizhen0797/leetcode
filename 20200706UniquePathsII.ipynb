{
 "cells": [
  {
   "cell_type": "markdown",
   "metadata": {},
   "source": [
    "一个机器人位于一个 m x n 网格的左上角 （起始点在下图中标记为“Start” ）。\n",
    "\n",
    "机器人每次只能向下或者向右移动一步。机器人试图达到网格的右下角（在下图中标记为“Finish”）。\n",
    "\n",
    "现在考虑网格中有障碍物。那么从左上角到右下角将会有多少条不同的路径？\n",
    "\n",
    "\n",
    "\n",
    "网格中的障碍物和空位置分别用 1 和 0 来表示。\n",
    "\n",
    "说明：m 和 n 的值均不超过 100。\n",
    "\n",
    "示例 1:\n",
    "\n",
    "输入:\n",
    "[\n",
    "  [0,0,0],\n",
    "  [0,1,0],\n",
    "  [0,0,0]\n",
    "]\n",
    "输出: 2\n",
    "解释:\n",
    "3x3 网格的正中间有一个障碍物。\n",
    "从左上角到右下角一共有 2 条不同的路径：\n",
    "1. 向右 -> 向右 -> 向下 -> 向下\n",
    "2. 向下 -> 向下 -> 向右 -> 向右\n"
   ]
  },
  {
   "cell_type": "code",
   "execution_count": 7,
   "metadata": {},
   "outputs": [],
   "source": [
    "def uniquePathsWithObstacles(obstacleGrid):\n",
    "    m = len(obstacleGrid)\n",
    "    n = len(obstacleGrid[0])\n",
    "    \n",
    "    if obstacleGrid[0][0]:\n",
    "        return 0\n",
    "    dp = [[0] * (n+1) for _ in range(m+1)]\n",
    "    print(dp)\n",
    "    dp[1][1]=1\n",
    "    print(dp)\n",
    "    for i in range(1, m+1):\n",
    "        for j in range(1, n+1):\n",
    "            if i==1 and j==1:\n",
    "                continue\n",
    "            if obstacleGrid[i-1][j-1] == 0:\n",
    "                dp[i][i] = dp[i-1][j] + dp[i][j-1]\n",
    "            else:\n",
    "                dp[i][j] = 0\n",
    "    print(dp)\n",
    "    return dp[m][n]"
   ]
  },
  {
   "cell_type": "code",
   "execution_count": 8,
   "metadata": {},
   "outputs": [
    {
     "name": "stdout",
     "output_type": "stream",
     "text": [
      "[[0, 0, 0, 0], [0, 0, 0, 0], [0, 0, 0, 0], [0, 0, 0, 0]]\n",
      "[[0, 0, 0, 0], [0, 1, 0, 0], [0, 0, 0, 0], [0, 0, 0, 0]]\n",
      "[[0, 0, 0, 0], [0, 0, 0, 0], [0, 0, 0, 0], [0, 0, 0, 0]]\n"
     ]
    },
    {
     "data": {
      "text/plain": [
       "0"
      ]
     },
     "execution_count": 8,
     "metadata": {},
     "output_type": "execute_result"
    }
   ],
   "source": [
    "uniquePathsWithObstacles(\n",
    "    [[0,0,0],\n",
    "     [0,1,0],\n",
    "     [0,0,0]]\n",
    ")"
   ]
  },
  {
   "cell_type": "code",
   "execution_count": null,
   "metadata": {},
   "outputs": [],
   "source": []
  }
 ],
 "metadata": {
  "kernelspec": {
   "display_name": "Python 3",
   "language": "python",
   "name": "python3"
  },
  "language_info": {
   "codemirror_mode": {
    "name": "ipython",
    "version": 3
   },
   "file_extension": ".py",
   "mimetype": "text/x-python",
   "name": "python",
   "nbconvert_exporter": "python",
   "pygments_lexer": "ipython3",
   "version": "3.7.5"
  }
 },
 "nbformat": 4,
 "nbformat_minor": 2
}
