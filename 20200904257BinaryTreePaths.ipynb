{
 "cells": [
  {
   "cell_type": "raw",
   "metadata": {},
   "source": [
    "给定一个二叉树，返回所有从根节点到叶子节点的路径。\n",
    "\n",
    "说明: 叶子节点是指没有子节点的节点。\n",
    "\n",
    "示例:\n",
    "\n",
    "输入:\n",
    "\n",
    "   1\n",
    " /   \\\n",
    "2     3\n",
    " \\\n",
    "  5\n",
    "\n",
    "输出: [\"1->2->5\", \"1->3\"]\n",
    "\n",
    "解释: 所有根节点到叶子节点的路径为: 1->2->5, 1->3\n",
    "\n",
    "来源：力扣（LeetCode）\n",
    "链接：https://leetcode-cn.com/problems/binary-tree-paths\n",
    "著作权归领扣网络所有。商业转载请联系官方授权，非商业转载请注明出处。"
   ]
  },
  {
   "cell_type": "code",
   "execution_count": 1,
   "metadata": {},
   "outputs": [],
   "source": [
    "def binaryTreePaths(root):\n",
    "    \"\"\"\n",
    "    :type root: TreeNode\n",
    "    :rtype: List[str]\n",
    "    \"\"\"\n",
    "    def construct_paths(root, path):\n",
    "        if root:\n",
    "            path += str(root.val)\n",
    "            if not root.left and not root.right:  # 当前节点是叶子节点\n",
    "                paths.append(path)  # 把路径加入到答案中\n",
    "            else:\n",
    "                path += '->'  # 当前节点不是叶子节点，继续递归遍历\n",
    "                construct_paths(root.left, path)\n",
    "                construct_paths(root.right, path)\n",
    "\n",
    "    paths = []\n",
    "    construct_paths(root, '')\n",
    "    return paths"
   ]
  },
  {
   "cell_type": "code",
   "execution_count": null,
   "metadata": {},
   "outputs": [],
   "source": []
  }
 ],
 "metadata": {
  "kernelspec": {
   "display_name": "Python 3",
   "language": "python",
   "name": "python3"
  },
  "language_info": {
   "codemirror_mode": {
    "name": "ipython",
    "version": 3
   },
   "file_extension": ".py",
   "mimetype": "text/x-python",
   "name": "python",
   "nbconvert_exporter": "python",
   "pygments_lexer": "ipython3",
   "version": "3.7.5"
  }
 },
 "nbformat": 4,
 "nbformat_minor": 2
}
