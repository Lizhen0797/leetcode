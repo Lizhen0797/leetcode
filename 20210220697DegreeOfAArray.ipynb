{
 "cells": [
  {
   "cell_type": "raw",
   "metadata": {},
   "source": [
    "给定一个非空且只包含非负数的整数数组 nums，数组的度的定义是指数组里任一元素出现频数的最大值。\n",
    "\n",
    "你的任务是在 nums 中找到与 nums 拥有相同大小的度的最短连续子数组，返回其长度。\n",
    "\n",
    " \n",
    "\n",
    "示例 1：\n",
    "\n",
    "输入：[1, 2, 2, 3, 1]\n",
    "输出：2\n",
    "解释：\n",
    "输入数组的度是2，因为元素1和2的出现频数最大，均为2.\n",
    "连续子数组里面拥有相同度的有如下所示:\n",
    "[1, 2, 2, 3, 1], [1, 2, 2, 3], [2, 2, 3, 1], [1, 2, 2], [2, 2, 3], [2, 2]\n",
    "最短连续子数组[2, 2]的长度为2，所以返回2.\n",
    "示例 2：\n",
    "\n",
    "输入：[1,2,2,3,1,4,2]\n",
    "输出：6\n",
    " \n",
    "\n",
    "提示：\n",
    "\n",
    "nums.length 在1到 50,000 区间范围内。\n",
    "nums[i] 是一个在 0 到 49,999 范围内的整数。"
   ]
  },
  {
   "cell_type": "code",
   "execution_count": 3,
   "metadata": {},
   "outputs": [],
   "source": [
    "def findShortestSubArray(nums):\n",
    "    \"\"\"\n",
    "    :type nums: List[int]\n",
    "    :rtype: int\n",
    "    \"\"\"\n",
    "    dic = {}\n",
    "    for num in nums:\n",
    "        if num in dic:\n",
    "            dic[num] += 1\n",
    "        else:\n",
    "            dic[num] = 1\n",
    "    degree = 0\n",
    "    for i in dic.keys():\n",
    "        if degree < dic[i]:\n",
    "            degree = dic[i]\n",
    "    if degree == 1:\n",
    "        return 1\n",
    "    degree_num = []\n",
    "    for i in dic.keys():\n",
    "        if dic[i] == degree:\n",
    "            degree_num.append(i)\n",
    "    start, end = 0, 0\n",
    "    num_length = len(nums) + 1\n",
    "    for i in degree_num:\n",
    "        flag = 1\n",
    "        for j in range(len(nums)):\n",
    "            #不断更新最大下标\n",
    "            if nums[j] == i:\n",
    "                end = j\n",
    "            #记录第一次的下标\n",
    "            if flag == 1:\n",
    "                if nums[j] == i:\n",
    "                    start = j\n",
    "                    flag -= 1\n",
    "        num_length = min(num_length, end-start+1)\n",
    "    return num_length"
   ]
  },
  {
   "cell_type": "code",
   "execution_count": 4,
   "metadata": {},
   "outputs": [
    {
     "data": {
      "text/plain": [
       "2"
      ]
     },
     "execution_count": 4,
     "metadata": {},
     "output_type": "execute_result"
    }
   ],
   "source": [
    "findShortestSubArray([1, 2, 2, 3, 1])"
   ]
  },
  {
   "cell_type": "code",
   "execution_count": null,
   "metadata": {},
   "outputs": [],
   "source": []
  }
 ],
 "metadata": {
  "kernelspec": {
   "display_name": "Python 3",
   "language": "python",
   "name": "python3"
  },
  "language_info": {
   "codemirror_mode": {
    "name": "ipython",
    "version": 3
   },
   "file_extension": ".py",
   "mimetype": "text/x-python",
   "name": "python",
   "nbconvert_exporter": "python",
   "pygments_lexer": "ipython3",
   "version": "3.7.4"
  }
 },
 "nbformat": 4,
 "nbformat_minor": 2
}
