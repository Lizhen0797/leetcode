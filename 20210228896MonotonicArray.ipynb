{
 "cells": [
  {
   "cell_type": "raw",
   "metadata": {},
   "source": [
    "如果数组是单调递增或单调递减的，那么它是单调的。\n",
    "\n",
    "如果对于所有 i <= j，A[i] <= A[j]，那么数组 A 是单调递增的。 如果对于所有 i <= j，A[i]> = A[j]，那么数组 A 是单调递减的。\n",
    "\n",
    "当给定的数组 A 是单调数组时返回 true，否则返回 false。\n",
    "\n",
    " \n",
    "\n",
    "示例 1：\n",
    "\n",
    "输入：[1,2,2,3]\n",
    "输出：true\n",
    "示例 2：\n",
    "\n",
    "输入：[6,5,4,4]\n",
    "输出：true\n",
    "示例 3：\n",
    "\n",
    "输入：[1,3,2]\n",
    "输出：false\n",
    "示例 4：\n",
    "\n",
    "输入：[1,2,4,5]\n",
    "输出：true\n",
    "示例 5：\n",
    "\n",
    "输入：[1,1,1]\n",
    "输出：true\n",
    " \n",
    "\n",
    "提示：\n",
    "\n",
    "1 <= A.length <= 50000\n",
    "-100000 <= A[i] <= 100000`"
   ]
  },
  {
   "cell_type": "code",
   "execution_count": 1,
   "metadata": {},
   "outputs": [],
   "source": [
    "def isMonotonic(A):\n",
    "    \"\"\"\n",
    "    :type A: List[int]\n",
    "    :rtype: bool\n",
    "    \"\"\"\n",
    "    increase = True\n",
    "    decrease = True\n",
    "    for i in range(len(A)-1):\n",
    "        if A[i] < A[i+1]:\n",
    "            decrease = False\n",
    "        if A[i] > A[i+1]:\n",
    "            increase = False\n",
    "    return increase or decrease"
   ]
  },
  {
   "cell_type": "code",
   "execution_count": null,
   "metadata": {},
   "outputs": [],
   "source": []
  }
 ],
 "metadata": {
  "kernelspec": {
   "display_name": "Python 3",
   "language": "python",
   "name": "python3"
  },
  "language_info": {
   "codemirror_mode": {
    "name": "ipython",
    "version": 3
   },
   "file_extension": ".py",
   "mimetype": "text/x-python",
   "name": "python",
   "nbconvert_exporter": "python",
   "pygments_lexer": "ipython3",
   "version": "3.7.5"
  }
 },
 "nbformat": 4,
 "nbformat_minor": 2
}
