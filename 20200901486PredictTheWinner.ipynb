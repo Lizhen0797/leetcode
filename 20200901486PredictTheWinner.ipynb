{
 "cells": [
  {
   "cell_type": "raw",
   "metadata": {},
   "source": [
    "给定一个表示分数的非负整数数组。 玩家 1 从数组任意一端拿取一个分数，随后玩家 2 继续从剩余数组任意一端拿取分数，然后玩家 1 拿，…… 。每次一个玩家只能拿取一个分数，分数被拿取之后不再可取。直到没有剩余分数可取时游戏结束。最终获得分数总和最多的玩家获胜。\n",
    "\n",
    "给定一个表示分数的数组，预测玩家1是否会成为赢家。你可以假设每个玩家的玩法都会使他的分数最大化。\n",
    "\n",
    " \n",
    "\n",
    "示例 1：\n",
    "\n",
    "输入：[1, 5, 2]\n",
    "输出：False\n",
    "解释：一开始，玩家1可以从1和2中进行选择。\n",
    "如果他选择 2（或者 1 ），那么玩家 2 可以从 1（或者 2 ）和 5 中进行选择。如果玩家 2 选择了 5 ，那么玩家 1 则只剩下 1（或者 2 ）可选。\n",
    "所以，玩家 1 的最终分数为 1 + 2 = 3，而玩家 2 为 5 。\n",
    "因此，玩家 1 永远不会成为赢家，返回 False 。\n",
    "示例 2：\n",
    "\n",
    "输入：[1, 5, 233, 7]\n",
    "输出：True\n",
    "解释：玩家 1 一开始选择 1 。然后玩家 2 必须从 5 和 7 中进行选择。无论玩家 2 选择了哪个，玩家 1 都可以选择 233 。\n",
    "     最终，玩家 1（234 分）比玩家 2（12 分）获得更多的分数，所以返回 True，表示玩家 1 可以成为赢家。"
   ]
  },
  {
   "cell_type": "code",
   "execution_count": 1,
   "metadata": {},
   "outputs": [],
   "source": [
    "def PredictTheWinner(nums):\n",
    "    \"\"\"\n",
    "    :type nums: List[int]\n",
    "    :rtype: bool\n",
    "    \"\"\"\n",
    "    def total(start, end, turn):\n",
    "        if start == end:\n",
    "            return nums[start] * turn\n",
    "        scoreStart = nums[start] * turn + total(start + 1, end, -turn)\n",
    "        scoreEnd = nums[end] * turn + total(start, end - 1, -turn)\n",
    "        return max(scoreStart * turn, scoreEnd * turn) * turn\n",
    "\n",
    "    return total(0, len(nums) - 1, 1) >= 0"
   ]
  },
  {
   "cell_type": "code",
   "execution_count": null,
   "metadata": {},
   "outputs": [],
   "source": []
  }
 ],
 "metadata": {
  "kernelspec": {
   "display_name": "Python 3",
   "language": "python",
   "name": "python3"
  },
  "language_info": {
   "codemirror_mode": {
    "name": "ipython",
    "version": 3
   },
   "file_extension": ".py",
   "mimetype": "text/x-python",
   "name": "python",
   "nbconvert_exporter": "python",
   "pygments_lexer": "ipython3",
   "version": "3.7.5"
  }
 },
 "nbformat": 4,
 "nbformat_minor": 2
}
