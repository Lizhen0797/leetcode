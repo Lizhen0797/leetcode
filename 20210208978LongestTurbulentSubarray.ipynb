{
 "cells": [
  {
   "cell_type": "raw",
   "metadata": {},
   "source": [
    "当 A 的子数组 A[i], A[i+1], ..., A[j] 满足下列条件时，我们称其为湍流子数组：\n",
    "\n",
    "若 i <= k < j，当 k 为奇数时， A[k] > A[k+1]，且当 k 为偶数时，A[k] < A[k+1]；\n",
    "或 若 i <= k < j，当 k 为偶数时，A[k] > A[k+1] ，且当 k 为奇数时， A[k] < A[k+1]。\n",
    "也就是说，如果比较符号在子数组中的每个相邻元素对之间翻转，则该子数组是湍流子数组。\n",
    "\n",
    "返回 A 的最大湍流子数组的长度。\n",
    "\n",
    " \n",
    "\n",
    "示例 1：\n",
    "\n",
    "输入：[9,4,2,10,7,8,8,1,9]\n",
    "输出：5\n",
    "解释：(A[1] > A[2] < A[3] > A[4] < A[5])\n",
    "示例 2：\n",
    "\n",
    "输入：[4,8,12,16]\n",
    "输出：2\n",
    "示例 3：\n",
    "\n",
    "输入：[100]\n",
    "输出：1"
   ]
  },
  {
   "cell_type": "code",
   "execution_count": 1,
   "metadata": {},
   "outputs": [],
   "source": [
    "def maxTurbulenceSize(arr):\n",
    "    \"\"\"\n",
    "    :type arr: List[int]\n",
    "    :rtype: int\n",
    "    \"\"\"\n",
    "    # dp算法\n",
    "    # n = len(arr)\n",
    "    # up = [1] * n\n",
    "    # down = [1] * n\n",
    "    # res = 1\n",
    "    # for i in range(1, n):\n",
    "    #     if arr[i-1] < arr[i]:\n",
    "    #         up[i] = down[i-1] + 1\n",
    "    #     elif arr[i-1] > arr[i]:\n",
    "    #         down[i] = up[i-1] + 1\n",
    "    #     res = max(res, max(up[i], down[i]))\n",
    "    # return res\n",
    "    n = len(arr)\n",
    "    res = 1\n",
    "    left = right = 0\n",
    "    while right < n-1:\n",
    "        if left == right:\n",
    "            if arr[left] == arr[left +1]:\n",
    "                left += 1 \n",
    "            right += 1\n",
    "        else:\n",
    "            if arr[right - 1] < arr[right] and arr[right] > arr[right + 1]:\n",
    "                right += 1\n",
    "            elif arr[right -1] > arr[right] and arr[right] < arr[right + 1]:\n",
    "                right += 1\n",
    "            else:\n",
    "                left = right\n",
    "        res = max(res, right - left + 1)\n",
    "    return res"
   ]
  },
  {
   "cell_type": "code",
   "execution_count": null,
   "metadata": {},
   "outputs": [],
   "source": []
  }
 ],
 "metadata": {
  "kernelspec": {
   "display_name": "Python 3",
   "language": "python",
   "name": "python3"
  },
  "language_info": {
   "codemirror_mode": {
    "name": "ipython",
    "version": 3
   },
   "file_extension": ".py",
   "mimetype": "text/x-python",
   "name": "python",
   "nbconvert_exporter": "python",
   "pygments_lexer": "ipython3",
   "version": "3.7.4"
  }
 },
 "nbformat": 4,
 "nbformat_minor": 2
}
