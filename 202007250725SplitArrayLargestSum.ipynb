{
 "cells": [
  {
   "cell_type": "raw",
   "metadata": {},
   "source": [
    "给定一个非负整数数组和一个整数 m，你需要将这个数组分成 m 个非空的连续子数组。设计一个算法使得这 m 个子数组各自和的最大值最小。\n",
    "\n",
    "注意:\n",
    "数组长度 n 满足以下条件:\n",
    "\n",
    "1 ≤ n ≤ 1000\n",
    "1 ≤ m ≤ min(50, n)\n",
    "示例:\n",
    "\n",
    "输入:\n",
    "nums = [7,2,5,10,8]\n",
    "m = 2\n",
    "\n",
    "输出:\n",
    "18"
   ]
  },
  {
   "cell_type": "code",
   "execution_count": 3,
   "metadata": {},
   "outputs": [],
   "source": [
    "def splitArray(nums, m):\n",
    "    n = len(nums)\n",
    "    dp = [[10**18] * (m + 1) for _ in range(n + 1)]\n",
    "\n",
    "    sub = [0]\n",
    "    for elem in nums:\n",
    "        sub.append(sub[-1] + elem)\n",
    "    dp[0][0] = 0\n",
    "    for i in range(1, n+1):\n",
    "        for j in range(1, min(i, m) + 1):\n",
    "            for k in range(i):\n",
    "                dp[i][j] = min(dp[i][j], max(dp[k][j - 1], sub[i] - sub[k]))\n",
    "    return dp[n][m]"
   ]
  },
  {
   "cell_type": "code",
   "execution_count": null,
   "metadata": {},
   "outputs": [],
   "source": []
  }
 ],
 "metadata": {
  "kernelspec": {
   "display_name": "Python 3",
   "language": "python",
   "name": "python3"
  },
  "language_info": {
   "codemirror_mode": {
    "name": "ipython",
    "version": 3
   },
   "file_extension": ".py",
   "mimetype": "text/x-python",
   "name": "python",
   "nbconvert_exporter": "python",
   "pygments_lexer": "ipython3",
   "version": "3.7.5"
  }
 },
 "nbformat": 4,
 "nbformat_minor": 2
}
