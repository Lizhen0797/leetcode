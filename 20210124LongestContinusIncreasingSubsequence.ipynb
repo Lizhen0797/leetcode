{
 "cells": [
  {
   "cell_type": "raw",
   "metadata": {},
   "source": [
    "给定一个未经排序的整数数组，找到最长且 连续递增的子序列，并返回该序列的长度。\n",
    "\n",
    "连续递增的子序列 可以由两个下标 l 和 r（l < r）确定，如果对于每个 l <= i < r，都有 nums[i] < nums[i + 1] ，那么子序列 [nums[l], nums[l + 1], ..., nums[r - 1], nums[r]] 就是连续递增子序列。\n",
    "\n",
    " \n",
    "\n",
    "示例 1：\n",
    "\n",
    "输入：nums = [1,3,5,4,7]\n",
    "输出：3\n",
    "解释：最长连续递增序列是 [1,3,5], 长度为3。\n",
    "尽管 [1,3,5,7] 也是升序的子序列, 但它不是连续的，因为 5 和 7 在原数组里被 4 隔开。 \n",
    "示例 2：\n",
    "\n",
    "输入：nums = [2,2,2,2,2]\n",
    "输出：1\n",
    "解释：最长连续递增序列是 [2], 长度为1。"
   ]
  },
  {
   "cell_type": "code",
   "execution_count": 1,
   "metadata": {},
   "outputs": [],
   "source": [
    "def findLengofLCIS(nums):\n",
    "    ans = 0\n",
    "    n = len(nums)\n",
    "    start = 0\n",
    "    for i in range(n):\n",
    "        if i > 0 and nums[i] <= nums[i+1]:\n",
    "            start = i\n",
    "        ans = max(ans, i-start+1)\n",
    "    return ans"
   ]
  },
  {
   "cell_type": "code",
   "execution_count": null,
   "metadata": {},
   "outputs": [],
   "source": []
  }
 ],
 "metadata": {
  "kernelspec": {
   "display_name": "Python 3",
   "language": "python",
   "name": "python3"
  },
  "language_info": {
   "codemirror_mode": {
    "name": "ipython",
    "version": 3
   },
   "file_extension": ".py",
   "mimetype": "text/x-python",
   "name": "python",
   "nbconvert_exporter": "python",
   "pygments_lexer": "ipython3",
   "version": "3.6.9"
  }
 },
 "nbformat": 4,
 "nbformat_minor": 4
}
