{
 "cells": [
  {
   "cell_type": "raw",
   "metadata": {},
   "source": [
    "给你一个长度为 n 的整数数组，请你判断在 最多 改变 1 个元素的情况下，该数组能否变成一个非递减数列。\n",
    "\n",
    "我们是这样定义一个非递减数列的： 对于数组中所有的 i (0 <= i <= n-2)，总满足 nums[i] <= nums[i + 1]。\n",
    "\n",
    " \n",
    "\n",
    "示例 1:\n",
    "\n",
    "输入: nums = [4,2,3]\n",
    "输出: true\n",
    "解释: 你可以通过把第一个4变成1来使得它成为一个非递减数列。\n",
    "示例 2:\n",
    "\n",
    "输入: nums = [4,2,1]\n",
    "输出: false\n",
    "解释: 你不能在只改变一个元素的情况下将其变为非递减数列。"
   ]
  },
  {
   "cell_type": "code",
   "execution_count": 1,
   "metadata": {},
   "outputs": [],
   "source": [
    "def checkPossibility(nums):\n",
    "    \"\"\"\n",
    "    :type nums: List[int]\n",
    "    :rtype: bool\n",
    "    \"\"\"\n",
    "    changed = False\n",
    "    for i in range(len(nums)-1):\n",
    "        if nums[i] > nums[i+1]:\n",
    "            if changed: \n",
    "                return False\n",
    "            changed = True\n",
    "\n",
    "            # 修改num[i]会导致nums[i-1] > nums[i]\n",
    "            if i > 0 and nums[i-1] > nums[i+1]: \n",
    "                nums[i+1] = nums[i]\n",
    "            else:\n",
    "                nums[i] = nums[i+1]\n",
    "    return True"
   ]
  },
  {
   "cell_type": "code",
   "execution_count": null,
   "metadata": {},
   "outputs": [],
   "source": []
  }
 ],
 "metadata": {
  "kernelspec": {
   "display_name": "Python 3",
   "language": "python",
   "name": "python3"
  },
  "language_info": {
   "codemirror_mode": {
    "name": "ipython",
    "version": 3
   },
   "file_extension": ".py",
   "mimetype": "text/x-python",
   "name": "python",
   "nbconvert_exporter": "python",
   "pygments_lexer": "ipython3",
   "version": "3.7.4"
  }
 },
 "nbformat": 4,
 "nbformat_minor": 2
}
