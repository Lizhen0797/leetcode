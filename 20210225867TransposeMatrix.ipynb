{
 "cells": [
  {
   "cell_type": "raw",
   "metadata": {},
   "source": [
    "给你一个二维整数数组 matrix， 返回 matrix 的 转置矩阵 。\n",
    "\n",
    "矩阵的 转置 是指将矩阵的主对角线翻转，交换矩阵的行索引与列索引。\n",
    "\n",
    "\n",
    "\n",
    " \n",
    "\n",
    "示例 1：\n",
    "\n",
    "输入：matrix = [[1,2,3],[4,5,6],[7,8,9]]\n",
    "输出：[[1,4,7],[2,5,8],[3,6,9]]\n",
    "示例 2：\n",
    "\n",
    "输入：matrix = [[1,2,3],[4,5,6]]\n",
    "输出：[[1,4],[2,5],[3,6]]\n",
    " \n",
    "\n",
    "提示：\n",
    "\n",
    "m == matrix.length\n",
    "n == matrix[i].length\n",
    "1 <= m, n <= 1000\n",
    "1 <= m * n <= 105\n",
    "-109 <= matrix[i][j] <= 109"
   ]
  },
  {
   "cell_type": "code",
   "execution_count": 1,
   "metadata": {},
   "outputs": [],
   "source": [
    "def transpose(matrix):\n",
    "    \"\"\"\n",
    "    :type matrix: List[List[int]]\n",
    "    :rtype: List[List[int]]\n",
    "    \"\"\"\n",
    "    m, n = len(matrix), len(matrix[0])\n",
    "    transposed = [[0] * m for _ in range(n)]\n",
    "    for i in range(m):\n",
    "        for j in range(n):\n",
    "            transposed[j][i] = matrix[i][j]\n",
    "    return transposed"
   ]
  },
  {
   "cell_type": "code",
   "execution_count": null,
   "metadata": {},
   "outputs": [],
   "source": []
  }
 ],
 "metadata": {
  "kernelspec": {
   "display_name": "Python 3",
   "language": "python",
   "name": "python3"
  },
  "language_info": {
   "codemirror_mode": {
    "name": "ipython",
    "version": 3
   },
   "file_extension": ".py",
   "mimetype": "text/x-python",
   "name": "python",
   "nbconvert_exporter": "python",
   "pygments_lexer": "ipython3",
   "version": "3.7.4"
  }
 },
 "nbformat": 4,
 "nbformat_minor": 2
}
