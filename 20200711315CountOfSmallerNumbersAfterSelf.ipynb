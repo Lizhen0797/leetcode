{
 "cells": [
  {
   "cell_type": "code",
   "execution_count": 2,
   "metadata": {},
   "outputs": [
    {
     "ename": "SyntaxError",
     "evalue": "invalid character in identifier (<ipython-input-2-23a3c0b4b09d>, line 1)",
     "output_type": "error",
     "traceback": [
      "\u001b[0;36m  File \u001b[0;32m\"<ipython-input-2-23a3c0b4b09d>\"\u001b[0;36m, line \u001b[0;32m1\u001b[0m\n\u001b[0;31m    给定一个整数数组 nums，按要求返回一个新数组 counts。数组 counts 有该性质： counts[i] 的值是  nums[i] 右侧小于 nums[i] 的元素的数量。\u001b[0m\n\u001b[0m                                     ^\u001b[0m\n\u001b[0;31mSyntaxError\u001b[0m\u001b[0;31m:\u001b[0m invalid character in identifier\n"
     ]
    }
   ],
   "source": [
    "给定一个整数数组 nums，按要求返回一个新数组 counts。数组 counts 有该性质： counts[i] 的值是  nums[i] 右侧小于 nums[i] 的元素的数量。\n",
    "\n",
    "示例:\n",
    "\n",
    "输入: [5,2,6,1]\n",
    "输出: [2,1,1,0] \n",
    "解释:\n",
    "5 的右侧有 2 个更小的元素 (2 和 1).\n",
    "2 的右侧仅有 1 个更小的元素 (1).\n",
    "6 的右侧有 1 个更小的元素 (1).\n",
    "1 的右侧有 0 个更小的元素"
   ]
  },
  {
   "cell_type": "code",
   "execution_count": 1,
   "metadata": {},
   "outputs": [],
   "source": [
    "import bisect\n",
    "def countSmaller(nums):\n",
    "    ans = []\n",
    "    sorted_nums = []\n",
    "    for i in range(len(nums) - 1, -1, -1):\n",
    "        #通过二分来找比自己小的数\n",
    "        idx = bisect.bisect_left(sorted_nums, nums[i])  # 二分查找，Python自带的函数\n",
    "        ans.append(idx)\n",
    "        sorted_nums.insert(idx, nums[i])\n",
    "    return ans[::-1]"
   ]
  },
  {
   "cell_type": "code",
   "execution_count": null,
   "metadata": {},
   "outputs": [],
   "source": []
  }
 ],
 "metadata": {
  "kernelspec": {
   "display_name": "Python 3",
   "language": "python",
   "name": "python3"
  },
  "language_info": {
   "codemirror_mode": {
    "name": "ipython",
    "version": 3
   },
   "file_extension": ".py",
   "mimetype": "text/x-python",
   "name": "python",
   "nbconvert_exporter": "python",
   "pygments_lexer": "ipython3",
   "version": "3.7.5"
  }
 },
 "nbformat": 4,
 "nbformat_minor": 2
}
