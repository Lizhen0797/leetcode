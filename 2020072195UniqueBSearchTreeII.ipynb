{
 "cells": [
  {
   "cell_type": "raw",
   "metadata": {},
   "source": [
    "定一个整数 n，生成所有由 1 ... n 为节点所组成的 二叉搜索树 。\n",
    "\n",
    " \n",
    "\n",
    "示例：\n",
    "\n",
    "输入：3\n",
    "输出：\n",
    "[\n",
    "  [1,null,3,2],\n",
    "  [3,2,null,1],\n",
    "  [3,1,null,null,2],\n",
    "  [2,1,3],\n",
    "  [1,null,2,null,3]\n",
    "]\n",
    "解释：\n",
    "以上的输出对应以下 5 种不同结构的二叉搜索树：\n",
    "\n",
    "   1         3     3      2      1\n",
    "    \\       /     /      / \\      \\\n",
    "     3     2     1      1   3      2\n",
    "    /     /       \\                 \\\n",
    "   2     1         2                 3"
   ]
  },
  {
   "cell_type": "code",
   "execution_count": 2,
   "metadata": {},
   "outputs": [],
   "source": [
    "def generateTrees(self, n):\n",
    "    def generateTrees(start, end):\n",
    "        if start > end:\n",
    "            return [None,]\n",
    "        allTrees = []\n",
    "        for i in range(start, end + 1):  # 枚举可行根节点\n",
    "            # 获得所有可行的左子树集合\n",
    "            leftTrees = generateTrees(start, i - 1)\n",
    "            # 获得所有可行的右子树集合\n",
    "            rightTrees = generateTrees(i + 1, end)\n",
    "            # 从左子树集合中选出一棵左子树，从右子树集合中选出一棵右子树，拼接到根节点上\n",
    "            for l in leftTrees:\n",
    "                for r in rightTrees:\n",
    "                    currTree = TreeNode(i)\n",
    "                    currTree.left = l\n",
    "                    currTree.right = r\n",
    "                    allTrees.append(currTree)\n",
    "            \n",
    "        return allTrees\n",
    "    return generateTrees(1, n) if n else []"
   ]
  },
  {
   "cell_type": "code",
   "execution_count": null,
   "metadata": {},
   "outputs": [],
   "source": []
  }
 ],
 "metadata": {
  "kernelspec": {
   "display_name": "Python 3",
   "language": "python",
   "name": "python3"
  },
  "language_info": {
   "codemirror_mode": {
    "name": "ipython",
    "version": 3
   },
   "file_extension": ".py",
   "mimetype": "text/x-python",
   "name": "python",
   "nbconvert_exporter": "python",
   "pygments_lexer": "ipython3",
   "version": "3.7.5"
  }
 },
 "nbformat": 4,
 "nbformat_minor": 2
}
