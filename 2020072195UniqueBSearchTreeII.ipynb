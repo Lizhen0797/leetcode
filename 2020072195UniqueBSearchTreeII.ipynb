{
 "cells": [
  {
   "cell_type": "code",
   "execution_count": 1,
   "metadata": {},
   "outputs": [
    {
     "name": "stdout",
     "output_type": "stream",
     "text": [
      "None None\n"
     ]
    }
   ],
   "source": [
    "l = [None,]\n",
    "r = [None,]\n",
    "for i in l:\n",
    "    for j in r:\n",
    "        print(i,j)"
   ]
  },
  {
   "cell_type": "code",
   "execution_count": null,
   "metadata": {},
   "outputs": [],
   "source": [
    "def generateTrees(self, n):\n",
    "    def generateTrees(start, end):\n",
    "        if start > end:\n",
    "            return [None,]\n",
    "        allTrees = []\n",
    "        for i in range(start, end + 1):  # 枚举可行根节点\n",
    "            # 获得所有可行的左子树集合\n",
    "            leftTrees = generateTrees(start, i - 1)\n",
    "            # 获得所有可行的右子树集合\n",
    "            rightTrees = generateTrees(i + 1, end)\n",
    "            # 从左子树集合中选出一棵左子树，从右子树集合中选出一棵右子树，拼接到根节点上\n",
    "            for l in leftTrees:\n",
    "                for r in rightTrees:\n",
    "                    currTree = TreeNode(i)\n",
    "                    currTree.left = l\n",
    "                    currTree.right = r\n",
    "                    allTrees.append(currTree)\n",
    "            \n",
    "        return allTrees\n",
    "    return generateTrees(1, n) if n else []"
   ]
  }
 ],
 "metadata": {
  "kernelspec": {
   "display_name": "Python 3",
   "language": "python",
   "name": "python3"
  },
  "language_info": {
   "codemirror_mode": {
    "name": "ipython",
    "version": 3
   },
   "file_extension": ".py",
   "mimetype": "text/x-python",
   "name": "python",
   "nbconvert_exporter": "python",
   "pygments_lexer": "ipython3",
   "version": "3.7.5"
  }
 },
 "nbformat": 4,
 "nbformat_minor": 2
}
