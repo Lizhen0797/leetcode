{
 "cells": [
  {
   "cell_type": "raw",
   "metadata": {},
   "source": [
    "今天，书店老板有一家店打算试营业 customers.length 分钟。每分钟都有一些顾客（customers[i]）会进入书店，所有这些顾客都会在那一分钟结束后离开。\n",
    "\n",
    "在某些时候，书店老板会生气。 如果书店老板在第 i 分钟生气，那么 grumpy[i] = 1，否则 grumpy[i] = 0。 当书店老板生气时，那一分钟的顾客就会不满意，不生气则他们是满意的。\n",
    "\n",
    "书店老板知道一个秘密技巧，能抑制自己的情绪，可以让自己连续 X 分钟不生气，但却只能使用一次。\n",
    "\n",
    "请你返回这一天营业下来，最多有多少客户能够感到满意的数量。\n",
    " \n",
    "\n",
    "示例：\n",
    "\n",
    "输入：customers = [1,0,1,2,1,1,7,5], grumpy = [0,1,0,1,0,1,0,1], X = 3\n",
    "输出：16\n",
    "解释：\n",
    "书店老板在最后 3 分钟保持冷静。\n",
    "感到满意的最大客户数量 = 1 + 1 + 1 + 1 + 7 + 5 = 16.\n",
    " \n",
    "\n",
    "提示：\n",
    "\n",
    "1 <= X <= customers.length == grumpy.length <= 20000\n",
    "0 <= customers[i] <= 1000\n",
    "0 <= grumpy[i] <= 1"
   ]
  },
  {
   "cell_type": "code",
   "execution_count": 1,
   "metadata": {},
   "outputs": [],
   "source": [
    "def maxSatisfied(customers, grumpy, X):\n",
    "    \"\"\"\n",
    "    :type customers: List[int]\n",
    "    :type grumpy: List[int]\n",
    "    :type X: int\n",
    "    :rtype: int\n",
    "    \"\"\"\n",
    "    sum_ = 0\n",
    "    for i in range(len(customers)):\n",
    "        sum_ += customers[i] * (1-grumpy[i])\n",
    "    cur_value = 0\n",
    "    for i in range(X):\n",
    "        cur_value += grumpy[i]* customers[i]\n",
    "    res_value = cur_value\n",
    "    for i in range(X, len(customers)):\n",
    "        cur_value = cur_value + customers[i]*grumpy[i] - customer[i-X] * grumpy[i - X]\n",
    "        res_value = max(res_value, cur_value)\n",
    "    return sum_ + res_value"
   ]
  },
  {
   "cell_type": "code",
   "execution_count": null,
   "metadata": {},
   "outputs": [],
   "source": []
  }
 ],
 "metadata": {
  "kernelspec": {
   "display_name": "Python 3",
   "language": "python",
   "name": "python3"
  },
  "language_info": {
   "codemirror_mode": {
    "name": "ipython",
    "version": 3
   },
   "file_extension": ".py",
   "mimetype": "text/x-python",
   "name": "python",
   "nbconvert_exporter": "python",
   "pygments_lexer": "ipython3",
   "version": "3.7.4"
  }
 },
 "nbformat": 4,
 "nbformat_minor": 2
}
