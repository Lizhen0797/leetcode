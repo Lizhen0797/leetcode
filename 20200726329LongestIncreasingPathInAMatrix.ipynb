{
 "cells": [
  {
   "cell_type": "raw",
   "metadata": {},
   "source": [
    "给定一个整数矩阵，找出最长递增路径的长度。\n",
    "\n",
    "对于每个单元格，你可以往上，下，左，右四个方向移动。 你不能在对角线方向上移动或移动到边界外（即不允许环绕）。\n",
    "\n",
    "示例 1:\n",
    "\n",
    "输入: nums = \n",
    "[\n",
    "  [9,9,4],\n",
    "  [6,6,8],\n",
    "  [2,1,1]\n",
    "] \n",
    "输出: 4 \n",
    "解释: 最长递增路径为 [1, 2, 6, 9]。\n",
    "示例 2:\n",
    "\n",
    "输入: nums = \n",
    "[\n",
    "  [3,4,5],\n",
    "  [3,2,6],\n",
    "  [2,2,1]\n",
    "] \n",
    "输出: 4 \n",
    "解释: 最长递增路径是 [3, 4, 5, 6]。注意不允许在对角线方向上移动。"
   ]
  }
 ],
 "metadata": {
  "kernelspec": {
   "display_name": "Python 3",
   "language": "python",
   "name": "python3"
  },
  "language_info": {
   "codemirror_mode": {
    "name": "ipython",
    "version": 3
   },
   "file_extension": ".py",
   "mimetype": "text/x-python",
   "name": "python",
   "nbconvert_exporter": "python",
   "pygments_lexer": "ipython3",
   "version": "3.7.5"
  }
 },
 "nbformat": 4,
 "nbformat_minor": 2
}
