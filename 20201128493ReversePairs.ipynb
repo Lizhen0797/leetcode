{
 "cells": [
  {
   "cell_type": "raw",
   "metadata": {},
   "source": [
    "给定一个数组 nums ，如果 i < j 且 nums[i] > 2*nums[j] 我们就将 (i, j) 称作一个重要翻转对。\n",
    "\n",
    "你需要返回给定数组中的重要翻转对的数量。\n",
    "\n",
    "示例 1:\n",
    "\n",
    "输入: [1,3,2,3,1]\n",
    "输出: 2\n",
    "示例 2:\n",
    "\n",
    "输入: [2,4,3,5,1]\n",
    "输出: 3\n",
    "注意:\n",
    "\n",
    "给定数组的长度不会超过50000。\n",
    "输入数组中的所有数字都在32位整数的表示范围内。\n",
    "\n",
    "来源：力扣（LeetCode）\n",
    "链接：https://leetcode-cn.com/problems/reverse-pairs\n",
    "著作权归领扣网络所有。商业转载请联系官方授权，非商业转载请注明出处。"
   ]
  },
  {
   "cell_type": "code",
   "execution_count": 1,
   "metadata": {
    "collapsed": true
   },
   "outputs": [],
   "source": [
    "import bisect"
   ]
  },
  {
   "cell_type": "code",
   "execution_count": 5,
   "metadata": {
    "collapsed": true
   },
   "outputs": [],
   "source": [
    "def reversePairs(nums):\n",
    "    \"\"\"\n",
    "    :type nums: List[int]\n",
    "    :rtype: int\n",
    "    \"\"\"\n",
    "    tb, res = [], 0\n",
    "    for n in reversed(nums) :\n",
    "        res += bisect.bisect_left(tb, n)\n",
    "        print('res:',res)\n",
    "        n2 = 2*n\n",
    "        print('n2:',n2)\n",
    "        idx = bisect.bisect_left(tb, n2)\n",
    "        print('idx:',idx)\n",
    "        tb.insert(idx, n2)\n",
    "        print('tb:',tb)\n",
    "    return res"
   ]
  },
  {
   "cell_type": "code",
   "execution_count": 6,
   "metadata": {},
   "outputs": [
    {
     "name": "stdout",
     "output_type": "stream",
     "text": [
      "('res:', 0)\n",
      "('n2:', 2)\n",
      "('idx:', 0)\n",
      "('tb:', [2])\n",
      "('res:', 1)\n",
      "('n2:', 6)\n",
      "('idx:', 1)\n",
      "('tb:', [2, 6])\n",
      "('res:', 1)\n",
      "('n2:', 4)\n",
      "('idx:', 1)\n",
      "('tb:', [2, 4, 6])\n",
      "('res:', 2)\n",
      "('n2:', 6)\n",
      "('idx:', 2)\n",
      "('tb:', [2, 4, 6, 6])\n",
      "('res:', 2)\n",
      "('n2:', 2)\n",
      "('idx:', 0)\n",
      "('tb:', [2, 2, 4, 6, 6])\n"
     ]
    },
    {
     "data": {
      "text/plain": [
       "2"
      ]
     },
     "execution_count": 6,
     "metadata": {},
     "output_type": "execute_result"
    }
   ],
   "source": [
    "reversePairs([1,3,2,3,1])"
   ]
  },
  {
   "cell_type": "code",
   "execution_count": null,
   "metadata": {
    "collapsed": true
   },
   "outputs": [],
   "source": []
  }
 ],
 "metadata": {
  "kernelspec": {
   "display_name": "Python 2",
   "language": "python",
   "name": "python2"
  },
  "language_info": {
   "codemirror_mode": {
    "name": "ipython",
    "version": 2
   },
   "file_extension": ".py",
   "mimetype": "text/x-python",
   "name": "python",
   "nbconvert_exporter": "python",
   "pygments_lexer": "ipython2",
   "version": "2.7.18"
  }
 },
 "nbformat": 4,
 "nbformat_minor": 2
}
