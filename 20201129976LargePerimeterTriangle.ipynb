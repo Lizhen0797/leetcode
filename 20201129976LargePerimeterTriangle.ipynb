{
 "cells": [
  {
   "cell_type": "raw",
   "metadata": {},
   "source": [
    "给定由一些正数（代表长度）组成的数组 A，返回由其中三个长度组成的、面积不为零的三角形的最大周长。\n",
    "\n",
    "如果不能形成任何面积不为零的三角形，返回 0。\n",
    "\n",
    " \n",
    "\n",
    "示例 1：\n",
    "\n",
    "输入：[2,1,2]\n",
    "输出：5\n",
    "示例 2：\n",
    "\n",
    "输入：[1,2,1]\n",
    "输出：0\n",
    "示例 3：\n",
    "\n",
    "输入：[3,2,3,4]\n",
    "输出：10\n",
    "示例 4：\n",
    "\n",
    "输入：[3,6,2,3]\n",
    "输出：8"
   ]
  },
  {
   "cell_type": "code",
   "execution_count": 1,
   "metadata": {
    "collapsed": true
   },
   "outputs": [],
   "source": [
    "def largestPerimeter(self, A):\n",
    "    A.sort()\n",
    "    #print(A)\n",
    "    for i in range(len(A)-1, 1, -1):\n",
    "        #print(A[i - 2] , A[i - 1] , A[i])\n",
    "        if (A[i - 2] + A[i - 1] > A[i]):\n",
    "            return A[i - 2] + A[i - 1] + A[i];\n",
    "    return 0"
   ]
  },
  {
   "cell_type": "code",
   "execution_count": null,
   "metadata": {
    "collapsed": true
   },
   "outputs": [],
   "source": []
  }
 ],
 "metadata": {
  "kernelspec": {
   "display_name": "Python 2",
   "language": "python",
   "name": "python2"
  },
  "language_info": {
   "codemirror_mode": {
    "name": "ipython",
    "version": 2
   },
   "file_extension": ".py",
   "mimetype": "text/x-python",
   "name": "python",
   "nbconvert_exporter": "python",
   "pygments_lexer": "ipython2",
   "version": "2.7.18"
  }
 },
 "nbformat": 4,
 "nbformat_minor": 2
}
