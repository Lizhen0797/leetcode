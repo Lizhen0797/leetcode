{
 "cells": [
  {
   "cell_type": "markdown",
   "metadata": {},
   "source": [
    "你正在使用一堆木板建造跳水板。有两种类型的木板，其中长度较短的木板长度为shorter，长度较长的木板长度为longer。你必须正好使用k块木板。编写一个方法，生成跳水板所有可能的长度。\n",
    "\n",
    "返回的长度需要从小到大排列。\n",
    "\n",
    "示例：\n",
    "\n",
    "输入：\n",
    "shorter = 1\n",
    "longer = 2\n",
    "k = 3\n",
    "输出： {3,4,5,6}"
   ]
  },
  {
   "cell_type": "code",
   "execution_count": null,
   "metadata": {},
   "outputs": [],
   "source": [
    "def divingBoard(shorter, longer, k):\n",
    "    if not k:\n",
    "        return []\n",
    "    if shorter == longer:\n",
    "        return [shorter * k]\n",
    "    res = [0] * (k+1)\n",
    "    for i in range(k+1):\n",
    "        res[i] = short"
   ]
  }
 ],
 "metadata": {
  "kernelspec": {
   "display_name": "Python 3",
   "language": "python",
   "name": "python3"
  },
  "language_info": {
   "codemirror_mode": {
    "name": "ipython",
    "version": 3
   },
   "file_extension": ".py",
   "mimetype": "text/x-python",
   "name": "python",
   "nbconvert_exporter": "python",
   "pygments_lexer": "ipython3",
   "version": "3.7.5"
  }
 },
 "nbformat": 4,
 "nbformat_minor": 2
}
