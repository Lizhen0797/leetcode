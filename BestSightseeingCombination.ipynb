{
 "cells": [
  {
   "cell_type": "markdown",
   "metadata": {},
   "source": [
    "给定正整数数组 A，A[i] 表示第 i 个观光景点的评分，并且两个景点 i 和 j 之间的距离为 j - i。\n",
    "\n",
    "一对景点（i < j）组成的观光组合的得分为（A[i] + A[j] + i - j）：景点的评分之和减去它们两者之间的距离。\n",
    "\n",
    "返回一对观光景点能取得的最高分。\n",
    "\n",
    " \n",
    "\n",
    "示例：\n",
    "\n",
    "输入：[8,1,5,2,6]\n",
    "输出：11\n",
    "解释：i = 0, j = 2, A[i] + A[j] + i - j = 8 + 5 + 0 - 2 = 11\n",
    " \n",
    "\n",
    "提示：\n",
    "\n",
    "2 <= A.length <= 50000\n",
    "1 <= A[i] <= 1000"
   ]
  },
  {
   "cell_type": "code",
   "execution_count": 1,
   "metadata": {},
   "outputs": [],
   "source": [
    "def maxScoreSightseeingPair(A):\n",
    "    n = len(A)\n",
    "    res = 0\n",
    "    pre_max = A[0] + 0\n",
    "    for j in range(1, n):\n",
    "        res = max(res, pre_max+A[j] - j)\n",
    "        pre_max = max(pre_max, A[j] + j)\n",
    "    return res"
   ]
  },
  {
   "cell_type": "code",
   "execution_count": 2,
   "metadata": {},
   "outputs": [
    {
     "data": {
      "text/plain": [
       "11"
      ]
     },
     "execution_count": 2,
     "metadata": {},
     "output_type": "execute_result"
    }
   ],
   "source": [
    "maxScoreSightseeingPair([8,1,5,2,6])"
   ]
  },
  {
   "cell_type": "code",
   "execution_count": null,
   "metadata": {},
   "outputs": [],
   "source": []
  }
 ],
 "metadata": {
  "kernelspec": {
   "display_name": "Python 3",
   "language": "python",
   "name": "python3"
  },
  "language_info": {
   "codemirror_mode": {
    "name": "ipython",
    "version": 3
   },
   "file_extension": ".py",
   "mimetype": "text/x-python",
   "name": "python",
   "nbconvert_exporter": "python",
   "pygments_lexer": "ipython3",
   "version": "3.7.5"
  }
 },
 "nbformat": 4,
 "nbformat_minor": 2
}
