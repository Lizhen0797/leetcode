{
 "cells": [
  {
   "cell_type": "markdown",
   "metadata": {},
   "source": [
    "给你一个整数数组 arr 和一个目标值 target ，请你返回一个整数 value ，使得将数组中所有大于 value 的值变成 value 后，数组的和最接近  target （最接近表示两者之差的绝对值最小）。\n",
    "\n",
    "如果有多种使得和最接近 target 的方案，请你返回这些整数中的最小值。\n",
    "\n",
    "请注意，答案不一定是 arr 中的数字。\n",
    "\n",
    " \n",
    "\n",
    "示例 1：\n",
    "\n",
    "输入：arr = [4,9,3], target = 10\n",
    "输出：3\n",
    "解释：当选择 value 为 3 时，数组会变成 [3, 3, 3]，和为 9 ，这是最接近 target 的方案。\n",
    "示例 2：\n",
    "\n",
    "输入：arr = [2,3,5], target = 10\n",
    "输出：5\n",
    "示例 3：\n",
    "\n",
    "输入：arr = [60864,25176,27249,21296,20204], target = 56803\n",
    "输出：11361\n",
    " \n",
    "\n",
    "提示：\n",
    "\n",
    "1 <= arr.length <= 10^4\n",
    "1 <= arr[i], target <= 10^5\n",
    "通过次数5,420提交次数11,542"
   ]
  },
  {
   "cell_type": "code",
   "execution_count": 5,
   "metadata": {},
   "outputs": [],
   "source": [
    "# @param arr sorted array\n",
    "# @param value\n",
    "def getIndexOfValue(arr, value):\n",
    "    r = len(arr)\n",
    "    l = 0\n",
    "    while(l < r):\n",
    "        mid = (l+r)//2\n",
    "        if arr[mid] < value:\n",
    "            l = mid + 1\n",
    "        else:\n",
    "            r = mid\n",
    "    return l"
   ]
  },
  {
   "cell_type": "code",
   "execution_count": 11,
   "metadata": {},
   "outputs": [
    {
     "data": {
      "text/plain": [
       "2"
      ]
     },
     "execution_count": 11,
     "metadata": {},
     "output_type": "execute_result"
    }
   ],
   "source": [
    "getIndexOfValue([1,5,8,10,23],7)"
   ]
  },
  {
   "cell_type": "code",
   "execution_count": 12,
   "metadata": {},
   "outputs": [],
   "source": [
    "import bisect"
   ]
  },
  {
   "cell_type": "code",
   "execution_count": 13,
   "metadata": {},
   "outputs": [
    {
     "data": {
      "text/plain": [
       "2"
      ]
     },
     "execution_count": 13,
     "metadata": {},
     "output_type": "execute_result"
    }
   ],
   "source": [
    "bisect.bisect_left([1,5,8,10,23],7)"
   ]
  },
  {
   "cell_type": "code",
   "execution_count": 14,
   "metadata": {},
   "outputs": [],
   "source": [
    "def findBestValue(arr, target):\n",
    "    arr.sort()\n",
    "    n = len(arr)\n",
    "    prefix = [0]\n",
    "    for num in arr:\n",
    "        prefix.append(prefix[-1] + num)\n",
    "    r , ans, diff = max(arr), 0, target\n",
    "    for i in range(1, r+1):\n",
    "        it = getIndexOfValue(arr, i)\n",
    "        cur = prefix[it] + (n-it) *i\n",
    "        if abs(cur - target) < diff:\n",
    "            ans, diff = i, abs(cur-target)\n",
    "    return ans"
   ]
  },
  {
   "cell_type": "code",
   "execution_count": 17,
   "metadata": {},
   "outputs": [
    {
     "data": {
      "text/plain": [
       "11361"
      ]
     },
     "execution_count": 17,
     "metadata": {},
     "output_type": "execute_result"
    }
   ],
   "source": [
    "findBestValue([60864,25176,27249,21296,20204], 56803)"
   ]
  },
  {
   "cell_type": "code",
   "execution_count": null,
   "metadata": {},
   "outputs": [],
   "source": []
  }
 ],
 "metadata": {
  "kernelspec": {
   "display_name": "Python 3",
   "language": "python",
   "name": "python3"
  },
  "language_info": {
   "codemirror_mode": {
    "name": "ipython",
    "version": 3
   },
   "file_extension": ".py",
   "mimetype": "text/x-python",
   "name": "python",
   "nbconvert_exporter": "python",
   "pygments_lexer": "ipython3",
   "version": "3.7.5"
  }
 },
 "nbformat": 4,
 "nbformat_minor": 2
}
