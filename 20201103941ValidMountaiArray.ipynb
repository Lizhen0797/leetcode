{
 "cells": [
  {
   "cell_type": "raw",
   "metadata": {},
   "source": [
    "给定一个整数数组 A，如果它是有效的山脉数组就返回 true，否则返回 false。\n",
    "\n",
    "让我们回顾一下，如果 A 满足下述条件，那么它是一个山脉数组：\n",
    "\n",
    "A.length >= 3\n",
    "在 0 < i < A.length - 1 条件下，存在 i 使得：\n",
    "A[0] < A[1] < ... A[i-1] < A[i]\n",
    "A[i] > A[i+1] > ... > A[A.length - 1]\n",
    " \n",
    "\n",
    "\n",
    "\n",
    " \n",
    "\n",
    "示例 1：\n",
    "\n",
    "输入：[2,1]\n",
    "输出：false\n",
    "示例 2：\n",
    "\n",
    "输入：[3,5,5]\n",
    "输出：false\n",
    "示例 3：\n",
    "\n",
    "输入：[0,3,2,1]\n",
    "输出：true\n"
   ]
  },
  {
   "cell_type": "code",
   "execution_count": 1,
   "metadata": {},
   "outputs": [],
   "source": [
    "def validMountainArray(A):\n",
    "    \"\"\"\n",
    "    :type A: List[int]\n",
    "    :rtype: bool\n",
    "    \"\"\"\n",
    "    N = len(A)\n",
    "    i = 0\n",
    "    while i + 1 < N and A[i] < A[i + 1]:\n",
    "        i += 1\n",
    "    if i == 0 or i == N - 1:\n",
    "        return False\n",
    "    while i + 1 < N and A[i] > A[i + 1]:\n",
    "        i += 1\n",
    "    return i == N - 1"
   ]
  },
  {
   "cell_type": "code",
   "execution_count": null,
   "metadata": {},
   "outputs": [],
   "source": []
  }
 ],
 "metadata": {
  "kernelspec": {
   "display_name": "Python 3",
   "language": "python",
   "name": "python3"
  },
  "language_info": {
   "codemirror_mode": {
    "name": "ipython",
    "version": 3
   },
   "file_extension": ".py",
   "mimetype": "text/x-python",
   "name": "python",
   "nbconvert_exporter": "python",
   "pygments_lexer": "ipython3",
   "version": "3.7.5"
  }
 },
 "nbformat": 4,
 "nbformat_minor": 2
}
