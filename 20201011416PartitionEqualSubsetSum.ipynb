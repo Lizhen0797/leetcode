{
 "cells": [
  {
   "cell_type": "raw",
   "metadata": {},
   "source": [
    "给定一个只包含正整数的非空数组。是否可以将这个数组分割成两个子集，使得两个子集的元素和相等。\n",
    "\n",
    "注意:\n",
    "\n",
    "每个数组中的元素不会超过 100\n",
    "数组的大小不会超过 200\n",
    "示例 1:\n",
    "\n",
    "输入: [1, 5, 11, 5]\n",
    "\n",
    "输出: true\n",
    "\n",
    "解释: 数组可以分割成 [1, 5, 5] 和 [11].\n",
    " \n",
    "\n",
    "示例 2:\n",
    "\n",
    "输入: [1, 2, 3, 5]\n",
    "\n",
    "输出: false\n",
    "\n",
    "解释: 数组不能分割成两个元素和相等的子集."
   ]
  },
  {
   "cell_type": "code",
   "execution_count": 1,
   "metadata": {},
   "outputs": [],
   "source": [
    "def canPartition(nums):\n",
    "    \"\"\"\n",
    "    :type nums: List[int]\n",
    "    :rtype: bool\n",
    "    \"\"\"\n",
    "    n = len(nums)\n",
    "    if n < 2:\n",
    "        return False\n",
    "\n",
    "    total = sum(nums)\n",
    "    maxNum = max(nums)\n",
    "    if total & 1:\n",
    "        return False\n",
    "\n",
    "    target = total // 2\n",
    "    if maxNum > target:\n",
    "        return False\n",
    "\n",
    "    dp = [[0] * (target + 1) for _ in range(n)]\n",
    "    for i in range(n):\n",
    "        dp[i][0] = True\n",
    "\n",
    "    dp[0][nums[0]] = True\n",
    "    for i in range(1, n):\n",
    "        num = nums[i]\n",
    "        for j in range(1, target + 1):\n",
    "            if j >= num:\n",
    "                dp[i][j] = dp[i - 1][j] | dp[i - 1][j - num]\n",
    "            else:\n",
    "                dp[i][j] = dp[i - 1][j]\n",
    "\n",
    "    return dp[n - 1][target] == True"
   ]
  },
  {
   "cell_type": "code",
   "execution_count": null,
   "metadata": {},
   "outputs": [],
   "source": []
  }
 ],
 "metadata": {
  "kernelspec": {
   "display_name": "Python 3",
   "language": "python",
   "name": "python3"
  },
  "language_info": {
   "codemirror_mode": {
    "name": "ipython",
    "version": 3
   },
   "file_extension": ".py",
   "mimetype": "text/x-python",
   "name": "python",
   "nbconvert_exporter": "python",
   "pygments_lexer": "ipython3",
   "version": "3.7.5"
  }
 },
 "nbformat": 4,
 "nbformat_minor": 2
}
