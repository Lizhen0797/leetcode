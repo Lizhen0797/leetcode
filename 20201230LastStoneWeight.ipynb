{
 "cells": [
  {
   "cell_type": "raw",
   "metadata": {},
   "source": [
    "有一堆石头，每块石头的重量都是正整数。\n",
    "\n",
    "每一回合，从中选出两块 最重的 石头，然后将它们一起粉碎。假设石头的重量分别为 x 和 y，且 x <= y。那么粉碎的可能结果如下：\n",
    "\n",
    "如果 x == y，那么两块石头都会被完全粉碎；\n",
    "如果 x != y，那么重量为 x 的石头将会完全粉碎，而重量为 y 的石头新重量为 y-x。\n",
    "最后，最多只会剩下一块石头。返回此石头的重量。如果没有石头剩下，就返回 0。\n",
    "\n",
    " \n",
    "\n",
    "示例：\n",
    "\n",
    "输入：[2,7,4,1,8,1]\n",
    "输出：1\n",
    "解释：\n",
    "先选出 7 和 8，得到 1，所以数组转换为 [2,4,1,1,1]，\n",
    "再选出 2 和 4，得到 2，所以数组转换为 [2,1,1,1]，\n",
    "接着是 2 和 1，得到 1，所以数组转换为 [1,1,1]，\n",
    "最后选出 1 和 1，得到 0，最终数组转换为 [1]，这就是最后剩下那块石头的重量。"
   ]
  },
  {
   "cell_type": "code",
   "execution_count": 1,
   "metadata": {},
   "outputs": [],
   "source": [
    "def lastStoneWeight(stones):\n",
    "    \"\"\"\n",
    "    :type stones: List[int]\n",
    "    :rtype: int\n",
    "    \"\"\"\n",
    "    heap = [-stone for stone in stones]\n",
    "    heapq.heapify(heap)\n",
    "    #print(heap)\n",
    "\n",
    "    # 模拟\n",
    "    while len(heap) > 1:\n",
    "        x,y = heapq.heappop(heap),heapq.heappop(heap)\n",
    "        if x != y:\n",
    "            heapq.heappush(heap,x-y)\n",
    "\n",
    "    if heap: return -heap[0]\n",
    "    return 0"
   ]
  },
  {
   "cell_type": "code",
   "execution_count": null,
   "metadata": {},
   "outputs": [],
   "source": []
  }
 ],
 "metadata": {
  "kernelspec": {
   "display_name": "Python 3",
   "language": "python",
   "name": "python3"
  },
  "language_info": {
   "codemirror_mode": {
    "name": "ipython",
    "version": 3
   },
   "file_extension": ".py",
   "mimetype": "text/x-python",
   "name": "python",
   "nbconvert_exporter": "python",
   "pygments_lexer": "ipython3",
   "version": "3.7.5"
  }
 },
 "nbformat": 4,
 "nbformat_minor": 2
}
