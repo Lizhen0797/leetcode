{
 "cells": [
  {
   "cell_type": "raw",
   "metadata": {},
   "source": [
    "给定一个非负整数数组 A， A 中一半整数是奇数，一半整数是偶数。\n",
    "\n",
    "对数组进行排序，以便当 A[i] 为奇数时，i 也是奇数；当 A[i] 为偶数时， i 也是偶数。\n",
    "\n",
    "你可以返回任何满足上述条件的数组作为答案。\n",
    "\n",
    " \n",
    "\n",
    "示例：\n",
    "\n",
    "输入：[4,2,5,7]\n",
    "输出：[4,5,2,7]\n",
    "解释：[4,7,2,5]，[2,5,4,7]，[2,7,4,5] 也会被接受。"
   ]
  },
  {
   "cell_type": "code",
   "execution_count": 1,
   "metadata": {},
   "outputs": [],
   "source": [
    "def sortArrayByParityII(self, A):\n",
    "    \"\"\"\n",
    "    :type A: List[int]\n",
    "    :rtype: List[int]\n",
    "    \"\"\"\n",
    "    length = len(A)\n",
    "    j = 1;\n",
    "    for i in range(0, length, 2):\n",
    "        if A[i] % 2 == 1:\n",
    "            while A[j] % 2 == 1:\n",
    "                j+=2\n",
    "            A[i], A[j] = A[j], A[i]\n",
    "    return A"
   ]
  }
 ],
 "metadata": {
  "kernelspec": {
   "display_name": "Python 3",
   "language": "python",
   "name": "python3"
  },
  "language_info": {
   "codemirror_mode": {
    "name": "ipython",
    "version": 3
   },
   "file_extension": ".py",
   "mimetype": "text/x-python",
   "name": "python",
   "nbconvert_exporter": "python",
   "pygments_lexer": "ipython3",
   "version": "3.7.5"
  }
 },
 "nbformat": 4,
 "nbformat_minor": 2
}
