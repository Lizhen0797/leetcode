{
 "cells": [
  {
   "cell_type": "raw",
   "metadata": {},
   "source": [
    "给你一棵所有节点为非负值的二叉搜索树，请你计算树中任意两节点的差的绝对值的最小值。\n",
    "\n",
    " \n",
    "\n",
    "示例：\n",
    "\n",
    "输入：\n",
    "\n",
    "   1\n",
    "    \\\n",
    "     3\n",
    "    /\n",
    "   2\n",
    "\n",
    "输出：\n",
    "1\n",
    "\n",
    "解释：\n",
    "最小绝对差为 1，其中 2 和 1 的差的绝对值为 1（或者 2 和 3）。"
   ]
  },
  {
   "cell_type": "code",
   "execution_count": 3,
   "metadata": {},
   "outputs": [],
   "source": [
    "class TreeNode(object):\n",
    "    def __init__(self, x):\n",
    "        self.val = x\n",
    "        self.left = None\n",
    "        self.right = None"
   ]
  },
  {
   "cell_type": "code",
   "execution_count": 4,
   "metadata": {},
   "outputs": [],
   "source": [
    "class Solution(object):\n",
    "    def __init__(self):\n",
    "        self.res = float('inf')\n",
    "        self.pre = float('-inf')\n",
    "    def getMinimumDifference(self, root):\n",
    "        self.inOrder(root)\n",
    "        return self.res\n",
    "    def inOrder(self, root):\n",
    "        if not root:\n",
    "            return None\n",
    "        self.inOrder(root.left)\n",
    "        current = root.val\n",
    "        self.res = min(self.res, current - self.pre)\n",
    "        self.pre = current\n",
    "        self.inOrder(root.right)"
   ]
  },
  {
   "cell_type": "code",
   "execution_count": null,
   "metadata": {},
   "outputs": [],
   "source": []
  }
 ],
 "metadata": {
  "kernelspec": {
   "display_name": "Python 3",
   "language": "python",
   "name": "python3"
  },
  "language_info": {
   "codemirror_mode": {
    "name": "ipython",
    "version": 3
   },
   "file_extension": ".py",
   "mimetype": "text/x-python",
   "name": "python",
   "nbconvert_exporter": "python",
   "pygments_lexer": "ipython3",
   "version": "3.7.5"
  }
 },
 "nbformat": 4,
 "nbformat_minor": 2
}
