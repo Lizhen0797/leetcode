{
 "cells": [
  {
   "cell_type": "raw",
   "metadata": {},
   "source": [
    "给你一个数组 nums，对于其中每个元素 nums[i]，请你统计数组中比它小的所有数字的数目。\n",
    "\n",
    "换而言之，对于每个 nums[i] 你必须计算出有效的 j 的数量，其中 j 满足 j != i 且 nums[j] < nums[i] 。\n",
    "\n",
    "以数组形式返回答案。\n",
    "\n",
    " \n",
    "\n",
    "示例 1：\n",
    "\n",
    "输入：nums = [8,1,2,2,3]\n",
    "输出：[4,0,1,1,3]\n",
    "解释： \n",
    "对于 nums[0]=8 存在四个比它小的数字：（1，2，2 和 3）。 \n",
    "对于 nums[1]=1 不存在比它小的数字。\n",
    "对于 nums[2]=2 存在一个比它小的数字：（1）。 \n",
    "对于 nums[3]=2 存在一个比它小的数字：（1）。 \n",
    "对于 nums[4]=3 存在三个比它小的数字：（1，2 和 2）。\n",
    "示例 2：\n",
    "\n",
    "输入：nums = [6,5,4,8]\n",
    "输出：[2,1,0,3]\n",
    "示例 3：\n",
    "\n",
    "输入：nums = [7,7,7,7]\n",
    "输出：[0,0,0,0]"
   ]
  },
  {
   "cell_type": "code",
   "execution_count": 1,
   "metadata": {},
   "outputs": [],
   "source": [
    "def smallerNumbersThanCurrent(nums):\n",
    "    \"\"\"\n",
    "    :type nums: List[int]\n",
    "    :rtype: List[int]\n",
    "    \"\"\"\n",
    "    n = len(nums)\n",
    "    cnt = [0] * 101\n",
    "    #print(cnt)\n",
    "    for i in range(n):\n",
    "        cnt[nums[i]] += 1\n",
    "    for i in range(1, 101):\n",
    "        cnt[i] += cnt[i-1]\n",
    "\n",
    "    res = []\n",
    "    for i in range(n):\n",
    "        if nums[i] == 0:\n",
    "            res.append(0)\n",
    "        else:\n",
    "            res.append(cnt[nums[i]-1])\n",
    "    return res"
   ]
  }
 ],
 "metadata": {
  "kernelspec": {
   "display_name": "Python 3",
   "language": "python",
   "name": "python3"
  },
  "language_info": {
   "codemirror_mode": {
    "name": "ipython",
    "version": 3
   },
   "file_extension": ".py",
   "mimetype": "text/x-python",
   "name": "python",
   "nbconvert_exporter": "python",
   "pygments_lexer": "ipython3",
   "version": "3.7.5"
  }
 },
 "nbformat": 4,
 "nbformat_minor": 2
}
