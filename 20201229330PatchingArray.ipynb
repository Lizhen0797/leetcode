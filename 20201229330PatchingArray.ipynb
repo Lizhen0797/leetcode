{
 "cells": [
  {
   "cell_type": "raw",
   "metadata": {},
   "source": [
    "给定一个已排序的正整数数组 nums，和一个正整数 n 。从 [1, n] 区间内选取任意个数字补充到 nums 中，使得 [1, n] 区间内的任何数字都可以用 nums 中某几个数字的和来表示。请输出满足上述要求的最少需要补充的数字个数。\n",
    "\n",
    "示例 1:\n",
    "\n",
    "输入: nums = [1,3], n = 6\n",
    "输出: 1 \n",
    "解释:\n",
    "根据 nums 里现有的组合 [1], [3], [1,3]，可以得出 1, 3, 4。\n",
    "现在如果我们将 2 添加到 nums 中， 组合变为: [1], [2], [3], [1,3], [2,3], [1,2,3]。\n",
    "其和可以表示数字 1, 2, 3, 4, 5, 6，能够覆盖 [1, 6] 区间里所有的数。\n",
    "所以我们最少需要添加一个数字。\n",
    "示例 2:\n",
    "\n",
    "输入: nums = [1,5,10], n = 20\n",
    "输出: 2\n",
    "解释: 我们需要添加 [2, 4]。\n",
    "示例 3:\n",
    "\n",
    "输入: nums = [1,2,2], n = 5\n",
    "输出: 0"
   ]
  },
  {
   "cell_type": "code",
   "execution_count": 1,
   "metadata": {},
   "outputs": [],
   "source": [
    "def minPatches(nums, n):\n",
    "    patches, x = 0, 1\n",
    "    length, index = len(nums), 0\n",
    "\n",
    "    while x <= n:\n",
    "        if index < length and nums[index] <= x:\n",
    "            x += nums[index]\n",
    "            index += 1\n",
    "        else:\n",
    "            x *= 2\n",
    "            patches += 1\n",
    "\n",
    "    return patches"
   ]
  },
  {
   "cell_type": "code",
   "execution_count": null,
   "metadata": {},
   "outputs": [],
   "source": []
  }
 ],
 "metadata": {
  "kernelspec": {
   "display_name": "Python 3",
   "language": "python",
   "name": "python3"
  },
  "language_info": {
   "codemirror_mode": {
    "name": "ipython",
    "version": 3
   },
   "file_extension": ".py",
   "mimetype": "text/x-python",
   "name": "python",
   "nbconvert_exporter": "python",
   "pygments_lexer": "ipython3",
   "version": "3.7.5"
  }
 },
 "nbformat": 4,
 "nbformat_minor": 2
}
