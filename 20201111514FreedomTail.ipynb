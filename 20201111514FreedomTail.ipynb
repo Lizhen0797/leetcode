{
 "cells": [
  {
   "cell_type": "raw",
   "metadata": {},
   "source": [
    "视频游戏“辐射4”中，任务“通向自由”要求玩家到达名为“Freedom Trail Ring”的金属表盘，并使用表盘拼写特定关键词才能开门。\n",
    "\n",
    "给定一个字符串 ring，表示刻在外环上的编码；给定另一个字符串 key，表示需要拼写的关键词。您需要算出能够拼写关键词中所有字符的最少步数。\n",
    "\n",
    "最初，ring 的第一个字符与12:00方向对齐。您需要顺时针或逆时针旋转 ring 以使 key 的一个字符在 12:00 方向对齐，然后按下中心按钮，以此逐个拼写完 key 中的所有字符。\n",
    "\n",
    "旋转 ring 拼出 key 字符 key[i] 的阶段中：\n",
    "\n",
    "您可以将 ring 顺时针或逆时针旋转一个位置，计为1步。旋转的最终目的是将字符串 ring 的一个字符与 12:00 方向对齐，并且这个字符必须等于字符 key[i] 。\n",
    "如果字符 key[i] 已经对齐到12:00方向，您需要按下中心按钮进行拼写，这也将算作 1 步。按完之后，您可以开始拼写 key 的下一个字符（下一阶段）, 直至完成所有拼写。\n",
    "示例：\n",
    "\n",
    " \n",
    "\n",
    "\n",
    " \n",
    "输入: ring = \"godding\", key = \"gd\"\n",
    "输出: 4\n",
    "解释:\n",
    " 对于 key 的第一个字符 'g'，已经在正确的位置, 我们只需要1步来拼写这个字符。 \n",
    " 对于 key 的第二个字符 'd'，我们需要逆时针旋转 ring \"godding\" 2步使它变成 \"ddinggo\"。\n",
    " 当然, 我们还需要1步进行拼写。\n",
    " 因此最终的输出是 4。\n"
   ]
  },
  {
   "cell_type": "code",
   "execution_count": 13,
   "metadata": {},
   "outputs": [],
   "source": [
    "def findRotateSteps(ring, key):\n",
    "    n = len(ring)\n",
    "    m = len(key)\n",
    "    dic = {}\n",
    "    for i in range(26):\n",
    "        dic[i] = []\n",
    "    for i in range(n):\n",
    "        dic[ord(ring[i]) - ord('a')].append(i)\n",
    "    dp = [[float('inf')] * n for _ in range(m)]\n",
    "    for i in dic[ord(key[0]) - ord('a')]:\n",
    "        dp[0][i] = min(i, n-i) + 1\n",
    "    for i in range(1,m):\n",
    "        for j in dic[ord(key[i]) - ord('a')]:\n",
    "            for k in dic[ord(key[i-1]) - ord('a')]:\n",
    "                dp[i][j] = min(dp[i][j], dp[i-1][k] + min(abs(j-k), n - abs(j - k)) + 1)\n",
    "    return min(dp[m-1])"
   ]
  },
  {
   "cell_type": "code",
   "execution_count": null,
   "metadata": {},
   "outputs": [],
   "source": []
  }
 ],
 "metadata": {
  "kernelspec": {
   "display_name": "Python 3",
   "language": "python",
   "name": "python3"
  },
  "language_info": {
   "codemirror_mode": {
    "name": "ipython",
    "version": 3
   },
   "file_extension": ".py",
   "mimetype": "text/x-python",
   "name": "python",
   "nbconvert_exporter": "python",
   "pygments_lexer": "ipython3",
   "version": "3.7.5"
  }
 },
 "nbformat": 4,
 "nbformat_minor": 2
}
