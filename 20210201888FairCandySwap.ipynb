{
 "cells": [
  {
   "cell_type": "raw",
   "metadata": {},
   "source": [
    "爱丽丝和鲍勃有不同大小的糖果棒：A[i] 是爱丽丝拥有的第 i 根糖果棒的大小，B[j] 是鲍勃拥有的第 j 根糖果棒的大小。\n",
    "\n",
    "因为他们是朋友，所以他们想交换一根糖果棒，这样交换后，他们都有相同的糖果总量。（一个人拥有的糖果总量是他们拥有的糖果棒大小的总和。）\n",
    "\n",
    "返回一个整数数组 ans，其中 ans[0] 是爱丽丝必须交换的糖果棒的大小，ans[1] 是 Bob 必须交换的糖果棒的大小。\n",
    "\n",
    "如果有多个答案，你可以返回其中任何一个。保证答案存在。\n",
    "\n",
    " \n",
    "\n",
    "示例 1：\n",
    "\n",
    "输入：A = [1,1], B = [2,2]\n",
    "输出：[1,2]\n",
    "示例 2：\n",
    "\n",
    "输入：A = [1,2], B = [2,3]\n",
    "输出：[1,2]\n",
    "示例 3：\n",
    "\n",
    "输入：A = [2], B = [1,3]\n",
    "输出：[2,3]\n",
    "示例 4：\n",
    "\n",
    "输入：A = [1,2,5], B = [2,4]\n",
    "输出：[5,4]\n",
    " \n",
    "\n",
    "提示：\n",
    "\n",
    "1 <= A.length <= 10000\n",
    "1 <= B.length <= 10000\n",
    "1 <= A[i] <= 100000\n",
    "1 <= B[i] <= 100000\n",
    "保证爱丽丝与鲍勃的糖果总量不同。\n",
    "答案肯定存在。"
   ]
  },
  {
   "cell_type": "code",
   "execution_count": 1,
   "metadata": {},
   "outputs": [],
   "source": [
    "def fairCandySwap(A, B):\n",
    "    \"\"\"\n",
    "    :type A: List[int]\n",
    "    :type B: List[int]\n",
    "    :rtype: List[int]\n",
    "    \"\"\"\n",
    "    sumA, sumB = sum(A), sum(B)\n",
    "    delta = (sumA - sumB)//2\n",
    "    rec = set(A)\n",
    "    ans = None\n",
    "    for y in B:\n",
    "        x = y +delta\n",
    "        if x in rec:\n",
    "            ans = [x, y]\n",
    "            break\n",
    "    return ans"
   ]
  }
 ],
 "metadata": {
  "kernelspec": {
   "display_name": "Python 3",
   "language": "python",
   "name": "python3"
  },
  "language_info": {
   "codemirror_mode": {
    "name": "ipython",
    "version": 3
   },
   "file_extension": ".py",
   "mimetype": "text/x-python",
   "name": "python",
   "nbconvert_exporter": "python",
   "pygments_lexer": "ipython3",
   "version": "3.7.4"
  }
 },
 "nbformat": 4,
 "nbformat_minor": 2
}
