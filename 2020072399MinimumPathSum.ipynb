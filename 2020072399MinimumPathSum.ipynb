{
 "cells": [
  {
   "cell_type": "markdown",
   "metadata": {},
   "source": [
    "给定一个包含非负整数的 m x n 网格，请找出一条从左上角到右下角的路径，使得路径上的数字总和为最小。\n",
    "\n",
    "说明：每次只能向下或者向右移动一步。\n",
    "\n",
    "示例:\n",
    "\n",
    "输入:\n",
    "[\n",
    "  [1,3,1],\n",
    "  [1,5,1],\n",
    "  [4,2,1]\n",
    "]\n",
    "输出: 7\n",
    "解释: 因为路径 1→3→1→1→1 的总和最小。"
   ]
  },
  {
   "cell_type": "code",
   "execution_count": 2,
   "metadata": {},
   "outputs": [],
   "source": [
    "def minPathSum(grid):\n",
    "    if not grid or not grid[0]:\n",
    "        return 0\n",
    "    rows, columns = len(grid), len(grid[0])\n",
    "    dp = [[0] * columns for _ in range(rows)]\n",
    "    dp[0][0] = grid[0][0]\n",
    "\n",
    "    for i in range(1,rows):\n",
    "        dp[i][0] = grid[i][0] + dp[i-1][0]\n",
    "    for j in range(1, columns):\n",
    "        dp[0][j] = grid[0][j] + dp[0][j-1]\n",
    "    for i in range(1, rows):\n",
    "        for j in range(1, columns):\n",
    "            dp[i][j] = min(dp[i-1][j], dp[i][j-1]) + grid[i][j]\n",
    "    return dp[-1][-1]"
   ]
  },
  {
   "cell_type": "code",
   "execution_count": null,
   "metadata": {},
   "outputs": [],
   "source": []
  }
 ],
 "metadata": {
  "kernelspec": {
   "display_name": "Python 3",
   "language": "python",
   "name": "python3"
  },
  "language_info": {
   "codemirror_mode": {
    "name": "ipython",
    "version": 3
   },
   "file_extension": ".py",
   "mimetype": "text/x-python",
   "name": "python",
   "nbconvert_exporter": "python",
   "pygments_lexer": "ipython3",
   "version": "3.7.5"
  }
 },
 "nbformat": 4,
 "nbformat_minor": 2
}
