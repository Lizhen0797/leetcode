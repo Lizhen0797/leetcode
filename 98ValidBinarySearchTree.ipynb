{
 "cells": [
  {
   "cell_type": "markdown",
   "metadata": {},
   "source": [
    "给定一个二叉树，判断其是否是一个有效的二叉搜索树。\n",
    "\n",
    "假设一个二叉搜索树具有如下特征：\n",
    "\n",
    "节点的左子树只包含小于当前节点的数。\n",
    "节点的右子树只包含大于当前节点的数。\n",
    "所有左子树和右子树自身必须也是二叉搜索树。\n",
    "示例 1:\n",
    "\n",
    "输入:\n",
    "    2\n",
    "   / \\\n",
    "  1   3\n",
    "输出: true\n",
    "示例 2:\n",
    "\n",
    "输入:\n",
    "    5\n",
    "   / \\\n",
    "  1   4\n",
    "     / \\\n",
    "    3   6\n",
    "输出: false\n",
    "解释: 输入为: [5,1,4,null,null,3,6]。\n",
    "     根节点的值为 5 ，但是其右子节点值为 4 。"
   ]
  },
  {
   "cell_type": "code",
   "execution_count": 3,
   "metadata": {},
   "outputs": [],
   "source": [
    "class TreeNode(object):\n",
    "    def __init__(self, val):\n",
    "        self.val = val\n",
    "        self.left=None\n",
    "        self.right=None"
   ]
  },
  {
   "cell_type": "code",
   "execution_count": 4,
   "metadata": {},
   "outputs": [],
   "source": [
    "def isValidBST(root):\n",
    "    result = []\n",
    "    inOrder(root, result)\n",
    "    for i in range(0, len(result)-1):\n",
    "        if result[i] >= result[i+1]:\n",
    "            return False\n",
    "    return True\n",
    "    def inOrder(root ,result):\n",
    "        if root is None:\n",
    "            return\n",
    "        inOrder(root.left, result)\n",
    "        result.append(root.val)\n",
    "        inOrder(root.right, result)"
   ]
  },
  {
   "cell_type": "code",
   "execution_count": null,
   "metadata": {},
   "outputs": [],
   "source": []
  }
 ],
 "metadata": {
  "kernelspec": {
   "display_name": "Python 3",
   "language": "python",
   "name": "python3"
  },
  "language_info": {
   "codemirror_mode": {
    "name": "ipython",
    "version": 3
   },
   "file_extension": ".py",
   "mimetype": "text/x-python",
   "name": "python",
   "nbconvert_exporter": "python",
   "pygments_lexer": "ipython3",
   "version": "3.7.5"
  }
 },
 "nbformat": 4,
 "nbformat_minor": 2
}
