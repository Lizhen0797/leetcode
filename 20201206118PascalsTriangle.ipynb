{
 "cells": [
  {
   "cell_type": "raw",
   "metadata": {},
   "source": [
    "给定一个非负整数 numRows，生成杨辉三角的前 numRows 行。\n",
    "\n",
    "\n",
    "\n",
    "在杨辉三角中，每个数是它左上方和右上方的数的和。\n",
    "\n",
    "示例:\n",
    "\n",
    "输入: 5\n",
    "输出:\n",
    "[\n",
    "     [1],\n",
    "    [1,1],\n",
    "   [1,2,1],\n",
    "  [1,3,3,1],\n",
    " [1,4,6,4,1]\n",
    "]\n",
    "通过次数127,720提交次数185,680"
   ]
  },
  {
   "cell_type": "code",
   "execution_count": 1,
   "metadata": {},
   "outputs": [],
   "source": [
    "def generate(numRows):\n",
    "    \"\"\"\n",
    "    :type numRows: int\n",
    "    :rtype: List[List[int]]\n",
    "    \"\"\"\n",
    "    ret = []\n",
    "    for i in range(numRows):\n",
    "        row = []\n",
    "        for j in range(0, i + 1):\n",
    "            if j == 0 or j == i:\n",
    "                row.append(1)\n",
    "            else:\n",
    "                row.append(ret[i - 1][j] + ret[i - 1][j - 1])\n",
    "        ret.append(row)\n",
    "    return ret"
   ]
  },
  {
   "cell_type": "code",
   "execution_count": null,
   "metadata": {},
   "outputs": [],
   "source": []
  }
 ],
 "metadata": {
  "kernelspec": {
   "display_name": "Python 3",
   "language": "python",
   "name": "python3"
  },
  "language_info": {
   "codemirror_mode": {
    "name": "ipython",
    "version": 3
   },
   "file_extension": ".py",
   "mimetype": "text/x-python",
   "name": "python",
   "nbconvert_exporter": "python",
   "pygments_lexer": "ipython3",
   "version": "3.7.5"
  }
 },
 "nbformat": 4,
 "nbformat_minor": 2
}
