{
 "cells": [
  {
   "cell_type": "raw",
   "metadata": {},
   "source": [
    "在MATLAB中，有一个非常有用的函数 reshape，它可以将一个矩阵重塑为另一个大小不同的新矩阵，但保留其原始数据。\n",
    "\n",
    "给出一个由二维数组表示的矩阵，以及两个正整数r和c，分别表示想要的重构的矩阵的行数和列数。\n",
    "\n",
    "重构后的矩阵需要将原始矩阵的所有元素以相同的行遍历顺序填充。\n",
    "\n",
    "如果具有给定参数的reshape操作是可行且合理的，则输出新的重塑矩阵；否则，输出原始矩阵。\n",
    "\n",
    "示例 1:\n",
    "\n",
    "输入: \n",
    "nums = \n",
    "[[1,2],\n",
    " [3,4]]\n",
    "r = 1, c = 4\n",
    "输出: \n",
    "[[1,2,3,4]]\n",
    "解释:\n",
    "行遍历nums的结果是 [1,2,3,4]。新的矩阵是 1 * 4 矩阵, 用之前的元素值一行一行填充新矩阵。\n",
    "示例 2:\n",
    "\n",
    "输入: \n",
    "nums = \n",
    "[[1,2],\n",
    " [3,4]]\n",
    "r = 2, c = 4\n",
    "输出: \n",
    "[[1,2],\n",
    " [3,4]]\n",
    "解释:\n",
    "没有办法将 2 * 2 矩阵转化为 2 * 4 矩阵。 所以输出原矩阵。\n",
    "注意：\n",
    "\n",
    "给定矩阵的宽和高范围在 [1, 100]。\n",
    "给定的 r 和 c 都是正数。"
   ]
  },
  {
   "cell_type": "code",
   "execution_count": 1,
   "metadata": {},
   "outputs": [],
   "source": [
    "def matrixReshape(nums, r, c):\n",
    "    \"\"\"\n",
    "    :type nums: List[List[int]]\n",
    "    :type r: int\n",
    "    :type c: int\n",
    "    :rtype: List[List[int]]\n",
    "    \"\"\"\n",
    "    m, n = len(nums), len(nums[0])\n",
    "    if m*n != r * c:\n",
    "        return nums\n",
    "    ans = [ [0] * c for _ in xrange(r)]\n",
    "    #print(ans)\n",
    "    for i in xrange(m * n):\n",
    "        ans[i // c][i % c] = nums[i // n][i % n]\n",
    "    #print(ans)\n",
    "    return ans"
   ]
  },
  {
   "cell_type": "code",
   "execution_count": null,
   "metadata": {},
   "outputs": [],
   "source": []
  }
 ],
 "metadata": {
  "kernelspec": {
   "display_name": "Python 3",
   "language": "python",
   "name": "python3"
  },
  "language_info": {
   "codemirror_mode": {
    "name": "ipython",
    "version": 3
   },
   "file_extension": ".py",
   "mimetype": "text/x-python",
   "name": "python",
   "nbconvert_exporter": "python",
   "pygments_lexer": "ipython3",
   "version": "3.7.4"
  }
 },
 "nbformat": 4,
 "nbformat_minor": 2
}
