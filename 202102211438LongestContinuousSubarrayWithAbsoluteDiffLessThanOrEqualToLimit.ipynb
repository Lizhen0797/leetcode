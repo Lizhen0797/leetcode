{
 "cells": [
  {
   "cell_type": "raw",
   "metadata": {},
   "source": [
    "给你一个整数数组 nums ，和一个表示限制的整数 limit，请你返回最长连续子数组的长度，该子数组中的任意两个元素之间的绝对差必须小于或者等于 limit 。\n",
    "\n",
    "如果不存在满足条件的子数组，则返回 0 。\n",
    "\n",
    " \n",
    "\n",
    "示例 1：\n",
    "\n",
    "输入：nums = [8,2,4,7], limit = 4\n",
    "输出：2 \n",
    "解释：所有子数组如下：\n",
    "[8] 最大绝对差 |8-8| = 0 <= 4.\n",
    "[8,2] 最大绝对差 |8-2| = 6 > 4. \n",
    "[8,2,4] 最大绝对差 |8-2| = 6 > 4.\n",
    "[8,2,4,7] 最大绝对差 |8-2| = 6 > 4.\n",
    "[2] 最大绝对差 |2-2| = 0 <= 4.\n",
    "[2,4] 最大绝对差 |2-4| = 2 <= 4.\n",
    "[2,4,7] 最大绝对差 |2-7| = 5 > 4.\n",
    "[4] 最大绝对差 |4-4| = 0 <= 4.\n",
    "[4,7] 最大绝对差 |4-7| = 3 <= 4.\n",
    "[7] 最大绝对差 |7-7| = 0 <= 4. \n",
    "因此，满足题意的最长子数组的长度为 2 。\n",
    "示例 2：\n",
    "\n",
    "输入：nums = [10,1,2,4,7,2], limit = 5\n",
    "输出：4 \n",
    "解释：满足题意的最长子数组是 [2,4,7,2]，其最大绝对差 |2-7| = 5 <= 5 。\n",
    "示例 3：\n",
    "\n",
    "输入：nums = [4,2,2,2,4,4,2,2], limit = 0\n",
    "输出：3\n",
    " \n",
    "\n",
    "提示：\n",
    "\n",
    "1 <= nums.length <= 10^5\n",
    "1 <= nums[i] <= 10^9\n",
    "0 <= limit <= 10^9"
   ]
  },
  {
   "cell_type": "code",
   "execution_count": 1,
   "metadata": {},
   "outputs": [],
   "source": [
    "from sortedcontainers import SortedList"
   ]
  },
  {
   "cell_type": "code",
   "execution_count": 2,
   "metadata": {},
   "outputs": [],
   "source": [
    "def longestSubarray(nums, limit):\n",
    "    \"\"\"\n",
    "    :type nums: List[int]\n",
    "    :type limit: int\n",
    "    :rtype: int\n",
    "    \"\"\"\n",
    "    s = SortedList()\n",
    "    left, right = 0, 0\n",
    "    res = 0\n",
    "    while right < len(nums):\n",
    "        s.add(nums[right])\n",
    "        while s[-1] - s[0] > limit:\n",
    "            s.remove(nums[left])\n",
    "            left += 1\n",
    "        res = max(res, right - left + 1)\n",
    "        right += 1\n",
    "    return res"
   ]
  },
  {
   "cell_type": "code",
   "execution_count": null,
   "metadata": {},
   "outputs": [],
   "source": []
  }
 ],
 "metadata": {
  "kernelspec": {
   "display_name": "Python 3",
   "language": "python",
   "name": "python3"
  },
  "language_info": {
   "codemirror_mode": {
    "name": "ipython",
    "version": 3
   },
   "file_extension": ".py",
   "mimetype": "text/x-python",
   "name": "python",
   "nbconvert_exporter": "python",
   "pygments_lexer": "ipython3",
   "version": "3.7.4"
  }
 },
 "nbformat": 4,
 "nbformat_minor": 2
}
