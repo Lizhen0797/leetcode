{
 "cells": [
  {
   "cell_type": "raw",
   "metadata": {},
   "source": [
    "给定由若干 0 和 1 组成的数组 A。我们定义 N_i：从 A[0] 到 A[i] 的第 i 个子数组被解释为一个二进制数（从最高有效位到最低有效位）。\n",
    "\n",
    "返回布尔值列表 answer，只有当 N_i 可以被 5 整除时，答案 answer[i] 为 true，否则为 false。\n",
    "\n",
    " \n",
    "\n",
    "示例 1：\n",
    "\n",
    "输入：[0,1,1]\n",
    "输出：[true,false,false]\n",
    "解释：\n",
    "输入数字为 0, 01, 011；也就是十进制中的 0, 1, 3 。只有第一个数可以被 5 整除，因此 answer[0] 为真。\n",
    "示例 2：\n",
    "\n",
    "输入：[1,1,1]\n",
    "输出：[false,false,false]\n",
    "示例 3：\n",
    "\n",
    "输入：[0,1,1,1,1,1]\n",
    "输出：[true,false,false,false,true,false]\n",
    "示例 4：\n",
    "\n",
    "输入：[1,1,1,0,1]\n",
    "输出：[false,false,false,false,false]"
   ]
  },
  {
   "cell_type": "code",
   "execution_count": 2,
   "metadata": {},
   "outputs": [],
   "source": [
    "def prefixesDivBy5(A):\n",
    "    res = []\n",
    "    pre = 0\n",
    "    for i in A:\n",
    "        pre = (pre<<1)+i\n",
    "        res.append(not pre%5)\n",
    "    return res"
   ]
  },
  {
   "cell_type": "code",
   "execution_count": null,
   "metadata": {},
   "outputs": [],
   "source": []
  }
 ],
 "metadata": {
  "kernelspec": {
   "display_name": "Python 3",
   "language": "python",
   "name": "python3"
  },
  "language_info": {
   "codemirror_mode": {
    "name": "ipython",
    "version": 3
   },
   "file_extension": ".py",
   "mimetype": "text/x-python",
   "name": "python",
   "nbconvert_exporter": "python",
   "pygments_lexer": "ipython3",
   "version": "3.6.9"
  }
 },
 "nbformat": 4,
 "nbformat_minor": 4
}
