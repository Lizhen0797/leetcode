{
 "cells": [
  {
   "cell_type": "raw",
   "metadata": {},
   "source": [
    "给定一个字符串，你的任务是计算这个字符串中有多少个回文子串。\n",
    "\n",
    "具有不同开始位置或结束位置的子串，即使是由相同的字符组成，也会被视作不同的子串。\n",
    "\n",
    " \n",
    "\n",
    "示例 1：\n",
    "\n",
    "输入：\"abc\"\n",
    "输出：3\n",
    "解释：三个回文子串: \"a\", \"b\", \"c\"\n",
    "示例 2：\n",
    "\n",
    "输入：\"aaa\"\n",
    "输出：6\n",
    "解释：6个回文子串: \"a\", \"a\", \"a\", \"aa\", \"aa\", \"aaa\""
   ]
  },
  {
   "cell_type": "code",
   "execution_count": 8,
   "metadata": {},
   "outputs": [],
   "source": [
    "def countSubstrings(s):\n",
    "    count = 0\n",
    "    n = len(s)\n",
    "    dp = [[False] * n for _ in range(n)]\n",
    "    for i in range(n):\n",
    "        for j in range(i+1):\n",
    "            if i==j:\n",
    "                dp[i][j] = True\n",
    "                count += 1\n",
    "            elif(i-j==1 and s[i] == s[j]):\n",
    "                dp[i][j]=True\n",
    "                count += 1\n",
    "            elif(i-j > 1 and s[i] == s[j] and dp[i-1][j+1]):\n",
    "                dp[i][j] = True\n",
    "                count += 1\n",
    "    return count"
   ]
  },
  {
   "cell_type": "code",
   "execution_count": 9,
   "metadata": {},
   "outputs": [],
   "source": [
    "def countSubstrings(s):\n",
    "    \"\"\"\n",
    "    :type s: str\n",
    "    :rtype: int\n",
    "    \"\"\"\n",
    "    n = len(s)\n",
    "    ans=0\n",
    "    for i in range(2*n - 1):\n",
    "        l = i // 2\n",
    "        r = i// 2 + i % 2\n",
    "        while(l >= 0 and r < n and s[l] == s[r]):\n",
    "            print(l,r)\n",
    "            l -= 1\n",
    "            r += 1\n",
    "            ans += 1\n",
    "    return ans"
   ]
  },
  {
   "cell_type": "code",
   "execution_count": null,
   "metadata": {},
   "outputs": [],
   "source": [
    "countSubstrings"
   ]
  }
 ],
 "metadata": {
  "kernelspec": {
   "display_name": "Python 3",
   "language": "python",
   "name": "python3"
  },
  "language_info": {
   "codemirror_mode": {
    "name": "ipython",
    "version": 3
   },
   "file_extension": ".py",
   "mimetype": "text/x-python",
   "name": "python",
   "nbconvert_exporter": "python",
   "pygments_lexer": "ipython3",
   "version": "3.7.5"
  }
 },
 "nbformat": 4,
 "nbformat_minor": 2
}
