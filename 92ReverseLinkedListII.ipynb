{
 "cells": [
  {
   "cell_type": "raw",
   "metadata": {},
   "source": [
    "反转从位置 m 到 n 的链表。请使用一趟扫描完成反转。\n",
    "\n",
    "说明:\n",
    "1 ≤ m ≤ n ≤ 链表长度。\n",
    "\n",
    "示例:\n",
    "\n",
    "输入: 1->2->3->4->5->NULL, m = 2, n = 4\n",
    "输出: 1->4->3->2->5->NULL"
   ]
  },
  {
   "cell_type": "code",
   "execution_count": 1,
   "metadata": {},
   "outputs": [],
   "source": [
    "class LinkNode(object):\n",
    "    def __init__(val):\n",
    "        self.val = val\n",
    "        self.next = None"
   ]
  },
  {
   "cell_type": "code",
   "execution_count": null,
   "metadata": {},
   "outputs": [],
   "source": [
    "def reverseBetween(head, m, n):\n",
    "    \"\"\"\n",
    "    :type head: ListNode\n",
    "    :type m: int\n",
    "    :type n: int\n",
    "    :rtype: ListNode\n",
    "    \"\"\"\n",
    "    if head is None:\n",
    "        return head\n",
    "    #先保证头部不丢失\n",
    "    dummy = ListNode(0)\n",
    "    dummy.next = head\n",
    "    head = dummy\n",
    "    #便利到m位置\n",
    "    for _ in range(m):\n",
    "        pre = head\n",
    "        head = head.next\n",
    "\n",
    "    #保留m位置上一位置的节点\n",
    "    back = head\n",
    "    \n",
    "    #交换\n",
    "    reverse_pre= None\n",
    "    reverse_last= None\n",
    "    for _ in range(n-m+1):\n",
    "        #先找到下一个节点的位置\n",
    "        reverse_last = head.next\n",
    "        #将本节点的next设置为上一个节点\n",
    "        head.next = reverse_pre\n",
    "        #保留本个节点\n",
    "        reverse_pre = head\n",
    "        #跳到下一个位置节点\n",
    "        head = reverse_last\n",
    "    \n",
    "    pre.next = reverse_pre\n",
    "    back.next = reverse_last\n",
    "    return dummy.next"
   ]
  }
 ],
 "metadata": {
  "kernelspec": {
   "display_name": "Python 3",
   "language": "python",
   "name": "python3"
  },
  "language_info": {
   "codemirror_mode": {
    "name": "ipython",
    "version": 3
   },
   "file_extension": ".py",
   "mimetype": "text/x-python",
   "name": "python",
   "nbconvert_exporter": "python",
   "pygments_lexer": "ipython3",
   "version": "3.7.5"
  }
 },
 "nbformat": 4,
 "nbformat_minor": 2
}
