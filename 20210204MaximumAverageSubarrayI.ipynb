{
 "cells": [
  {
   "cell_type": "raw",
   "metadata": {},
   "source": [
    "给定 n 个整数，找出平均数最大且长度为 k 的连续子数组，并输出该最大平均数。\n",
    "\n",
    " \n",
    "\n",
    "示例：\n",
    "\n",
    "输入：[1,12,-5,-6,50,3], k = 4\n",
    "输出：12.75\n",
    "解释：最大平均数 (12-5-6+50)/4 = 51/4 = 12.75\n",
    " \n",
    "\n",
    "提示：\n",
    "\n",
    "1 <= k <= n <= 30,000。\n",
    "所给数据范围 [-10,000，10,000]。"
   ]
  },
  {
   "cell_type": "code",
   "execution_count": 1,
   "metadata": {},
   "outputs": [],
   "source": [
    "def findMaxAverage(nums, k):\n",
    "    \"\"\"\n",
    "    :type nums: List[int]\n",
    "    :type k: int\n",
    "    :rtype: float\n",
    "    \"\"\"\n",
    "    # 第一种暴力 o(nk)\n",
    "    # ans = -10001\n",
    "    # for i in range(len(nums)-k+1):\n",
    "    #     #print(ans)\n",
    "    #     ans = max(ans, float(sum(nums[i:i+k]))/k)\n",
    "    # return ans\n",
    "    # 第二种 o(n)\n",
    "    #print(float(sum(nums[:k]))/k)\n",
    "    temp = float(sum(nums[:k]))/k\n",
    "    ans = temp\n",
    "    for i in range(k, len(nums)):\n",
    "        temp = temp + float(nums[i])/k - float(nums[i-k])/k\n",
    "        ans = max(ans, temp)\n",
    "    return ans"
   ]
  },
  {
   "cell_type": "code",
   "execution_count": null,
   "metadata": {},
   "outputs": [],
   "source": []
  }
 ],
 "metadata": {
  "kernelspec": {
   "display_name": "Python 3",
   "language": "python",
   "name": "python3"
  },
  "language_info": {
   "codemirror_mode": {
    "name": "ipython",
    "version": 3
   },
   "file_extension": ".py",
   "mimetype": "text/x-python",
   "name": "python",
   "nbconvert_exporter": "python",
   "pygments_lexer": "ipython3",
   "version": "3.7.4"
  }
 },
 "nbformat": 4,
 "nbformat_minor": 2
}
