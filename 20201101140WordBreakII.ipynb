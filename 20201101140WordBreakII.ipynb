{
 "cells": [
  {
   "cell_type": "raw",
   "metadata": {},
   "source": [
    "给定一个非空字符串 s 和一个包含非空单词列表的字典 wordDict，在字符串中增加空格来构建一个句子，使得句子中所有的单词都在词典中。返回所有这些可能的句子。\n",
    "\n",
    "说明：\n",
    "\n",
    "分隔时可以重复使用字典中的单词。\n",
    "你可以假设字典中没有重复的单词。\n",
    "示例 1：\n",
    "\n",
    "输入:\n",
    "s = \"catsanddog\"\n",
    "wordDict = [\"cat\", \"cats\", \"and\", \"sand\", \"dog\"]\n",
    "输出:\n",
    "[\n",
    "  \"cats and dog\",\n",
    "  \"cat sand dog\"\n",
    "]\n",
    "示例 2：\n",
    "\n",
    "输入:\n",
    "s = \"pineapplepenapple\"\n",
    "wordDict = [\"apple\", \"pen\", \"applepen\", \"pine\", \"pineapple\"]\n",
    "输出:\n",
    "[\n",
    "  \"pine apple pen apple\",\n",
    "  \"pineapple pen apple\",\n",
    "  \"pine applepen apple\"\n",
    "]\n",
    "解释: 注意你可以重复使用字典中的单词。\n",
    "示例 3：\n",
    "\n",
    "输入:\n",
    "s = \"catsandog\"\n",
    "wordDict = [\"cats\", \"dog\", \"sand\", \"and\", \"cat\"]\n",
    "输出:\n",
    "[]"
   ]
  },
  {
   "cell_type": "code",
   "execution_count": 3,
   "metadata": {},
   "outputs": [],
   "source": [
    "def wordBreak(self, s, wordDict):\n",
    "    @lru_cache(None)\n",
    "    def backtrack(index):\n",
    "        if index == len(s):\n",
    "            return [[]]\n",
    "        ans = list()\n",
    "        for i in range(index + 1, len(s) + 1):\n",
    "            word = s[index:i]\n",
    "            if word in wordSet:\n",
    "                nextWordBreaks = backtrack(i)\n",
    "                for nextWordBreak in nextWordBreaks:\n",
    "                    ans.append(nextWordBreak.copy() + [word])\n",
    "        return ans\n",
    "\n",
    "    wordSet = set(wordDict)\n",
    "    breakList = backtrack(0)\n",
    "    return [\" \".join(words[::-1]) for words in breakList]"
   ]
  },
  {
   "cell_type": "code",
   "execution_count": null,
   "metadata": {},
   "outputs": [],
   "source": []
  }
 ],
 "metadata": {
  "kernelspec": {
   "display_name": "Python 3",
   "language": "python",
   "name": "python3"
  },
  "language_info": {
   "codemirror_mode": {
    "name": "ipython",
    "version": 3
   },
   "file_extension": ".py",
   "mimetype": "text/x-python",
   "name": "python",
   "nbconvert_exporter": "python",
   "pygments_lexer": "ipython3",
   "version": "3.7.5"
  }
 },
 "nbformat": 4,
 "nbformat_minor": 2
}
