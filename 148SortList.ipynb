{
 "cells": [
  {
   "cell_type": "raw",
   "metadata": {},
   "source": [
    "在 O(n log n) 时间复杂度和常数级空间复杂度下，对链表进行排序。\n",
    "\n",
    "示例 1:\n",
    "\n",
    "输入: 4->2->1->3\n",
    "输出: 1->2->3->4\n",
    "示例 2:\n",
    "\n",
    "输入: -1->5->3->4->0\n"
   ]
  },
  {
   "cell_type": "code",
   "execution_count": 2,
   "metadata": {},
   "outputs": [],
   "source": [
    "class ListNode(object):\n",
    "    def __init__(self, x):\n",
    "        self.val = x\n",
    "        self.next = None"
   ]
  },
  {
   "cell_type": "code",
   "execution_count": 3,
   "metadata": {},
   "outputs": [],
   "source": [
    "def sortList(head):\n",
    "    if not head or not head.next:\n",
    "        return head\n",
    "    slow, fast = head, head.next\n",
    "    while fast and fast.next:\n",
    "        fast, slow = fast.next.next, slow.next\n",
    "    mid, slow.next = slow.next, None\n",
    "    left, right = sortList(head), sortList(mid)\n",
    "    h = res = ListNode(0)\n",
    "    while left and right:\n",
    "        if left.val < right.val:\n",
    "            h.next = left\n",
    "            left = left.next\n",
    "        else:\n",
    "            h.next = right\n",
    "            right = right.next\n",
    "        h = h.next\n",
    "    h.next = left if left else right\n",
    "    return res.next"
   ]
  },
  {
   "cell_type": "code",
   "execution_count": null,
   "metadata": {},
   "outputs": [],
   "source": []
  }
 ],
 "metadata": {
  "kernelspec": {
   "display_name": "Python 3",
   "language": "python",
   "name": "python3"
  },
  "language_info": {
   "codemirror_mode": {
    "name": "ipython",
    "version": 3
   },
   "file_extension": ".py",
   "mimetype": "text/x-python",
   "name": "python",
   "nbconvert_exporter": "python",
   "pygments_lexer": "ipython3",
   "version": "3.7.5"
  }
 },
 "nbformat": 4,
 "nbformat_minor": 2
}
