{
 "cells": [
  {
   "cell_type": "raw",
   "metadata": {},
   "source": [
    "给定一个以字符串表示的非负整数 num，移除这个数中的 k 位数字，使得剩下的数字最小。\n",
    "\n",
    "注意:\n",
    "\n",
    "num 的长度小于 10002 且 ≥ k。\n",
    "num 不会包含任何前导零。\n",
    "示例 1 :\n",
    "\n",
    "输入: num = \"1432219\", k = 3\n",
    "输出: \"1219\"\n",
    "解释: 移除掉三个数字 4, 3, 和 2 形成一个新的最小的数字 1219。\n",
    "示例 2 :\n",
    "\n",
    "输入: num = \"10200\", k = 1\n",
    "输出: \"200\"\n",
    "解释: 移掉首位的 1 剩下的数字为 200. 注意输出不能有任何前导零。\n",
    "示例 3 :\n",
    "\n",
    "输入: num = \"10\", k = 2\n",
    "输出: \"0\"\n",
    "解释: 从原数字移除所有的数字，剩余为空就是0。"
   ]
  },
  {
   "cell_type": "code",
   "execution_count": 1,
   "metadata": {},
   "outputs": [],
   "source": [
    "def removeKdigits(self, num, k):\n",
    "    \"\"\"\n",
    "    :type num: str\n",
    "    :type k: int\n",
    "    :rtype: str\n",
    "    \"\"\"\n",
    "    numStack = []\n",
    "\n",
    "    # 构建单调递增的数字串\n",
    "    for digit in num:\n",
    "        while k and numStack and numStack[-1] > digit:\n",
    "            numStack.pop()\n",
    "            k -= 1\n",
    "\n",
    "        numStack.append(digit)\n",
    "\n",
    "    # 如果 K > 0，删除末尾的 K 个字符\n",
    "    finalStack = numStack[:-k] if k else numStack\n",
    "\n",
    "    # 抹去前导零\n",
    "    return \"\".join(finalStack).lstrip('0') or \"0\""
   ]
  },
  {
   "cell_type": "code",
   "execution_count": null,
   "metadata": {},
   "outputs": [],
   "source": []
  }
 ],
 "metadata": {
  "kernelspec": {
   "display_name": "Python 3",
   "language": "python",
   "name": "python3"
  },
  "language_info": {
   "codemirror_mode": {
    "name": "ipython",
    "version": 3
   },
   "file_extension": ".py",
   "mimetype": "text/x-python",
   "name": "python",
   "nbconvert_exporter": "python",
   "pygments_lexer": "ipython3",
   "version": "3.7.5"
  }
 },
 "nbformat": 4,
 "nbformat_minor": 2
}
