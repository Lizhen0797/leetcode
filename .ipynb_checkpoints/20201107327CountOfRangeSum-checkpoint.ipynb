{
 "cells": [
  {
   "cell_type": "raw",
   "metadata": {},
   "source": [
    "给定一个整数数组 nums，返回区间和在 [lower, upper] 之间的个数，包含 lower 和 upper。\n",
    "区间和 S(i, j) 表示在 nums 中，位置从 i 到 j 的元素之和，包含 i 和 j (i ≤ j)。\n",
    "\n",
    "说明:\n",
    "最直观的算法复杂度是 O(n2) ，请在此基础上优化你的算法。\n",
    "\n",
    "示例:\n",
    "\n",
    "输入: nums = [-2,5,-1], lower = -2, upper = 2,\n",
    "输出: 3 \n",
    "解释: 3个区间分别是: [0,0], [2,2], [0,2]，它们表示的和分别为: -2, -1, 2。"
   ]
  },
  {
   "cell_type": "code",
   "execution_count": 3,
   "metadata": {},
   "outputs": [],
   "source": [
    "import bisect"
   ]
  },
  {
   "cell_type": "code",
   "execution_count": 4,
   "metadata": {},
   "outputs": [],
   "source": [
    "def countRangeSum(nums, lower, upper):\n",
    "    res = cur = 0\n",
    "    s = [0]\n",
    "    for v in nums:\n",
    "        cur += v\n",
    "        res += bisect.bisect_right(s, cur-lower) - bisect.bisect_left(s, cur-upper)\n",
    "        bisect.insort_right(s, cur)\n",
    "\n",
    "    return res"
   ]
  }
 ],
 "metadata": {
  "kernelspec": {
   "display_name": "Python 3",
   "language": "python",
   "name": "python3"
  },
  "language_info": {
   "codemirror_mode": {
    "name": "ipython",
    "version": 3
   },
   "file_extension": ".py",
   "mimetype": "text/x-python",
   "name": "python",
   "nbconvert_exporter": "python",
   "pygments_lexer": "ipython3",
   "version": "3.7.5"
  }
 },
 "nbformat": 4,
 "nbformat_minor": 2
}
