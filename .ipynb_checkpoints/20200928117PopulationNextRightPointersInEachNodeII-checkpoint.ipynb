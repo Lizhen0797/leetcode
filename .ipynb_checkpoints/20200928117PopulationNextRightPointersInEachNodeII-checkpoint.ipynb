{
 "cells": [
  {
   "cell_type": "raw",
   "metadata": {},
   "source": [
    "给定一个二叉树\n",
    "struct Node {\n",
    "  int val;\n",
    "  Node *left;\n",
    "  Node *right;\n",
    "  Node *next;\n",
    "}\n",
    "填充它的每个 next 指针，让这个指针指向其下一个右侧节点。如果找不到下一个右侧节点，则将 next 指针设置为 NULL。\n",
    "\n",
    "初始状态下，所有 next 指针都被设置为 NULL。\n",
    "\n",
    " \n",
    "\n",
    "进阶：\n",
    "\n",
    "你只能使用常量级额外空间。\n",
    "使用递归解题也符合要求，本题中递归程序占用的栈空间不算做额外的空间复杂度。\n",
    " \n",
    "\n",
    "示例：\n",
    "\n",
    "\n",
    "\n",
    "输入：root = [1,2,3,4,5,null,7]\n",
    "输出：[1,#,2,3,#,4,5,7,#]\n",
    "解释：给定二叉树如图 A 所示，你的函数应该填充它的每个 next 指针，以指向其下一个右侧节点，如图 B 所示。"
   ]
  },
  {
   "cell_type": "code",
   "execution_count": 1,
   "metadata": {},
   "outputs": [],
   "source": [
    "class Node(object):\n",
    "    def __init__(self, val=0, left=None, right=None, next=None):\n",
    "        self.val = val\n",
    "        self.left = left\n",
    "        self.right = right\n",
    "        self.next = next"
   ]
  },
  {
   "cell_type": "code",
   "execution_count": 2,
   "metadata": {},
   "outputs": [],
   "source": [
    "def connect(self, root):\n",
    "    \"\"\"\n",
    "    :type root: Node\n",
    "    :rtype: Node\n",
    "    \"\"\"\n",
    "    if root is None:\n",
    "        return None\n",
    "    quene = [root]\n",
    "    while (len(quene) != 0):\n",
    "        n = len(quene)\n",
    "        last = Node()\n",
    "        for i in range(1, n+1):\n",
    "            f = quene.pop(0)\n",
    "            if (f.left != None):\n",
    "                quene.append(f.left)\n",
    "            if (f.right != None):\n",
    "                quene.append(f.right)\n",
    "            if (i!=1):\n",
    "                last.next = f\n",
    "            last = f\n",
    "    return root"
   ]
  },
  {
   "cell_type": "code",
   "execution_count": null,
   "metadata": {},
   "outputs": [],
   "source": []
  }
 ],
 "metadata": {
  "kernelspec": {
   "display_name": "Python 3",
   "language": "python",
   "name": "python3"
  },
  "language_info": {
   "codemirror_mode": {
    "name": "ipython",
    "version": 3
   },
   "file_extension": ".py",
   "mimetype": "text/x-python",
   "name": "python",
   "nbconvert_exporter": "python",
   "pygments_lexer": "ipython3",
   "version": "3.7.5"
  }
 },
 "nbformat": 4,
 "nbformat_minor": 2
}
