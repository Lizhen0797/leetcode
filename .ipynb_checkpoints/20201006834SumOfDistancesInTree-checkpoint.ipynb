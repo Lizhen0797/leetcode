{
 "cells": [
  {
   "cell_type": "raw",
   "metadata": {},
   "source": [
    "给定一个无向、连通的树。树中有 N 个标记为 0...N-1 的节点以及 N-1 条边 。\n",
    "\n",
    "第 i 条边连接节点 edges[i][0] 和 edges[i][1] 。\n",
    "\n",
    "返回一个表示节点 i 与其他所有节点距离之和的列表 ans。\n",
    "\n",
    "示例 1:\n",
    "\n",
    "输入: N = 6, edges = [[0,1],[0,2],[2,3],[2,4],[2,5]]\n",
    "输出: [8,12,6,10,10,10]\n",
    "解释: \n",
    "如下为给定的树的示意图：\n",
    "  0\n",
    " / \\\n",
    "1   2\n",
    "   /|\\\n",
    "  3 4 5\n",
    "\n",
    "我们可以计算出 dist(0,1) + dist(0,2) + dist(0,3) + dist(0,4) + dist(0,5) \n",
    "也就是 1 + 1 + 2 + 2 + 2 = 8。 因此，answer[0] = 8，以此类推。"
   ]
  },
  {
   "cell_type": "code",
   "execution_count": 6,
   "metadata": {},
   "outputs": [],
   "source": [
    "def sumOfDistancesInTree(N, edges):\n",
    "    \"\"\"\n",
    "    :type N: int\n",
    "    :type edges: List[List[int]]\n",
    "    :rtype: List[int]\n",
    "    \"\"\"\n",
    "    #如果将儿子作为根节点来遍历，则与儿子同层的节点多走了一步（因为相当与变为了孙子节点），除了那层节点的所有节点则少走了一步。\n",
    "    #answer[child] = answear[parent] + N - 2 * count[child]\n",
    "    def dfsForAnswer(parent, root):\n",
    "        for child in tree[parent]:\n",
    "            if child != root:\n",
    "                answer[child] = answer[parent] + N - 2 * count[child]\n",
    "                dfsForAnswer(child, parent)\n",
    "\n",
    "    def dfsForDepthAndCount(parent, root):\n",
    "            #该节点至少有自己一个孩子\n",
    "            count[parent] = 1\n",
    "            # 从自己的孩子节点中遍历\n",
    "            for child in tree[parent]:\n",
    "                # 如果不是自己的父亲节点\n",
    "                if child != root:\n",
    "                    # 孩子节点的层数比parent的+1\n",
    "                    depth[child] = depth[parent] + 1\n",
    "                    # 遍历孩子的孩子\n",
    "                    dfsForDepthAndCount(child, parent)\n",
    "                    # 该节点的孩子总数等与自己+孩子节点总数\n",
    "                    count[parent] += count[child]\n",
    "\n",
    "    tree = [[] for _ in range(N)]\n",
    "    for parent, child in edges:\n",
    "        tree[parent].append(child)\n",
    "        tree[child].append(parent)\n",
    "\n",
    "    depth = [0 for _ in range(N)]\n",
    "    count = [0 for _ in range(N)]\n",
    "   \n",
    "    dfsForDepthAndCount(0, -1)\n",
    "    print(count)\n",
    "    print(depth)\n",
    "    print(tree)\n",
    "    answer = [0 for _ in range(N)]\n",
    "    answer[0] = sum(depth)\n",
    "    dfsForAnswer(0, -1)\n",
    "    return answer"
   ]
  },
  {
   "cell_type": "code",
   "execution_count": 11,
   "metadata": {},
   "outputs": [
    {
     "name": "stdout",
     "output_type": "stream",
     "text": [
      "[6, 1, 4, 1, 1, 1]\n",
      "[0, 1, 1, 2, 2, 2]\n",
      "[[1, 2], [0], [0, 3, 4, 5], [2], [2], [2]]\n"
     ]
    },
    {
     "data": {
      "text/plain": [
       "[8, 12, 6, 10, 10, 10]"
      ]
     },
     "execution_count": 11,
     "metadata": {},
     "output_type": "execute_result"
    }
   ],
   "source": [
    "sumOfDistancesInTree(N = 6, edges = [[0,1],[0,2],[2,3],[2,4],[2,5]])"
   ]
  },
  {
   "cell_type": "code",
   "execution_count": null,
   "metadata": {},
   "outputs": [],
   "source": []
  }
 ],
 "metadata": {
  "kernelspec": {
   "display_name": "Python 3",
   "language": "python",
   "name": "python3"
  },
  "language_info": {
   "codemirror_mode": {
    "name": "ipython",
    "version": 3
   },
   "file_extension": ".py",
   "mimetype": "text/x-python",
   "name": "python",
   "nbconvert_exporter": "python",
   "pygments_lexer": "ipython3",
   "version": "3.7.5"
  }
 },
 "nbformat": 4,
 "nbformat_minor": 2
}
