{
 "cells": [
  {
   "cell_type": "raw",
   "metadata": {},
   "source": [
    "你有 k 个升序排列的整数列表。找到一个最小区间，使得 k 个列表中的每个列表至少有一个数包含在其中。\n",
    "\n",
    "我们定义如果 b-a < d-c 或者在 b-a == d-c 时 a < c，则区间 [a,b] 比 [c,d] 小。\n",
    "\n",
    " \n",
    "\n",
    "示例：\n",
    "\n",
    "输入：[[4,10,15,24,26], [0,9,12,20], [5,18,22,30]]\n",
    "输出：[20,24]\n",
    "解释： \n",
    "列表 1：[4, 10, 15, 24, 26]，24 在区间 [20,24] 中。\n",
    "列表 2：[0, 9, 12, 20]，20 在区间 [20,24] 中。\n",
    "列表 3：[5, 18, 22, 30]，22 在区间 [20,24] 中。\n",
    " \n",
    "\n",
    "提示：\n",
    "\n",
    "给定的列表可能包含重复元素，所以在这里升序表示 >= 。\n",
    "1 <= k <= 3500\n",
    "-105 <= 元素的值 <= 105\n",
    "对于使用Java的用户，请注意传入类型已修改为List<List<Integer>>。重置代码模板后可以看到这项改动。"
   ]
  },
  {
   "cell_type": "code",
   "execution_count": null,
   "metadata": {},
   "outputs": [],
   "source": [
    "from queue import PriorityQueue\n",
    "#PriortyQueue 数值越小排在前面\n",
    "def smallestRange(self, nums: List[List[int]]) -> List[int]:\n",
    "    q = PriorityQueue()\n",
    "    N = len(nums)\n",
    "    INF = 10 ** 9\n",
    "    maxv = -INF\n",
    "    start, end = -INF, INF\n",
    "    # 先把所有链表的最小值放入队列，并找出最大值\n",
    "    for i in range(N):\n",
    "        q.put((nums[i][0], i, 0))\n",
    "        maxv = max(maxv, nums[i][0])\n",
    "    #\n",
    "    while q.qsize() == N:\n",
    "        #获得队列中的最小值\n",
    "        v, i, j= q.get()\n",
    "        #如果在区间内则更新区间\n",
    "        if maxv - v < end - start:\n",
    "            start, end = v, maxv\n",
    "        #从哪个队列取了数据就把数据塞一个进去，保证区间中每一个队列至少有一个元素，如果新的数不在队列中则无所谓因为前驱的已经考虑出队列的数据了\n",
    "        if j + 1 < len(nums[i]):\n",
    "            nv = nums[i][j + 1]\n",
    "            q.put((nv, i, j + 1))\n",
    "            maxv = max(maxv, nv)\n",
    "    return [start, end]"
   ]
  }
 ],
 "metadata": {
  "kernelspec": {
   "display_name": "Python 3",
   "language": "python",
   "name": "python3"
  },
  "language_info": {
   "codemirror_mode": {
    "name": "ipython",
    "version": 3
   },
   "file_extension": ".py",
   "mimetype": "text/x-python",
   "name": "python",
   "nbconvert_exporter": "python",
   "pygments_lexer": "ipython3",
   "version": "3.7.5"
  }
 },
 "nbformat": 4,
 "nbformat_minor": 2
}
