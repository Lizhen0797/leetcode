{
 "cells": [
  {
   "cell_type": "raw",
   "metadata": {},
   "source": [
    "给定两个数组，编写一个函数来计算它们的交集。\n",
    "\n",
    " \n",
    "\n",
    "示例 1：\n",
    "\n",
    "输入：nums1 = [1,2,2,1], nums2 = [2,2]\n",
    "输出：[2]\n",
    "示例 2：\n",
    "\n",
    "输入：nums1 = [4,9,5], nums2 = [9,4,9,8,4]\n",
    "输出：[9,4]"
   ]
  },
  {
   "cell_type": "code",
   "execution_count": 1,
   "metadata": {},
   "outputs": [],
   "source": [
    "def intersection(nums1, nums2):\n",
    "    \"\"\"\n",
    "    :type nums1: List[int]\n",
    "    :type nums2: List[int]\n",
    "    :rtype: List[int]\n",
    "    \"\"\"\n",
    "    nums1 = set(nums1)\n",
    "    nums2 = set(nums2)\n",
    "    if len(nums2) > len(nums1):\n",
    "        nums1, nums2 = nums2, nums1\n",
    "    ans = []\n",
    "    for item in nums2:\n",
    "        #print(item)\n",
    "        if item in nums1:\n",
    "            ans.append(item)\n",
    "    return ans"
   ]
  },
  {
   "cell_type": "code",
   "execution_count": null,
   "metadata": {},
   "outputs": [],
   "source": []
  }
 ],
 "metadata": {
  "kernelspec": {
   "display_name": "Python 3",
   "language": "python",
   "name": "python3"
  },
  "language_info": {
   "codemirror_mode": {
    "name": "ipython",
    "version": 3
   },
   "file_extension": ".py",
   "mimetype": "text/x-python",
   "name": "python",
   "nbconvert_exporter": "python",
   "pygments_lexer": "ipython3",
   "version": "3.7.5"
  }
 },
 "nbformat": 4,
 "nbformat_minor": 2
}
