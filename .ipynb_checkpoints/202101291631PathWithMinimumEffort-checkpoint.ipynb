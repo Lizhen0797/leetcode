{
 "cells": [
  {
   "cell_type": "raw",
   "metadata": {},
   "source": [
    "你准备参加一场远足活动。给你一个二维 rows x columns 的地图 heights ，其中 heights[row][col] 表示格子 (row, col) 的高度。一开始你在最左上角的格子 (0, 0) ，且你希望去最右下角的格子 (rows-1, columns-1) （注意下标从 0 开始编号）。你每次可以往 上，下，左，右 四个方向之一移动，你想要找到耗费 体力 最小的一条路径。\n",
    "\n",
    "一条路径耗费的 体力值 是路径上相邻格子之间 高度差绝对值 的 最大值 决定的。\n",
    "\n",
    "请你返回从左上角走到右下角的最小 体力消耗值 。\n",
    "\n",
    " \n",
    "\n",
    "示例 1：\n",
    "\n",
    "\n",
    "\n",
    "输入：heights = [[1,2,2],[3,8,2],[5,3,5]]\n",
    "输出：2\n",
    "解释：路径 [1,3,5,3,5] 连续格子的差值绝对值最大为 2 。\n",
    "这条路径比路径 [1,2,2,2,5] 更优，因为另一条路径差值最大值为 3 。\n",
    "示例 2：\n",
    "\n",
    "\n",
    "\n",
    "输入：heights = [[1,2,3],[3,8,4],[5,3,5]]\n",
    "输出：1\n",
    "解释：路径 [1,2,3,4,5] 的相邻格子差值绝对值最大为 1 ，比路径 [1,3,5,3,5] 更优。\n",
    "示例 3：\n",
    "\n",
    "\n",
    "输入：heights = [[1,2,1,1,1],[1,2,1,2,1],[1,2,1,2,1],[1,2,1,2,1],[1,1,1,2,1]]\n",
    "输出：0\n",
    "解释：上图所示路径不需要消耗任何体力。\n",
    " \n",
    "\n",
    "提示：\n",
    "\n",
    "rows == heights.length\n",
    "columns == heights[i].length\n",
    "1 <= rows, columns <= 100\n",
    "1 <= heights[i][j] <= 106"
   ]
  },
  {
   "cell_type": "code",
   "execution_count": 3,
   "metadata": {},
   "outputs": [],
   "source": [
    "class UnionFind:\n",
    "    def __init__(self, n):\n",
    "        self.father = list(range(n))\n",
    "    \n",
    "    def find(self, x):\n",
    "        if self.father[x] == x:\n",
    "            return x\n",
    "        self.father[x] = self.find(self.father[x])\n",
    "        return self.father[x]\n",
    "    \n",
    "    def merge(self, x, y):\n",
    "        x, y =self.find(x), self.find(y)\n",
    "        self.father[y] = x\n",
    "    \n",
    "    def is_coonected(self, x, y):\n",
    "        return self.find(x) == self.find(y)"
   ]
  },
  {
   "cell_type": "code",
   "execution_count": 8,
   "metadata": {},
   "outputs": [],
   "source": [
    "def minimumEffortPath(heights):\n",
    "    \"\"\"\n",
    "    :type heights: List[List[int]]\n",
    "    :rtype: int\n",
    "    \"\"\"\n",
    "    m = len(heights)\n",
    "    n = len(heights[0])\n",
    "    edges = []\n",
    "    for i in range(m):\n",
    "        for j in range(n):\n",
    "            iden = i * n +j\n",
    "            if i > 0:\n",
    "                edges.append((iden-n, iden, abs(heights[i][j] - heights[i-1][j])))\n",
    "            if j > 0:\n",
    "                edges.append((iden-1, iden, abs(heights[i][j] - heights[i][j-1])))\n",
    "    edges.sort(key=lambda x:x[2])\n",
    "    uf = UnionFind(m * n)\n",
    "    ans = 0\n",
    "    for x, y, v in edges:\n",
    "        uf.merge(x, y)\n",
    "        if uf.is_coonected(0, m * n -1):\n",
    "            ans = v\n",
    "            break\n",
    "    return ans"
   ]
  },
  {
   "cell_type": "code",
   "execution_count": 9,
   "metadata": {},
   "outputs": [
    {
     "data": {
      "text/plain": [
       "2"
      ]
     },
     "execution_count": 9,
     "metadata": {},
     "output_type": "execute_result"
    }
   ],
   "source": [
    "minimumEffortPath([[1,2,2],[3,8,2],[5,3,5]])"
   ]
  },
  {
   "cell_type": "code",
   "execution_count": null,
   "metadata": {},
   "outputs": [],
   "source": []
  }
 ],
 "metadata": {
  "kernelspec": {
   "display_name": "Python 3",
   "language": "python",
   "name": "python3"
  },
  "language_info": {
   "codemirror_mode": {
    "name": "ipython",
    "version": 3
   },
   "file_extension": ".py",
   "mimetype": "text/x-python",
   "name": "python",
   "nbconvert_exporter": "python",
   "pygments_lexer": "ipython3",
   "version": "3.7.4"
  }
 },
 "nbformat": 4,
 "nbformat_minor": 2
}
