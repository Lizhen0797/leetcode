{
 "cells": [
  {
   "cell_type": "raw",
   "metadata": {},
   "source": [
    "给定一个按非递减顺序排序的整数数组 A，返回每个数字的平方组成的新数组，要求也按非递减顺序排序。\n",
    "\n",
    " \n",
    "\n",
    "示例 1：\n",
    "\n",
    "输入：[-4,-1,0,3,10]\n",
    "输出：[0,1,9,16,100]\n",
    "示例 2：\n",
    "\n",
    "输入：[-7,-3,2,3,11]\n",
    "输出：[4,9,9,49,121]\n",
    " \n",
    "\n",
    "提示：\n",
    "\n",
    "1 <= A.length <= 10000\n",
    "-10000 <= A[i] <= 10000\n",
    "A 已按非递减顺序排序。"
   ]
  },
  {
   "cell_type": "code",
   "execution_count": 6,
   "metadata": {},
   "outputs": [],
   "source": [
    "def sortedSquares(A):\n",
    "    pos = -1\n",
    "    n = len(A)\n",
    "    for i in range(len(A)):\n",
    "        if A[i] < 0:\n",
    "            pos = i\n",
    "        else:\n",
    "            break\n",
    "    ans = []\n",
    "    i = pos\n",
    "    j = pos + 1\n",
    "    while i >= 0 or j < n:\n",
    "        if i<0:\n",
    "            ans.append(A[j]*A[j])\n",
    "            j += 1\n",
    "        elif j == n:\n",
    "            ans.append(A[i]*A[i])\n",
    "            i-=1\n",
    "        elif A[i] * A[i] < A[j] * A[j]:\n",
    "            ans.append(A[i] * A[i])\n",
    "            i-=1\n",
    "        else:\n",
    "            ans.append(A[j]*A[j])\n",
    "            j+=1\n",
    "    return ans"
   ]
  },
  {
   "cell_type": "code",
   "execution_count": 7,
   "metadata": {},
   "outputs": [
    {
     "data": {
      "text/plain": [
       "[0, 1, 9, 16, 100]"
      ]
     },
     "execution_count": 7,
     "metadata": {},
     "output_type": "execute_result"
    }
   ],
   "source": [
    "sortedSquares([-4,-1,0,3,10])"
   ]
  },
  {
   "cell_type": "code",
   "execution_count": null,
   "metadata": {},
   "outputs": [],
   "source": []
  }
 ],
 "metadata": {
  "kernelspec": {
   "display_name": "Python 3",
   "language": "python",
   "name": "python3"
  },
  "language_info": {
   "codemirror_mode": {
    "name": "ipython",
    "version": 3
   },
   "file_extension": ".py",
   "mimetype": "text/x-python",
   "name": "python",
   "nbconvert_exporter": "python",
   "pygments_lexer": "ipython3",
   "version": "3.7.5"
  }
 },
 "nbformat": 4,
 "nbformat_minor": 2
}
