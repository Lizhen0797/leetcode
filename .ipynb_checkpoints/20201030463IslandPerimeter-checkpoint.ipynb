{
 "cells": [
  {
   "cell_type": "raw",
   "metadata": {},
   "source": [
    "给定一个包含 0 和 1 的二维网格地图，其中 1 表示陆地 0 表示水域。\n",
    "\n",
    "网格中的格子水平和垂直方向相连（对角线方向不相连）。整个网格被水完全包围，但其中恰好有一个岛屿（或者说，一个或多个表示陆地的格子相连组成的岛屿）。\n",
    "\n",
    "岛屿中没有“湖”（“湖” 指水域在岛屿内部且不和岛屿周围的水相连）。格子是边长为 1 的正方形。网格为长方形，且宽度和高度均不超过 100 。计算这个岛屿的周长。\n",
    "\n",
    " \n",
    "\n",
    "示例 :\n",
    "\n",
    "输入:\n",
    "[[0,1,0,0],\n",
    " [1,1,1,0],\n",
    " [0,1,0,0],\n",
    " [1,1,0,0]]\n",
    "\n",
    "输出: 16\n",
    "\n",
    "解释: 它的周长是下面图片中的 16 个黄色的边：\n",
    "\n",
    "\n",
    "\n",
    "来源：力扣（LeetCode）\n",
    "链接：https://leetcode-cn.com/problems/island-perimeter\n",
    "著作权归领扣网络所有。商业转载请联系官方授权，非商业转载请注明出处。"
   ]
  },
  {
   "cell_type": "code",
   "execution_count": 1,
   "metadata": {},
   "outputs": [],
   "source": [
    "def islandPerimeter(grid):\n",
    "    dx = [0, 1, 0, -1]\n",
    "    dy = [1, 0, -1 ,0]\n",
    "    n = len(grid)\n",
    "    m = len(grid[0])\n",
    "\n",
    "    ans = 0\n",
    "    for i in range(n):\n",
    "        for j in range(m):\n",
    "            if grid[i][j] == 1:\n",
    "                cnt = 0\n",
    "                for k in range(len(dx)):\n",
    "                    tx = i + dx[k]\n",
    "                    ty = j + dy[k]\n",
    "                    if (tx < 0 or tx >= n or ty < 0 or ty>=m or grid[tx][ty] == 0):\n",
    "                        cnt +=1\n",
    "                ans += cnt\n",
    "\n",
    "    return ans"
   ]
  },
  {
   "cell_type": "code",
   "execution_count": null,
   "metadata": {},
   "outputs": [],
   "source": []
  }
 ],
 "metadata": {
  "kernelspec": {
   "display_name": "Python 3",
   "language": "python",
   "name": "python3"
  },
  "language_info": {
   "codemirror_mode": {
    "name": "ipython",
    "version": 3
   },
   "file_extension": ".py",
   "mimetype": "text/x-python",
   "name": "python",
   "nbconvert_exporter": "python",
   "pygments_lexer": "ipython3",
   "version": "3.7.5"
  }
 },
 "nbformat": 4,
 "nbformat_minor": 2
}
