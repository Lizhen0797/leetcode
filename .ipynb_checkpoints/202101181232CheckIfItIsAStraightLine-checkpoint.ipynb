{
 "cells": [
  {
   "cell_type": "raw",
   "metadata": {},
   "source": [
    "在一个 XY 坐标系中有一些点，我们用数组 coordinates 来分别记录它们的坐标，其中 coordinates[i] = [x, y] 表示横坐标为 x、纵坐标为 y 的点。\n",
    "\n",
    "请你来判断，这些点是否在该坐标系中属于同一条直线上，是则返回 true，否则请返回 false。\n",
    "\n",
    " \n",
    "\n",
    "示例 1：\n",
    "\n",
    "\n",
    "\n",
    "输入：coordinates = [[1,2],[2,3],[3,4],[4,5],[5,6],[6,7]]\n",
    "输出：true\n",
    "示例 2：\n",
    "\n",
    "\n",
    "\n",
    "输入：coordinates = [[1,1],[2,2],[3,4],[4,5],[5,6],[7,7]]\n",
    "输出：false\n",
    " \n",
    "\n",
    "提示：\n",
    "\n",
    "2 <= coordinates.length <= 1000\n",
    "coordinates[i].length == 2\n",
    "-10^4 <= coordinates[i][0], coordinates[i][1] <= 10^4\n",
    "coordinates 中不含重复的点"
   ]
  },
  {
   "cell_type": "code",
   "execution_count": 1,
   "metadata": {},
   "outputs": [],
   "source": [
    "def checkStraightLine(coordinates):\n",
    "    \"\"\"\n",
    "    :type coordinates: List[List[int]]\n",
    "    :rtype: bool\n",
    "    \"\"\"\n",
    "    if len(coordinates) <= 2:\n",
    "        return True\n",
    "    for i in range(len(coordinates)-2):\n",
    "        k1=(coordinates[i][1]-coordinates[i+1][1])*(coordinates[i+1][0]-coordinates[i+2][0])\n",
    "        k2=(coordinates[i+1][1]-coordinates[i+2][1])*(coordinates[i][0]-coordinates[i+1][0])\n",
    "        if k1!=k2:\n",
    "            return False\n",
    "    return True"
   ]
  },
  {
   "cell_type": "code",
   "execution_count": null,
   "metadata": {},
   "outputs": [],
   "source": []
  }
 ],
 "metadata": {
  "kernelspec": {
   "display_name": "Python 3",
   "language": "python",
   "name": "python3"
  },
  "language_info": {
   "codemirror_mode": {
    "name": "ipython",
    "version": 3
   },
   "file_extension": ".py",
   "mimetype": "text/x-python",
   "name": "python",
   "nbconvert_exporter": "python",
   "pygments_lexer": "ipython3",
   "version": "3.6.9"
  }
 },
 "nbformat": 4,
 "nbformat_minor": 4
}
