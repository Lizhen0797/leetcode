{
 "cells": [
  {
   "cell_type": "raw",
   "metadata": {},
   "source": [
    "给定两个字符串 s 和 t，它们只包含小写字母。\n",
    "\n",
    "字符串 t 由字符串 s 随机重排，然后在随机位置添加一个字母。\n",
    "\n",
    "请找出在 t 中被添加的字母。\n",
    "\n",
    " \n",
    "\n",
    "示例 1：\n",
    "\n",
    "输入：s = \"abcd\", t = \"abcde\"\n",
    "输出：\"e\"\n",
    "解释：'e' 是那个被添加的字母。\n",
    "示例 2：\n",
    "\n",
    "输入：s = \"\", t = \"y\"\n",
    "输出：\"y\"\n",
    "示例 3：\n",
    "\n",
    "输入：s = \"a\", t = \"aa\"\n",
    "输出：\"a\"\n",
    "示例 4：\n",
    "\n",
    "输入：s = \"ae\", t = \"aea\"\n",
    "输出：\"a\""
   ]
  },
  {
   "cell_type": "code",
   "execution_count": 2,
   "metadata": {},
   "outputs": [],
   "source": [
    "import collections"
   ]
  },
  {
   "cell_type": "code",
   "execution_count": 4,
   "metadata": {},
   "outputs": [],
   "source": [
    "def findTheDifference(s, t):\n",
    "    countS = collections.Counter(s)\n",
    "    countT = collections.Counter(t)\n",
    "    # print(countS,countT)\n",
    "    for val in countT:\n",
    "        # print(val)\n",
    "        if countT[val] != countS[val]:\n",
    "            return val"
   ]
  },
  {
   "cell_type": "code",
   "execution_count": null,
   "metadata": {},
   "outputs": [],
   "source": []
  }
 ],
 "metadata": {
  "kernelspec": {
   "display_name": "Python 3",
   "language": "python",
   "name": "python3"
  },
  "language_info": {
   "codemirror_mode": {
    "name": "ipython",
    "version": 3
   },
   "file_extension": ".py",
   "mimetype": "text/x-python",
   "name": "python",
   "nbconvert_exporter": "python",
   "pygments_lexer": "ipython3",
   "version": "3.7.5"
  }
 },
 "nbformat": 4,
 "nbformat_minor": 2
}
