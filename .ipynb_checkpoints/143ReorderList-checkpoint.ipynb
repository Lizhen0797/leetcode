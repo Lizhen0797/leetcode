{
 "cells": [
  {
   "cell_type": "raw",
   "metadata": {},
   "source": [
    "给定一个单链表 L：L0→L1→…→Ln-1→Ln ，\n",
    "将其重新排列后变为： L0→Ln→L1→Ln-1→L2→Ln-2→…\n",
    "\n",
    "你不能只是单纯的改变节点内部的值，而是需要实际的进行节点交换。\n",
    "\n",
    "示例 1:\n",
    "\n",
    "给定链表 1->2->3->4, 重新排列为 1->4->2->3.\n",
    "示例 2:\n",
    "\n",
    "给定链表 1->2->3->4->5, 重新排列为 1->5->2->4->3.\n"
   ]
  },
  {
   "cell_type": "code",
   "execution_count": 3,
   "metadata": {},
   "outputs": [],
   "source": [
    "class ListNode(object):\n",
    "    def __init__(self, val=0, next=None):\n",
    "        self.val = val\n",
    "        self.next = next"
   ]
  },
  {
   "cell_type": "code",
   "execution_count": 1,
   "metadata": {},
   "outputs": [],
   "source": [
    "def reorderList(head):\n",
    "    if not head:\n",
    "        return head\n",
    "    mid = findMid(head)\n",
    "    reverse_list = reverseList(mid.next)\n",
    "    mid.next = None\n",
    "    head = mergeTwoList(head, reverse_list)\n",
    "    return head\n",
    "\n",
    "def findMid(head):\n",
    "    fast = head.next\n",
    "    slow = head\n",
    "    while fast is not None and fast.next is not None:\n",
    "        fast = fast.next.next\n",
    "        slow = slow.next\n",
    "    return slow\n",
    "\n",
    "def mergeTwoList(l1, l2):\n",
    "    dummy = ListNode(0)\n",
    "    head = dummy\n",
    "    #flag = True\n",
    "    while l1 is not None and l2 is not None:\n",
    "        dummy.next = l1\n",
    "        dummy = dummy.next\n",
    "        l1 = l1.next\n",
    "        dummy.next = l2\n",
    "        dummy = dummy.next\n",
    "        l2 = l2.next\n",
    "        #l1 = l1.next\n",
    "        #l2 = l2.next\n",
    "    if l1 is not None:\n",
    "        dummy.next = l1\n",
    "    if l2 is not None:\n",
    "        dummy.next = l2\n",
    "    return head.next\n",
    "\n",
    "    if l1 is not None:\n",
    "        dummy.next = l1\n",
    "    if l2 is not None:\n",
    "        dummy.next = l2\n",
    "    return head.next\n",
    "\n",
    "def reverseList(head):\n",
    "    prev = None\n",
    "    while head is not None:\n",
    "        temp = head.next\n",
    "        head.next = prev\n",
    "        prev = head\n",
    "        head = temp\n",
    "    return prev"
   ]
  },
  {
   "cell_type": "code",
   "execution_count": null,
   "metadata": {},
   "outputs": [],
   "source": []
  }
 ],
 "metadata": {
  "kernelspec": {
   "display_name": "Python 3",
   "language": "python",
   "name": "python3"
  },
  "language_info": {
   "codemirror_mode": {
    "name": "ipython",
    "version": 3
   },
   "file_extension": ".py",
   "mimetype": "text/x-python",
   "name": "python",
   "nbconvert_exporter": "python",
   "pygments_lexer": "ipython3",
   "version": "3.7.5"
  }
 },
 "nbformat": 4,
 "nbformat_minor": 2
}
