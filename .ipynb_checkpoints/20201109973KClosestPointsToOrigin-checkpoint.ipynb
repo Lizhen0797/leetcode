{
 "cells": [
  {
   "cell_type": "raw",
   "metadata": {},
   "source": [
    "我们有一个由平面上的点组成的列表 points。需要从中找出 K 个距离原点 (0, 0) 最近的点。\n",
    "\n",
    "（这里，平面上两点之间的距离是欧几里德距离。）\n",
    "\n",
    "你可以按任何顺序返回答案。除了点坐标的顺序之外，答案确保是唯一的。\n",
    "\n",
    " \n",
    "\n",
    "示例 1：\n",
    "\n",
    "输入：points = [[1,3],[-2,2]], K = 1\n",
    "输出：[[-2,2]]\n",
    "解释： \n",
    "(1, 3) 和原点之间的距离为 sqrt(10)，\n",
    "(-2, 2) 和原点之间的距离为 sqrt(8)，\n",
    "由于 sqrt(8) < sqrt(10)，(-2, 2) 离原点更近。\n",
    "我们只需要距离原点最近的 K = 1 个点，所以答案就是 [[-2,2]]。\n",
    "示例 2：\n",
    "\n",
    "输入：points = [[3,3],[5,-1],[-2,4]], K = 2\n",
    "输出：[[3,3],[-2,4]]\n",
    "（答案 [[-2,4],[3,3]] 也会被接受。）\n"
   ]
  },
  {
   "cell_type": "code",
   "execution_count": 1,
   "metadata": {},
   "outputs": [],
   "source": [
    "def kClosest(points, K):\n",
    "    \"\"\"\n",
    "    :type points: List[List[int]]\n",
    "    :type K: int\n",
    "    :rtype: List[List[int]]\n",
    "    \"\"\"\n",
    "    points.sort(key=lambda x: (x[0] ** 2 + x[1] ** 2))\n",
    "    return points[:K]"
   ]
  },
  {
   "cell_type": "code",
   "execution_count": null,
   "metadata": {},
   "outputs": [],
   "source": []
  }
 ],
 "metadata": {
  "kernelspec": {
   "display_name": "Python 3",
   "language": "python",
   "name": "python3"
  },
  "language_info": {
   "codemirror_mode": {
    "name": "ipython",
    "version": 3
   },
   "file_extension": ".py",
   "mimetype": "text/x-python",
   "name": "python",
   "nbconvert_exporter": "python",
   "pygments_lexer": "ipython3",
   "version": "3.7.5"
  }
 },
 "nbformat": 4,
 "nbformat_minor": 2
}
