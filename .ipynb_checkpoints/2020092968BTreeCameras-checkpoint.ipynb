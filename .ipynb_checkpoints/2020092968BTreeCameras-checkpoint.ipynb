{
 "cells": [
  {
   "cell_type": "raw",
   "metadata": {},
   "source": [
    "给定一个二叉树，我们在树的节点上安装摄像头。\n",
    "\n",
    "节点上的每个摄影头都可以监视其父对象、自身及其直接子对象。\n",
    "\n",
    "计算监控树的所有节点所需的最小摄像头数量。\n",
    "\n",
    " \n",
    "\n",
    "示例 1：\n",
    "\n",
    "\n",
    "\n",
    "输入：[0,0,null,0,0]\n",
    "输出：1\n",
    "解释：如图所示，一台摄像头足以监控所有节点。\n",
    "示例 2：\n",
    "\n",
    "\n",
    "\n",
    "输入：[0,0,null,0,null,0,null,null,0]\n",
    "输出：2\n",
    "解释：需要至少两个摄像头来监视树的所有节点。 上图显示了摄像头放置的有效位置之一。"
   ]
  },
  {
   "cell_type": "code",
   "execution_count": 3,
   "metadata": {},
   "outputs": [],
   "source": [
    "def minCameraCover(root):\n",
    "    def dfs(root):\n",
    "        if root is None:\n",
    "            return [float(\"inf\"), 0, 0]\n",
    "        la, lb, lc = dfs(root.left)\n",
    "        ra, rb, rc = dfs(root.right)\n",
    "        a = lc + rc + 1\n",
    "        b = min(a, la+rb, ra +lb)\n",
    "        c = min(a, lb+ rb)\n",
    "        return [a, b, c]\n",
    "    a, b, c = dfs(root)\n",
    "    return b"
   ]
  },
  {
   "cell_type": "code",
   "execution_count": null,
   "metadata": {},
   "outputs": [],
   "source": []
  }
 ],
 "metadata": {
  "kernelspec": {
   "display_name": "Python 3",
   "language": "python",
   "name": "python3"
  },
  "language_info": {
   "codemirror_mode": {
    "name": "ipython",
    "version": 3
   },
   "file_extension": ".py",
   "mimetype": "text/x-python",
   "name": "python",
   "nbconvert_exporter": "python",
   "pygments_lexer": "ipython3",
   "version": "3.7.5"
  }
 },
 "nbformat": 4,
 "nbformat_minor": 2
}
