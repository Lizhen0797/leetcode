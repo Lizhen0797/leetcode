{
 "cells": [
  {
   "cell_type": "raw",
   "metadata": {},
   "source": [
    "n 块石头放置在二维平面中的一些整数坐标点上。每个坐标点上最多只能有一块石头。\n",
    "\n",
    "如果一块石头的 同行或者同列 上有其他石头存在，那么就可以移除这块石头。\n",
    "\n",
    "给你一个长度为 n 的数组 stones ，其中 stones[i] = [xi, yi] 表示第 i 块石头的位置，返回 可以移除的石子 的最大数量。\n",
    "\n",
    " \n",
    "\n",
    "示例 1：\n",
    "\n",
    "输入：stones = [[0,0],[0,1],[1,0],[1,2],[2,1],[2,2]]\n",
    "输出：5\n",
    "解释：一种移除 5 块石头的方法如下所示：\n",
    "1. 移除石头 [2,2] ，因为它和 [2,1] 同行。\n",
    "2. 移除石头 [2,1] ，因为它和 [0,1] 同列。\n",
    "3. 移除石头 [1,2] ，因为它和 [1,0] 同行。\n",
    "4. 移除石头 [1,0] ，因为它和 [0,0] 同列。\n",
    "5. 移除石头 [0,1] ，因为它和 [0,0] 同行。\n",
    "石头 [0,0] 不能移除，因为它没有与另一块石头同行/列。\n",
    "示例 2：\n",
    "\n",
    "输入：stones = [[0,0],[0,2],[1,1],[2,0],[2,2]]\n",
    "输出：3\n",
    "解释：一种移除 3 块石头的方法如下所示：\n",
    "1. 移除石头 [2,2] ，因为它和 [2,0] 同行。\n",
    "2. 移除石头 [2,0] ，因为它和 [0,0] 同列。\n",
    "3. 移除石头 [0,2] ，因为它和 [0,0] 同行。\n",
    "石头 [0,0] 和 [1,1] 不能移除，因为它们没有与另一块石头同行/列。\n",
    "示例 3：\n",
    "\n",
    "输入：stones = [[0,0]]\n",
    "输出：0\n",
    "解释：[0,0] 是平面上唯一一块石头，所以不可以移除它。"
   ]
  },
  {
   "cell_type": "code",
   "execution_count": 2,
   "metadata": {},
   "outputs": [],
   "source": [
    "def removeStones(stones):\n",
    "    \"\"\"\n",
    "    :type stones: List[List[int]]\n",
    "    :rtype: int\n",
    "    \"\"\"\n",
    "    import collections\n",
    "    n = len(stones)\n",
    "    edge = collections.defaultdict(list)\n",
    "    for i, (x1, y1) in enumerate(stones):\n",
    "        for j, (x2, y2) in enumerate(stones):\n",
    "            if x1 == x2 or y1 == y2:\n",
    "                edge[i].append(j)\n",
    "    print(edge)\n",
    "    def dfs(x):\n",
    "        vis.add(x)\n",
    "        for y in edge[x]:\n",
    "            if y not in vis:\n",
    "                dfs(y)\n",
    "\n",
    "    vis = set()\n",
    "    num = 0\n",
    "    for i in range(n):\n",
    "        if i not in vis:\n",
    "            print(i)\n",
    "            num += 1\n",
    "            dfs(i)\n",
    "    return n - num"
   ]
  },
  {
   "cell_type": "code",
   "execution_count": null,
   "metadata": {},
   "outputs": [],
   "source": []
  }
 ],
 "metadata": {
  "kernelspec": {
   "display_name": "Python 3",
   "language": "python",
   "name": "python3"
  },
  "language_info": {
   "codemirror_mode": {
    "name": "ipython",
    "version": 3
   },
   "file_extension": ".py",
   "mimetype": "text/x-python",
   "name": "python",
   "nbconvert_exporter": "python",
   "pygments_lexer": "ipython3",
   "version": "3.6.9"
  }
 },
 "nbformat": 4,
 "nbformat_minor": 4
}
