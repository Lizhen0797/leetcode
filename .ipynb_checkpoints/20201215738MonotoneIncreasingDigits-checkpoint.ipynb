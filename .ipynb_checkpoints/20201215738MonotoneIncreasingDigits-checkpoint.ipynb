{
 "cells": [
  {
   "cell_type": "raw",
   "metadata": {},
   "source": [
    "给定一个非负整数 N，找出小于或等于 N 的最大的整数，同时这个整数需要满足其各个位数上的数字是单调递增。\n",
    "\n",
    "（当且仅当每个相邻位数上的数字 x 和 y 满足 x <= y 时，我们称这个整数是单调递增的。）\n",
    "\n",
    "示例 1:\n",
    "\n",
    "输入: N = 10\n",
    "输出: 9\n",
    "示例 2:\n",
    "\n",
    "输入: N = 1234\n",
    "输出: 1234\n",
    "示例 3:\n",
    "\n",
    "输入: N = 332\n",
    "输出: 299\n",
    "说明: N 是在 [0, 10^9] 范围内的一个整数。"
   ]
  },
  {
   "cell_type": "code",
   "execution_count": 1,
   "metadata": {},
   "outputs": [],
   "source": [
    "def monotoneIncreasingDigits(N):\n",
    "    \"\"\"\n",
    "    :type N: int\n",
    "    :rtype: int\n",
    "    \"\"\"\n",
    "    list_n = list(str(N))\n",
    "    r = len(list_n) - 1\n",
    "    res = []\n",
    "    while r - 1 >= 0:\n",
    "        if list_n[r] >= list_n[r-1]:\n",
    "            res.append(list_n[r])\n",
    "            #print('if', res)\n",
    "        else:\n",
    "            #print(list_n[r],list_n[r-1])\n",
    "            list_n[r-1] = str(int(list_n[r-1]) - 1)\n",
    "            res = ['9'] * (len(res) + 1)\n",
    "        r -= 1\n",
    "    if list_n[r] != '0':\n",
    "        res.append(list_n[r])\n",
    "    return int(''.join(res[::-1]))"
   ]
  },
  {
   "cell_type": "code",
   "execution_count": null,
   "metadata": {},
   "outputs": [],
   "source": []
  }
 ],
 "metadata": {
  "kernelspec": {
   "display_name": "Python 3",
   "language": "python",
   "name": "python3"
  },
  "language_info": {
   "codemirror_mode": {
    "name": "ipython",
    "version": 3
   },
   "file_extension": ".py",
   "mimetype": "text/x-python",
   "name": "python",
   "nbconvert_exporter": "python",
   "pygments_lexer": "ipython3",
   "version": "3.7.5"
  }
 },
 "nbformat": 4,
 "nbformat_minor": 2
}
