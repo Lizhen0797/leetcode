{
 "cells": [
  {
   "cell_type": "raw",
   "metadata": {},
   "source": [
    "给出一个无重叠的 ，按照区间起始端点排序的区间列表。\n",
    "\n",
    "在列表中插入一个新的区间，你需要确保列表中的区间仍然有序且不重叠（如果有必要的话，可以合并区间）。\n",
    "\n",
    " \n",
    "\n",
    "示例 1：\n",
    "\n",
    "输入：intervals = [[1,3],[6,9]], newInterval = [2,5]\n",
    "输出：[[1,5],[6,9]]\n",
    "示例 2：\n",
    "\n",
    "输入：intervals = [[1,2],[3,5],[6,7],[8,10],[12,16]], newInterval = [4,8]\n",
    "输出：[[1,2],[3,10],[12,16]]\n",
    "解释：这是因为新的区间 [4,8] 与 [3,5],[6,7],[8,10] 重叠。"
   ]
  },
  {
   "cell_type": "code",
   "execution_count": 1,
   "metadata": {},
   "outputs": [],
   "source": [
    "def insert(intervals, newInterval):\n",
    "    \"\"\"\n",
    "    :type intervals: List[List[int]]\n",
    "    :type newInterval: List[int]\n",
    "    :rtype: List[List[int]]\n",
    "    \"\"\"\n",
    "    left, right = newInterval\n",
    "    pos = False\n",
    "    ans = []\n",
    "    for li, ri in intervals:\n",
    "        if li > right:\n",
    "            if not pos:\n",
    "                ans.append([left, right])\n",
    "                pos = True\n",
    "            ans.append([li, ri])\n",
    "        elif ri < left:\n",
    "            ans.append([li, ri])\n",
    "        else:\n",
    "            left = min(li, left)\n",
    "            right = max(ri, right)\n",
    "    if not pos:\n",
    "        ans.append([left, right])\n",
    "    return ans"
   ]
  },
  {
   "cell_type": "code",
   "execution_count": null,
   "metadata": {},
   "outputs": [],
   "source": []
  }
 ],
 "metadata": {
  "kernelspec": {
   "display_name": "Python 3",
   "language": "python",
   "name": "python3"
  },
  "language_info": {
   "codemirror_mode": {
    "name": "ipython",
    "version": 3
   },
   "file_extension": ".py",
   "mimetype": "text/x-python",
   "name": "python",
   "nbconvert_exporter": "python",
   "pygments_lexer": "ipython3",
   "version": "3.7.5"
  }
 },
 "nbformat": 4,
 "nbformat_minor": 2
}
