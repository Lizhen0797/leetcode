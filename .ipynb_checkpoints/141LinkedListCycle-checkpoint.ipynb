{
 "cells": [
  {
   "cell_type": "raw",
   "metadata": {},
   "source": [
    "给定一个链表，判断链表中是否有环。\n",
    "\n",
    "为了表示给定链表中的环，我们使用整数 pos 来表示链表尾连接到链表中的位置（索引从 0 开始）。 如果 pos 是 -1，则在该链表中没有环。\n",
    "\n",
    " \n",
    "\n",
    "示例 1：\n",
    "\n",
    "输入：head = [3,2,0,-4], pos = 1\n",
    "输出：true\n",
    "解释：链表中有一个环，其尾部连接到第二个节点。\n",
    "\n",
    "\n",
    "示例 2：\n",
    "\n",
    "输入：head = [1,2], pos = 0\n",
    "输出：true\n",
    "解释：链表中有一个环，其尾部连接到第一个节点。\n",
    "\n",
    "\n",
    "示例 3：\n",
    "\n",
    "输入：head = [1], pos = -1\n",
    "输出：false\n",
    "解释：链表中没有环。"
   ]
  },
  {
   "cell_type": "code",
   "execution_count": 1,
   "metadata": {},
   "outputs": [],
   "source": [
    "class ListNode(object):\n",
    "    def __init__(self, x):\n",
    "        self.val = x\n",
    "        self.next = None"
   ]
  },
  {
   "cell_type": "code",
   "execution_count": 2,
   "metadata": {},
   "outputs": [],
   "source": [
    "def hasCycle(head):\n",
    "    if head is None:\n",
    "        return False\n",
    "    slow = head\n",
    "    fast = head.next\n",
    "    while fast is not None and fast.next is not None:\n",
    "        if fast == slow:\n",
    "            return true\n",
    "        fast = fast.next.next\n",
    "        slow = slow.next\n",
    "    return false"
   ]
  },
  {
   "cell_type": "code",
   "execution_count": null,
   "metadata": {},
   "outputs": [],
   "source": []
  }
 ],
 "metadata": {
  "kernelspec": {
   "display_name": "Python 3",
   "language": "python",
   "name": "python3"
  },
  "language_info": {
   "codemirror_mode": {
    "name": "ipython",
    "version": 3
   },
   "file_extension": ".py",
   "mimetype": "text/x-python",
   "name": "python",
   "nbconvert_exporter": "python",
   "pygments_lexer": "ipython3",
   "version": "3.7.5"
  }
 },
 "nbformat": 4,
 "nbformat_minor": 2
}
