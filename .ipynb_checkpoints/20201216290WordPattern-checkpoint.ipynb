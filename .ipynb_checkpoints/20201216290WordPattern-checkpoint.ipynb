{
 "cells": [
  {
   "cell_type": "raw",
   "metadata": {},
   "source": [
    "给定一种规律 pattern 和一个字符串 str ，判断 str 是否遵循相同的规律。\n",
    "\n",
    "这里的 遵循 指完全匹配，例如， pattern 里的每个字母和字符串 str 中的每个非空单词之间存在着双向连接的对应规律。\n",
    "\n",
    "示例1:\n",
    "\n",
    "输入: pattern = \"abba\", str = \"dog cat cat dog\"\n",
    "输出: true\n",
    "示例 2:\n",
    "\n",
    "输入:pattern = \"abba\", str = \"dog cat cat fish\"\n",
    "输出: false\n",
    "示例 3:\n",
    "\n",
    "输入: pattern = \"aaaa\", str = \"dog cat cat dog\"\n",
    "输出: false\n",
    "示例 4:\n",
    "\n",
    "输入: pattern = \"abba\", str = \"dog dog dog dog\"\n",
    "输出: false\n",
    "说明:\n",
    "你可以假设 pattern 只包含小写字母， str 包含了由单个空格分隔的小写字母。    "
   ]
  },
  {
   "cell_type": "code",
   "execution_count": 2,
   "metadata": {},
   "outputs": [],
   "source": [
    "def wordPattern(pattern, s):\n",
    "    words = s.split(' ')\n",
    "    word2ch = {}\n",
    "    ch2word = {}\n",
    "    if len(pattern) != len(words):\n",
    "        return False\n",
    "    for ch, word in zip(pattern, words):\n",
    "        if (word in word2ch and word2ch[word] != ch) or (ch in ch2word and ch2word[ch] != word):\n",
    "            return False\n",
    "        word2ch[word]=ch\n",
    "        ch2word[ch]=word\n",
    "    \n",
    "    return True"
   ]
  },
  {
   "cell_type": "code",
   "execution_count": null,
   "metadata": {},
   "outputs": [],
   "source": []
  }
 ],
 "metadata": {
  "kernelspec": {
   "display_name": "Python 3",
   "language": "python",
   "name": "python3"
  },
  "language_info": {
   "codemirror_mode": {
    "name": "ipython",
    "version": 3
   },
   "file_extension": ".py",
   "mimetype": "text/x-python",
   "name": "python",
   "nbconvert_exporter": "python",
   "pygments_lexer": "ipython3",
   "version": "3.7.5"
  }
 },
 "nbformat": 4,
 "nbformat_minor": 2
}
