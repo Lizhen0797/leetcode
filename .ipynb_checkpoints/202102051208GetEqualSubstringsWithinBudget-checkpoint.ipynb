{
 "cells": [
  {
   "cell_type": "raw",
   "metadata": {},
   "source": [
    "给你两个长度相同的字符串，s 和 t。\n",
    "\n",
    "将 s 中的第 i 个字符变到 t 中的第 i 个字符需要 |s[i] - t[i]| 的开销（开销可能为 0），也就是两个字符的 ASCII 码值的差的绝对值。\n",
    "\n",
    "用于变更字符串的最大预算是 maxCost。在转化字符串时，总开销应当小于等于该预算，这也意味着字符串的转化可能是不完全的。\n",
    "\n",
    "如果你可以将 s 的子字符串转化为它在 t 中对应的子字符串，则返回可以转化的最大长度。\n",
    "\n",
    "如果 s 中没有子字符串可以转化成 t 中对应的子字符串，则返回 0。\n",
    "\n",
    " \n",
    "\n",
    "示例 1：\n",
    "\n",
    "输入：s = \"abcd\", t = \"bcdf\", cost = 3\n",
    "输出：3\n",
    "解释：s 中的 \"abc\" 可以变为 \"bcd\"。开销为 3，所以最大长度为 3。\n",
    "示例 2：\n",
    "\n",
    "输入：s = \"abcd\", t = \"cdef\", cost = 3\n",
    "输出：1\n",
    "解释：s 中的任一字符要想变成 t 中对应的字符，其开销都是 2。因此，最大长度为 1。\n",
    "示例 3：\n",
    "\n",
    "输入：s = \"abcd\", t = \"acde\", cost = 0\n",
    "输出：1\n",
    "解释：你无法作出任何改动，所以最大长度为 1。\n"
   ]
  },
  {
   "cell_type": "code",
   "execution_count": 1,
   "metadata": {},
   "outputs": [],
   "source": [
    "def equalSubstring(s, t, maxCost):\n",
    "    records = []\n",
    "    for i in range(len(s)):\n",
    "        records.append(abs(ord(s[i])-ord(t[i])))\n",
    "    start, end = 0, 0\n",
    "    window_sum = 0\n",
    "    res = 0\n",
    "    for end in range(len(s)):\n",
    "        window_sum += records[i]\n",
    "        while window_sum > maxCost:\n",
    "            res = max(res, end - start)\n",
    "            window_sum -= records[start]\n",
    "            start += 1\n",
    "    return max(res, end)"
   ]
  },
  {
   "cell_type": "code",
   "execution_count": null,
   "metadata": {},
   "outputs": [],
   "source": []
  }
 ],
 "metadata": {
  "kernelspec": {
   "display_name": "Python 3",
   "language": "python",
   "name": "python3"
  },
  "language_info": {
   "codemirror_mode": {
    "name": "ipython",
    "version": 3
   },
   "file_extension": ".py",
   "mimetype": "text/x-python",
   "name": "python",
   "nbconvert_exporter": "python",
   "pygments_lexer": "ipython3",
   "version": "3.7.4"
  }
 },
 "nbformat": 4,
 "nbformat_minor": 2
}
