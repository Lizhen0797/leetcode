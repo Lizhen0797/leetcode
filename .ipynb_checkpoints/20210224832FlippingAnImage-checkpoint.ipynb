{
 "cells": [
  {
   "cell_type": "raw",
   "metadata": {},
   "source": [
    "给定一个二进制矩阵 A，我们想先水平翻转图像，然后反转图像并返回结果。\n",
    "\n",
    "水平翻转图片就是将图片的每一行都进行翻转，即逆序。例如，水平翻转 [1, 1, 0] 的结果是 [0, 1, 1]。\n",
    "\n",
    "反转图片的意思是图片中的 0 全部被 1 替换， 1 全部被 0 替换。例如，反转 [0, 1, 1] 的结果是 [1, 0, 0]。\n",
    "\n",
    " \n",
    "\n",
    "示例 1：\n",
    "\n",
    "输入：[[1,1,0],[1,0,1],[0,0,0]]\n",
    "输出：[[1,0,0],[0,1,0],[1,1,1]]\n",
    "解释：首先翻转每一行: [[0,1,1],[1,0,1],[0,0,0]]；\n",
    "     然后反转图片: [[1,0,0],[0,1,0],[1,1,1]]\n",
    "示例 2：\n",
    "\n",
    "输入：[[1,1,0,0],[1,0,0,1],[0,1,1,1],[1,0,1,0]]\n",
    "输出：[[1,1,0,0],[0,1,1,0],[0,0,0,1],[1,0,1,0]]\n",
    "解释：首先翻转每一行: [[0,0,1,1],[1,0,0,1],[1,1,1,0],[0,1,0,1]]；\n",
    "     然后反转图片: [[1,1,0,0],[0,1,1,0],[0,0,0,1],[1,0,1,0]]\n",
    " \n",
    "\n",
    "提示：\n",
    "\n",
    "1 <= A.length = A[0].length <= 20\n",
    "0 <= A[i][j] <= 1"
   ]
  },
  {
   "cell_type": "code",
   "execution_count": 1,
   "metadata": {},
   "outputs": [],
   "source": [
    "def flipAndInvertImage(A):\n",
    "    \"\"\"\n",
    "    :type A: List[List[int]]\n",
    "    :rtype: List[List[int]]\n",
    "    \"\"\"\n",
    "    for row in A:       \n",
    "        for k in range(len(row)): \n",
    "            row[k] = 1 - row[k] \n",
    "        i, j = 0, len(row) - 1\n",
    "        while i < j:\n",
    "            row[i], row[j] = row[j], row[i] # Python 特有的交换\n",
    "            i, j = i + 1, j - 1\n",
    "    return A"
   ]
  },
  {
   "cell_type": "code",
   "execution_count": null,
   "metadata": {},
   "outputs": [],
   "source": []
  }
 ],
 "metadata": {
  "kernelspec": {
   "display_name": "Python 3",
   "language": "python",
   "name": "python3"
  },
  "language_info": {
   "codemirror_mode": {
    "name": "ipython",
    "version": 3
   },
   "file_extension": ".py",
   "mimetype": "text/x-python",
   "name": "python",
   "nbconvert_exporter": "python",
   "pygments_lexer": "ipython3",
   "version": "3.7.4"
  }
 },
 "nbformat": 4,
 "nbformat_minor": 2
}
