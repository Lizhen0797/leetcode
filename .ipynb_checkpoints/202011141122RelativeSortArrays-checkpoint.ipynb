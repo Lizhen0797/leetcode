{
 "cells": [
  {
   "cell_type": "raw",
   "metadata": {},
   "source": [
    "给你两个数组，arr1 和 arr2，\n",
    "\n",
    "arr2 中的元素各不相同\n",
    "arr2 中的每个元素都出现在 arr1 中\n",
    "对 arr1 中的元素进行排序，使 arr1 中项的相对顺序和 arr2 中的相对顺序相同。未在 arr2 中出现过的元素需要按照升序放在 arr1 的末尾。\n",
    "\n",
    " \n",
    "\n",
    "示例：\n",
    "\n",
    "输入：arr1 = [2,3,1,3,2,4,6,7,9,2,19], arr2 = [2,1,4,3,9,6]\n",
    "输出：[2,2,2,1,4,3,3,9,6,7,19]\n",
    " \n",
    "\n",
    "提示：\n",
    "\n",
    "arr1.length, arr2.length <= 1000\n",
    "0 <= arr1[i], arr2[i] <= 1000\n",
    "arr2 中的元素 arr2[i] 各不相同\n",
    "arr2 中的每个元素 arr2[i] 都出现在 arr1 中"
   ]
  },
  {
   "cell_type": "code",
   "execution_count": 3,
   "metadata": {},
   "outputs": [],
   "source": [
    "def relativeSortArray(arr1, arr2):\n",
    "    \"\"\"\n",
    "    :type arr1: List[int]\n",
    "    :type arr2: List[int]\n",
    "    :rtype: List[int]\n",
    "    \"\"\"\n",
    "    def mycmp(x):\n",
    "        return (0, rank[x]) if x in rank else (1, x)\n",
    "\n",
    "    rank = {x: i for i, x in enumerate(arr2)}\n",
    "    arr1.sort(key=mycmp)\n",
    "    return arr1"
   ]
  }
 ],
 "metadata": {
  "kernelspec": {
   "display_name": "Python 3",
   "language": "python",
   "name": "python3"
  },
  "language_info": {
   "codemirror_mode": {
    "name": "ipython",
    "version": 3
   },
   "file_extension": ".py",
   "mimetype": "text/x-python",
   "name": "python",
   "nbconvert_exporter": "python",
   "pygments_lexer": "ipython3",
   "version": "3.7.5"
  }
 },
 "nbformat": 4,
 "nbformat_minor": 2
}
