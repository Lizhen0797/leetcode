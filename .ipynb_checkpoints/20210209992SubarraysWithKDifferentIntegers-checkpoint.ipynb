{
 "cells": [
  {
   "cell_type": "raw",
   "metadata": {},
   "source": [
    "给定一个正整数数组 A，如果 A 的某个子数组中不同整数的个数恰好为 K，则称 A 的这个连续、不一定独立的子数组为好子数组。\n",
    "\n",
    "（例如，[1,2,3,1,2] 中有 3 个不同的整数：1，2，以及 3。）\n",
    "\n",
    "返回 A 中好子数组的数目。\n",
    "\n",
    " \n",
    "\n",
    "示例 1：\n",
    "\n",
    "输入：A = [1,2,1,2,3], K = 2\n",
    "输出：7\n",
    "解释：恰好由 2 个不同整数组成的子数组：[1,2], [2,1], [1,2], [2,3], [1,2,1], [2,1,2], [1,2,1,2].\n",
    "示例 2：\n",
    "\n",
    "输入：A = [1,2,1,3,4], K = 3\n",
    "输出：3\n",
    "解释：恰好由 3 个不同整数组成的子数组：[1,2,1,3], [2,1,3], [1,3,4]."
   ]
  },
  {
   "cell_type": "code",
   "execution_count": 2,
   "metadata": {},
   "outputs": [],
   "source": [
    "import collections"
   ]
  },
  {
   "cell_type": "code",
   "execution_count": 3,
   "metadata": {},
   "outputs": [],
   "source": [
    "def atMostKSubarrayNums(A, K):\n",
    "    '''\n",
    "    统计至多有K个不同值的子数组个数\n",
    "    '''\n",
    "    n = len(A)\n",
    "    left, right = 0, 0\n",
    "    counter = collections.Counter()\n",
    "    distinct = 0\n",
    "    res = 0\n",
    "    while right < n:\n",
    "        if counter[A[right]] == 0:\n",
    "            distinct += 1\n",
    "        counter[A[right]] += 1\n",
    "        while distinct > K:\n",
    "            counter[A[left]] -= 1\n",
    "            if counter[A[left]] == 0:\n",
    "                distinct -= 1\n",
    "            left += 1\n",
    "        res += right - left + 1\n",
    "        right += 1\n",
    "    return res"
   ]
  },
  {
   "cell_type": "code",
   "execution_count": 4,
   "metadata": {},
   "outputs": [],
   "source": [
    "def subarraysWithKDistinct(A, K):\n",
    "    \"\"\"\n",
    "    :type A: List[int]\n",
    "    :type K: int\n",
    "    :rtype: int\n",
    "    \"\"\"\n",
    "    return atMostKSubarrayNums(A, K) - atMostKSubarrayNums(A, K - 1)"
   ]
  },
  {
   "cell_type": "code",
   "execution_count": null,
   "metadata": {},
   "outputs": [],
   "source": []
  }
 ],
 "metadata": {
  "kernelspec": {
   "display_name": "Python 3",
   "language": "python",
   "name": "python3"
  },
  "language_info": {
   "codemirror_mode": {
    "name": "ipython",
    "version": 3
   },
   "file_extension": ".py",
   "mimetype": "text/x-python",
   "name": "python",
   "nbconvert_exporter": "python",
   "pygments_lexer": "ipython3",
   "version": "3.7.4"
  }
 },
 "nbformat": 4,
 "nbformat_minor": 2
}
