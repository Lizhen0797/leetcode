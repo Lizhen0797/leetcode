{
 "cells": [
  {
   "cell_type": "raw",
   "metadata": {},
   "source": [
    "给定一个链表，返回链表开始入环的第一个节点。 如果链表无环，则返回 null。\n",
    "\n",
    "为了表示给定链表中的环，我们使用整数 pos 来表示链表尾连接到链表中的位置（索引从 0 开始）。 如果 pos 是 -1，则在该链表中没有环。注意，pos 仅仅是用于标识环的情况，并不会作为参数传递到函数中。\n",
    "\n",
    "说明：不允许修改给定的链表。\n",
    "\n",
    "进阶：\n",
    "\n",
    "你是否可以不用额外空间解决此题？\n",
    " \n",
    "\n",
    "示例 1：\n",
    "\n",
    "\n",
    "\n",
    "输入：head = [3,2,0,-4], pos = 1\n",
    "输出：返回索引为 1 的链表节点\n",
    "解释：链表中有一个环，其尾部连接到第二个节点。\n",
    "示例 2：\n",
    "\n",
    "\n",
    "\n",
    "输入：head = [1,2], pos = 0\n",
    "输出：返回索引为 0 的链表节点\n",
    "解释：链表中有一个环，其尾部连接到第一个节点。\n",
    "示例 3：\n",
    "\n",
    "\n",
    "\n",
    "输入：head = [1], pos = -1\n",
    "输出：返回 null\n",
    "解释：链表中没有环。\n",
    " \n",
    "\n",
    "提示：\n",
    "\n",
    "链表中节点的数目范围在范围 [0, 104] 内\n",
    "-105 <= Node.val <= 105\n",
    "pos 的值为 -1 或者链表中的一个有效索引\n",
    "\n",
    "来源：力扣（LeetCode）\n",
    "链接：https://leetcode-cn.com/problems/linked-list-cycle-ii\n",
    "著作权归领扣网络所有。商业转载请联系官方授权，非商业转载请注明出处。"
   ]
  },
  {
   "cell_type": "code",
   "execution_count": 1,
   "metadata": {},
   "outputs": [],
   "source": [
    "class ListNode(object):\n",
    "    def __init__(self, x):\n",
    "        self.val = x\n",
    "        self.next = None"
   ]
  },
  {
   "cell_type": "code",
   "execution_count": 2,
   "metadata": {},
   "outputs": [],
   "source": [
    "class Solution(object):\n",
    "    def getIntersect(self,head):\n",
    "        fast = head\n",
    "        slow = head\n",
    "        #获取前后两个点的交点，此时fast 比 slow 多走了n个环 切 f_length = 2 * slow_length\n",
    "        while fast is not None and fast.next is not None:\n",
    "            fast = fast.next.next\n",
    "            slow = slow.next\n",
    "            if fast == slow:\n",
    "                return slow\n",
    "        return None\n",
    "\n",
    "    def detectCycle(self, head):\n",
    "        if head is None:\n",
    "            return None\n",
    "        \n",
    "        interect = self.getIntersect(head)\n",
    "        if interect is None:\n",
    "            return None\n",
    "        ptr1 = head\n",
    "        ptr2 = interect\n",
    "        while ptr1 != ptr2:\n",
    "            ptr1 = ptr1.next\n",
    "            ptr2 = ptr2.next\n",
    "        return ptr1"
   ]
  },
  {
   "cell_type": "code",
   "execution_count": null,
   "metadata": {},
   "outputs": [],
   "source": []
  }
 ],
 "metadata": {
  "kernelspec": {
   "display_name": "Python 3",
   "language": "python",
   "name": "python3"
  },
  "language_info": {
   "codemirror_mode": {
    "name": "ipython",
    "version": 3
   },
   "file_extension": ".py",
   "mimetype": "text/x-python",
   "name": "python",
   "nbconvert_exporter": "python",
   "pygments_lexer": "ipython3",
   "version": "3.7.5"
  }
 },
 "nbformat": 4,
 "nbformat_minor": 2
}
