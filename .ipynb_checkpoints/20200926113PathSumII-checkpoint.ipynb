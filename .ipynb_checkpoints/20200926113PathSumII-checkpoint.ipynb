{
 "cells": [
  {
   "cell_type": "raw",
   "metadata": {},
   "source": [
    "给定一个二叉树和一个目标和，找到所有从根节点到叶子节点路径总和等于给定目标和的路径。\n",
    "\n",
    "说明: 叶子节点是指没有子节点的节点。\n",
    "\n",
    "示例:\n",
    "给定如下二叉树，以及目标和 sum = 22，\n",
    "\n",
    "              5\n",
    "             / \\\n",
    "            4   8\n",
    "           /   / \\\n",
    "          11  13  4\n",
    "         /  \\    / \\\n",
    "        7    2  5   1\n",
    "返回:\n",
    "\n",
    "[\n",
    "   [5,4,11,2],\n",
    "   [5,8,4,5]\n",
    "]"
   ]
  },
  {
   "cell_type": "code",
   "execution_count": 1,
   "metadata": {},
   "outputs": [],
   "source": [
    "class TreeNode(object):\n",
    "    def __init__(self, x):\n",
    "        self.val = x\n",
    "        self.left = None\n",
    "        self.right = None"
   ]
  },
  {
   "cell_type": "code",
   "execution_count": 2,
   "metadata": {},
   "outputs": [],
   "source": [
    "def pathSum(root, sum):\n",
    "    \"\"\"\n",
    "    :type root: TreeNode\n",
    "    :type sum: int\n",
    "    :rtype: List[List[int]]\n",
    "    \"\"\"\n",
    "    ret = []\n",
    "    path = []\n",
    "\n",
    "    def dfs(root, sum):\n",
    "        if not root:\n",
    "            return\n",
    "        path.append(root.val)\n",
    "        sum -= root.val\n",
    "        if not root.left and not root.right and sum == 0:\n",
    "            ret.append(path[:])\n",
    "        dfs(root.left, sum)\n",
    "        dfs(root.right, sum)\n",
    "        path.pop()\n",
    "\n",
    "    dfs(root, sum)\n",
    "    return ret"
   ]
  },
  {
   "cell_type": "code",
   "execution_count": null,
   "metadata": {},
   "outputs": [],
   "source": []
  }
 ],
 "metadata": {
  "kernelspec": {
   "display_name": "Python 3",
   "language": "python",
   "name": "python3"
  },
  "language_info": {
   "codemirror_mode": {
    "name": "ipython",
    "version": 3
   },
   "file_extension": ".py",
   "mimetype": "text/x-python",
   "name": "python",
   "nbconvert_exporter": "python",
   "pygments_lexer": "ipython3",
   "version": "3.7.5"
  }
 },
 "nbformat": 4,
 "nbformat_minor": 2
}
