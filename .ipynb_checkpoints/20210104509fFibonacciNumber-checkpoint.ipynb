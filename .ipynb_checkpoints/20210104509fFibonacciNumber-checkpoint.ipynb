{
 "cells": [
  {
   "cell_type": "raw",
   "metadata": {},
   "source": [
    "斐波那契数，通常用 F(n) 表示，形成的序列称为 斐波那契数列 。该数列由 0 和 1 开始，后面的每一项数字都是前面两项数字的和。也就是：\n",
    "\n",
    "F(0) = 0，F(1) = 1\n",
    "F(n) = F(n - 1) + F(n - 2)，其中 n > 1\n",
    "给你 n ，请计算 F(n) 。\n",
    "\n",
    " \n",
    "\n",
    "示例 1：\n",
    "\n",
    "输入：2\n",
    "输出：1\n",
    "解释：F(2) = F(1) + F(0) = 1 + 0 = 1\n",
    "示例 2：\n",
    "\n",
    "输入：3\n",
    "输出：2\n",
    "解释：F(3) = F(2) + F(1) = 1 + 1 = 2\n",
    "示例 3：\n",
    "\n",
    "输入：4\n",
    "输出：3\n",
    "解释：F(4) = F(3) + F(2) = 2 + 1 = 3"
   ]
  },
  {
   "cell_type": "code",
   "execution_count": 1,
   "metadata": {},
   "outputs": [],
   "source": [
    "def fib(N):\n",
    "    if N == 0:\n",
    "        return 0\n",
    "    if N == 1 or N==2:\n",
    "        return 1\n",
    "    prev = 1\n",
    "    curr = 1\n",
    "    for i in range(3, N+1):\n",
    "        prev, curr = curr, prev + curr\n",
    "    return curr"
   ]
  },
  {
   "cell_type": "code",
   "execution_count": null,
   "metadata": {},
   "outputs": [],
   "source": []
  }
 ],
 "metadata": {
  "kernelspec": {
   "display_name": "Python 3",
   "language": "python",
   "name": "python3"
  },
  "language_info": {
   "codemirror_mode": {
    "name": "ipython",
    "version": 3
   },
   "file_extension": ".py",
   "mimetype": "text/x-python",
   "name": "python",
   "nbconvert_exporter": "python",
   "pygments_lexer": "ipython3",
   "version": "3.7.4"
  }
 },
 "nbformat": 4,
 "nbformat_minor": 2
}
