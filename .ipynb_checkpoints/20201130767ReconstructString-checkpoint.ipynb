{
 "cells": [
  {
   "cell_type": "raw",
   "metadata": {},
   "source": [
    "给定一个字符串S，检查是否能重新排布其中的字母，使得两相邻的字符不同。\n",
    "\n",
    "若可行，输出任意可行的结果。若不可行，返回空字符串。\n",
    "\n",
    "示例 1:\n",
    "\n",
    "输入: S = \"aab\"\n",
    "输出: \"aba\"\n",
    "示例 2:\n",
    "\n",
    "输入: S = \"aaab\"\n",
    "输出: \"\"\n",
    "\n",
    "\n",
    "来源：力扣（LeetCode）\n",
    "链接：https://leetcode-cn.com/problems/reorganize-string\n",
    "著作权归领扣网络所有。商业转载请联系官方授权，非商业转载请注明出处。"
   ]
  },
  {
   "cell_type": "code",
   "execution_count": 3,
   "metadata": {
    "collapsed": true
   },
   "outputs": [],
   "source": [
    "import collections"
   ]
  },
  {
   "cell_type": "code",
   "execution_count": 2,
   "metadata": {
    "collapsed": true
   },
   "outputs": [],
   "source": [
    "def reorganizeString(self, S):\n",
    "    \"\"\"\n",
    "    :type S: str\n",
    "    :rtype: str\n",
    "    \"\"\"\n",
    "    res = \"\"\n",
    "    counter = collections.Counter(S)\n",
    "    # 边界条件\n",
    "    if max(counter.values()) > (len(S)+1) // 2:\n",
    "        return res\n",
    "\n",
    "    # 将字母添加到堆中\n",
    "    pq = []\n",
    "    for key,val in counter.items():\n",
    "        heapq.heappush(pq,(-val,key))\n",
    "\n",
    "    prev = (0,None)\n",
    "\n",
    "    # 开始重构字符串\n",
    "    while pq:\n",
    "        v,k = heapq.heappop(pq)\n",
    "        res += k\n",
    "        if prev[0] < 0:\n",
    "            heapq.heappush(pq,prev)\n",
    "        prev = (v+1,k)\n",
    "\n",
    "    return res"
   ]
  },
  {
   "cell_type": "code",
   "execution_count": null,
   "metadata": {
    "collapsed": true
   },
   "outputs": [],
   "source": []
  }
 ],
 "metadata": {
  "kernelspec": {
   "display_name": "Python 2",
   "language": "python",
   "name": "python2"
  },
  "language_info": {
   "codemirror_mode": {
    "name": "ipython",
    "version": 2
   },
   "file_extension": ".py",
   "mimetype": "text/x-python",
   "name": "python",
   "nbconvert_exporter": "python",
   "pygments_lexer": "ipython2",
   "version": "2.7.18"
  }
 },
 "nbformat": 4,
 "nbformat_minor": 2
}
