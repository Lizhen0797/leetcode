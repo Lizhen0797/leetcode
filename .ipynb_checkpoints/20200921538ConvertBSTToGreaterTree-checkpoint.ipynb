{
 "cells": [
  {
   "cell_type": "raw",
   "metadata": {},
   "source": [
    "给定一个二叉搜索树（Binary Search Tree），把它转换成为累加树（Greater Tree)，使得每个节点的值是原来的节点值加上所有大于它的节点值之和。\n",
    "\n",
    " \n",
    "\n",
    "例如：\n",
    "\n",
    "输入: 原始二叉搜索树:\n",
    "              5\n",
    "            /   \\\n",
    "           2     13\n",
    "\n",
    "输出: 转换为累加树:\n",
    "             18\n",
    "            /   \\\n",
    "          20     13"
   ]
  },
  {
   "cell_type": "code",
   "execution_count": 1,
   "metadata": {},
   "outputs": [],
   "source": [
    "class TreeNode(object):\n",
    "    def __init__(self, x):\n",
    "        self.val = x\n",
    "        self.left = None\n",
    "        self.right = None"
   ]
  },
  {
   "cell_type": "code",
   "execution_count": 2,
   "metadata": {},
   "outputs": [],
   "source": [
    "class Solution(object):\n",
    "    def __init__(self):\n",
    "        self.val_sum = 0\n",
    "    def convertBST(self, root):\n",
    "        \"\"\"\n",
    "        :type root: TreeNode\n",
    "        :rtype: TreeNode\n",
    "        \"\"\"\n",
    "        def dfs(root):\n",
    "            if root is None:\n",
    "                return None\n",
    "            dfs(root.right)\n",
    "            root.val += self.val_sum\n",
    "            self.val_sum = root.val\n",
    "            dfs(root.left)\n",
    "            return root\n",
    "        return dfs(root)"
   ]
  },
  {
   "cell_type": "code",
   "execution_count": null,
   "metadata": {},
   "outputs": [],
   "source": []
  }
 ],
 "metadata": {
  "kernelspec": {
   "display_name": "Python 3",
   "language": "python",
   "name": "python3"
  },
  "language_info": {
   "codemirror_mode": {
    "name": "ipython",
    "version": 3
   },
   "file_extension": ".py",
   "mimetype": "text/x-python",
   "name": "python",
   "nbconvert_exporter": "python",
   "pygments_lexer": "ipython3",
   "version": "3.7.5"
  }
 },
 "nbformat": 4,
 "nbformat_minor": 2
}
