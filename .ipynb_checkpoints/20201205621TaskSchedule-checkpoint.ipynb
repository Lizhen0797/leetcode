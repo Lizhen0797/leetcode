{
 "cells": [
  {
   "cell_type": "raw",
   "metadata": {},
   "source": [
    "给你一个用字符数组 tasks 表示的 CPU 需要执行的任务列表。其中每个字母表示一种不同种类的任务。任务可以以任意顺序执行，并且每个任务都可以在 1 个单位时间内执行完。在任何一个单位时间，CPU 可以完成一个任务，或者处于待命状态。\n",
    "\n",
    "然而，两个 相同种类 的任务之间必须有长度为整数 n 的冷却时间，因此至少有连续 n 个单位时间内 CPU 在执行不同的任务，或者在待命状态。\n",
    "\n",
    "你需要计算完成所有任务所需要的 最短时间 。\n",
    "\n",
    " \n",
    "\n",
    "示例 1：\n",
    "\n",
    "输入：tasks = [\"A\",\"A\",\"A\",\"B\",\"B\",\"B\"], n = 2\n",
    "输出：8\n",
    "解释：A -> B -> (待命) -> A -> B -> (待命) -> A -> B\n",
    "     在本示例中，两个相同类型任务之间必须间隔长度为 n = 2 的冷却时间，而执行一个任务只需要一个单位时间，所以中间出现了（待命）状态。 \n",
    "示例 2：\n",
    "\n",
    "输入：tasks = [\"A\",\"A\",\"A\",\"B\",\"B\",\"B\"], n = 0\n",
    "输出：6\n",
    "解释：在这种情况下，任何大小为 6 的排列都可以满足要求，因为 n = 0\n",
    "[\"A\",\"A\",\"A\",\"B\",\"B\",\"B\"]\n",
    "[\"A\",\"B\",\"A\",\"B\",\"A\",\"B\"]\n",
    "[\"B\",\"B\",\"B\",\"A\",\"A\",\"A\"]\n",
    "...\n",
    "诸如此类\n",
    "示例 3：\n",
    "\n",
    "输入：tasks = [\"A\",\"A\",\"A\",\"A\",\"A\",\"A\",\"B\",\"C\",\"D\",\"E\",\"F\",\"G\"], n = 2\n",
    "输出：16\n",
    "解释：一种可能的解决方案是：\n",
    "     A -> B -> C -> A -> D -> E -> A -> F -> G -> A -> (待命) -> (待命) -> A -> (待命) -> (待命) -> A"
   ]
  },
  {
   "cell_type": "code",
   "execution_count": 1,
   "metadata": {},
   "outputs": [],
   "source": [
    "def leastInterval(tasks, n):\n",
    "    \"\"\"\n",
    "    :type tasks: List[str]\n",
    "    :type n: int\n",
    "    :rtype: int\n",
    "    \"\"\"\n",
    "    length = len(tasks)\n",
    "    if length <= 1:\n",
    "        return length\n",
    "\n",
    "    # 用于记录每个任务出现的次数\n",
    "    task_map = dict()\n",
    "    for task in tasks:\n",
    "        task_map[task] = task_map.get(task, 0) + 1\n",
    "    # 按任务出现的次数从大到小排序\n",
    "    task_sort = sorted(task_map.items(), key=lambda x: x[1], reverse=True)\n",
    "\n",
    "    # 出现最多次任务的次数\n",
    "    max_task_count = task_sort[0][1]\n",
    "    # 至少需要的最短时间\n",
    "    res = (max_task_count - 1) * (n + 1)\n",
    "\n",
    "    for sort in task_sort:\n",
    "        if sort[1] == max_task_count:\n",
    "            res += 1\n",
    "\n",
    "    # 如果结果比任务数量少，则返回总任务数\n",
    "    return res if res >= length else length\n"
   ]
  },
  {
   "cell_type": "code",
   "execution_count": null,
   "metadata": {},
   "outputs": [],
   "source": []
  }
 ],
 "metadata": {
  "kernelspec": {
   "display_name": "Python 3",
   "language": "python",
   "name": "python3"
  },
  "language_info": {
   "codemirror_mode": {
    "name": "ipython",
    "version": 3
   },
   "file_extension": ".py",
   "mimetype": "text/x-python",
   "name": "python",
   "nbconvert_exporter": "python",
   "pygments_lexer": "ipython3",
   "version": "3.7.5"
  }
 },
 "nbformat": 4,
 "nbformat_minor": 2
}
