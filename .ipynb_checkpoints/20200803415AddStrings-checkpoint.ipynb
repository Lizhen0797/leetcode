{
 "cells": [
  {
   "cell_type": "raw",
   "metadata": {},
   "source": [
    "给定两个字符串形式的非负整数 num1 和num2 ，计算它们的和。\n",
    "\n",
    " \n",
    "\n",
    "提示：\n",
    "\n",
    "num1 和num2 的长度都小于 5100\n",
    "num1 和num2 都只包含数字 0-9\n",
    "num1 和num2 都不包含任何前导零\n",
    "你不能使用任何內建 BigInteger 库， 也不能直接将输入的字符串转换为整数形式"
   ]
  },
  {
   "cell_type": "code",
   "execution_count": 3,
   "metadata": {},
   "outputs": [],
   "source": [
    "def addStrings(self, num1, num2):\n",
    "    s1 = list(num1)[::-1]\n",
    "    s2 = list(num2)[::-1]\n",
    "\n",
    "    carry = 0\n",
    "    res = \"\"\n",
    "    i = 0\n",
    "    while i < len(s1) or i < len(s2) or carry:\n",
    "        n1 = int(s1[i]) if i < len(s1) else 0\n",
    "        n2 = int(s2[i]) if i < len(s2) else 0\n",
    "\n",
    "        carry, n = divmod(n1 + n2 + carry, 10)\n",
    "        res += str(n)\n",
    "        i += 1\n",
    "    return res[::-1]"
   ]
  },
  {
   "cell_type": "code",
   "execution_count": null,
   "metadata": {},
   "outputs": [],
   "source": []
  }
 ],
 "metadata": {
  "kernelspec": {
   "display_name": "Python 3",
   "language": "python",
   "name": "python3"
  },
  "language_info": {
   "codemirror_mode": {
    "name": "ipython",
    "version": 3
   },
   "file_extension": ".py",
   "mimetype": "text/x-python",
   "name": "python",
   "nbconvert_exporter": "python",
   "pygments_lexer": "ipython3",
   "version": "3.7.5"
  }
 },
 "nbformat": 4,
 "nbformat_minor": 2
}
