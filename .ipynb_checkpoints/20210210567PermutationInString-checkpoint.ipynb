{
 "cells": [
  {
   "cell_type": "raw",
   "metadata": {},
   "source": [
    "给定两个字符串 s1 和 s2，写一个函数来判断 s2 是否包含 s1 的排列。\n",
    "\n",
    "换句话说，第一个字符串的排列之一是第二个字符串的子串。\n",
    "\n",
    "示例1:\n",
    "\n",
    "输入: s1 = \"ab\" s2 = \"eidbaooo\"\n",
    "输出: True\n",
    "解释: s2 包含 s1 的排列之一 (\"ba\").\n",
    " \n",
    "\n",
    "示例2:\n",
    "\n",
    "输入: s1= \"ab\" s2 = \"eidboaoo\"\n",
    "输出: False\n",
    " \n",
    "\n",
    "注意：\n",
    "\n",
    "输入的字符串只包含小写字母\n",
    "两个字符串的长度都在 [1, 10,000] 之间"
   ]
  },
  {
   "cell_type": "code",
   "execution_count": 1,
   "metadata": {},
   "outputs": [],
   "source": [
    "import collections"
   ]
  },
  {
   "cell_type": "code",
   "execution_count": 2,
   "metadata": {},
   "outputs": [],
   "source": [
    "def checkInclusion(s1, s2):\n",
    "    \"\"\"\n",
    "    :type s1: str\n",
    "    :type s2: str\n",
    "    :rtype: bool\n",
    "    \"\"\"\n",
    "    dict1 = collections.Counter(s1)\n",
    "    n = len(s1)\n",
    "    left = 0\n",
    "    right = n - 1\n",
    "    dict2 = collections.Counter(s2[0:right])\n",
    "    while right < len(s2):\n",
    "        dict2[s2[right]] += 1\n",
    "        if dict1 == dict2:\n",
    "            return True\n",
    "        dict2[s2[left]] -= 1\n",
    "        if dict2[s2[left]] == 0:\n",
    "            del dict2[s2[left]]\n",
    "        left += 1\n",
    "        right += 1\n",
    "    return False"
   ]
  },
  {
   "cell_type": "code",
   "execution_count": null,
   "metadata": {},
   "outputs": [],
   "source": []
  }
 ],
 "metadata": {
  "kernelspec": {
   "display_name": "Python 3",
   "language": "python",
   "name": "python3"
  },
  "language_info": {
   "codemirror_mode": {
    "name": "ipython",
    "version": 3
   },
   "file_extension": ".py",
   "mimetype": "text/x-python",
   "name": "python",
   "nbconvert_exporter": "python",
   "pygments_lexer": "ipython3",
   "version": "3.7.4"
  }
 },
 "nbformat": 4,
 "nbformat_minor": 2
}
