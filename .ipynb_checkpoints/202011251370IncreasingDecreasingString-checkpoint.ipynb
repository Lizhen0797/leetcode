{
 "cells": [
  {
   "cell_type": "raw",
   "metadata": {},
   "source": [
    "给你一个字符串 s ，请你根据下面的算法重新构造字符串：\n",
    "\n",
    "从 s 中选出 最小 的字符，将它 接在 结果字符串的后面。\n",
    "从 s 剩余字符中选出 最小 的字符，且该字符比上一个添加的字符大，将它 接在 结果字符串后面。\n",
    "重复步骤 2 ，直到你没法从 s 中选择字符。\n",
    "从 s 中选出 最大 的字符，将它 接在 结果字符串的后面。\n",
    "从 s 剩余字符中选出 最大 的字符，且该字符比上一个添加的字符小，将它 接在 结果字符串后面。\n",
    "重复步骤 5 ，直到你没法从 s 中选择字符。\n",
    "重复步骤 1 到 6 ，直到 s 中所有字符都已经被选过。\n",
    "在任何一步中，如果最小或者最大字符不止一个 ，你可以选择其中任意一个，并将其添加到结果字符串。\n",
    "\n",
    "请你返回将 s 中字符重新排序后的 结果字符串 。\n",
    "\n",
    " \n",
    "\n",
    "示例 1：\n",
    "\n",
    "输入：s = \"aaaabbbbcccc\"\n",
    "输出：\"abccbaabccba\"\n",
    "解释：第一轮的步骤 1，2，3 后，结果字符串为 result = \"abc\"\n",
    "第一轮的步骤 4，5，6 后，结果字符串为 result = \"abccba\"\n",
    "第一轮结束，现在 s = \"aabbcc\" ，我们再次回到步骤 1\n",
    "第二轮的步骤 1，2，3 后，结果字符串为 result = \"abccbaabc\"\n",
    "第二轮的步骤 4，5，6 后，结果字符串为 result = \"abccbaabccba\"\n",
    "示例 2：\n",
    "\n",
    "输入：s = \"rat\"\n",
    "输出：\"art\"\n",
    "解释：单词 \"rat\" 在上述算法重排序以后变成 \"art\"\n",
    "示例 3：\n",
    "\n",
    "输入：s = \"leetcode\"\n",
    "输出：\"cdelotee\"\n",
    "示例 4：\n",
    "\n",
    "输入：s = \"ggggggg\"\n",
    "输出：\"ggggggg\"\n",
    "示例 5：\n",
    "\n",
    "输入：s = \"spo\"\n",
    "输出：\"ops\""
   ]
  },
  {
   "cell_type": "code",
   "execution_count": 1,
   "metadata": {
    "collapsed": true
   },
   "outputs": [],
   "source": [
    "def sortString(s):\n",
    "    num = [0] * 26\n",
    "    for ch in s:\n",
    "        num[ord(ch) - ord('a')] += 1\n",
    "\n",
    "    ret = list()\n",
    "    while len(ret) < len(s):\n",
    "        for i in range(26):\n",
    "            if num[i]:\n",
    "                ret.append(chr(i + ord('a')))\n",
    "                num[i] -= 1\n",
    "        for i in range(25, -1, -1):\n",
    "            if num[i]:\n",
    "                ret.append(chr(i + ord('a')))\n",
    "                num[i] -= 1\n",
    "\n",
    "    return \"\".join(ret)"
   ]
  },
  {
   "cell_type": "code",
   "execution_count": null,
   "metadata": {
    "collapsed": true
   },
   "outputs": [],
   "source": []
  }
 ],
 "metadata": {
  "kernelspec": {
   "display_name": "Python 2",
   "language": "python",
   "name": "python2"
  },
  "language_info": {
   "codemirror_mode": {
    "name": "ipython",
    "version": 2
   },
   "file_extension": ".py",
   "mimetype": "text/x-python",
   "name": "python",
   "nbconvert_exporter": "python",
   "pygments_lexer": "ipython2",
   "version": "2.7.18"
  }
 },
 "nbformat": 4,
 "nbformat_minor": 2
}
