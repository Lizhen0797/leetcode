{
 "cells": [
  {
   "cell_type": "raw",
   "metadata": {},
   "source": [
    "n 皇后问题研究的是如何将 n 个皇后放置在 n×n 的棋盘上，并且使皇后彼此之间不能相互攻击。\n",
    "\n",
    "\n",
    "\n",
    "上图为 8 皇后问题的一种解法。\n",
    "\n",
    "给定一个整数 n，返回 n 皇后不同的解决方案的数量。\n",
    "\n",
    "示例:\n",
    "\n",
    "输入: 4\n",
    "输出: 2\n",
    "解释: 4 皇后问题存在如下两个不同的解法。\n",
    "[\n",
    " [\".Q..\",  // 解法 1\n",
    "  \"...Q\",\n",
    "  \"Q...\",\n",
    "  \"..Q.\"],\n",
    "\n",
    " [\"..Q.\",  // 解法 2\n",
    "  \"Q...\",\n",
    "  \"...Q\",\n",
    "  \".Q..\"]\n",
    "]\n",
    " \n",
    "\n",
    "提示：\n",
    "\n",
    "皇后，是国际象棋中的棋子，意味着国王的妻子。皇后只做一件事，那就是“吃子”。当她遇见可以吃的棋子时，就迅速冲上去吃掉棋子。当然，她横、竖、斜都可走一或 N-1 步，可进可退。（引用自 百度百科 - 皇后 ）"
   ]
  },
  {
   "cell_type": "code",
   "execution_count": 2,
   "metadata": {},
   "outputs": [],
   "source": [
    "def totalNQueens(n):\n",
    "    def backtrack(row):\n",
    "        if row == n:\n",
    "            return 1\n",
    "        else:\n",
    "            count = 0\n",
    "            for i in range(n):\n",
    "                #列和两个对角线存不存在\n",
    "                if i in columns or row - i in diagonal1 or row + i in diagonal2:\n",
    "                    continue\n",
    "                #添加样例\n",
    "                columns.add(i)\n",
    "                diagonal1.add(row - i)\n",
    "                diagonal2.add(row + i)\n",
    "                #回溯\n",
    "                count += backtrack(row + 1)\n",
    "                #删除样例\n",
    "                columns.remove(i)\n",
    "                diagonal1.remove(row - i)\n",
    "                diagonal2.remove(row + i)\n",
    "            return count\n",
    "\n",
    "    columns = set()\n",
    "    diagonal1 = set()\n",
    "    diagonal2 = set()\n",
    "    return backtrack(0)"
   ]
  }
 ],
 "metadata": {
  "kernelspec": {
   "display_name": "Python 3",
   "language": "python",
   "name": "python3"
  },
  "language_info": {
   "codemirror_mode": {
    "name": "ipython",
    "version": 3
   },
   "file_extension": ".py",
   "mimetype": "text/x-python",
   "name": "python",
   "nbconvert_exporter": "python",
   "pygments_lexer": "ipython3",
   "version": "3.7.5"
  }
 },
 "nbformat": 4,
 "nbformat_minor": 2
}
