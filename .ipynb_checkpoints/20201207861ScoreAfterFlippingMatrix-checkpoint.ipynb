{
 "cells": [
  {
   "cell_type": "raw",
   "metadata": {},
   "source": [
    "861. 翻转矩阵后的得分\n",
    "有一个二维矩阵 A 其中每个元素的值为 0 或 1 。\n",
    "\n",
    "移动是指选择任一行或列，并转换该行或列中的每一个值：将所有 0 都更改为 1，将所有 1 都更改为 0。\n",
    "\n",
    "在做出任意次数的移动后，将该矩阵的每一行都按照二进制数来解释，矩阵的得分就是这些数字的总和。\n",
    "\n",
    "返回尽可能高的分数。\n",
    "\n",
    " \n",
    "\n",
    "示例：\n",
    "\n",
    "输入：[[0,0,1,1],[1,0,1,0],[1,1,0,0]]\n",
    "输出：39\n",
    "解释：\n",
    "转换为 [[1,1,1,1],[1,0,0,1],[1,1,1,1]]\n",
    "0b1111 + 0b1001 + 0b1111 = 15 + 9 + 15 = 39\n",
    " \n",
    "\n",
    "提示：\n",
    "\n",
    "1 <= A.length <= 20\n",
    "1 <= A[0].length <= 20\n",
    "A[i][j] 是 0 或 1"
   ]
  },
  {
   "cell_type": "code",
   "execution_count": 1,
   "metadata": {},
   "outputs": [],
   "source": [
    "def matrixScore(A):\n",
    "    \"\"\"\n",
    "    :type A: List[List[int]]\n",
    "    :rtype: int\n",
    "    \"\"\"\n",
    "    col_len=len(A) \n",
    "    row_len=len(A[0])\n",
    "    #是否需要杭变换\n",
    "    for i in range(len(A)):\n",
    "        if not A[i][0]:\n",
    "            for j in range(row_len):\n",
    "                A[i][j]=1-A[i][j]\n",
    "    c=[0]\n",
    "    res=col_len*(2**(row_len-1))\n",
    "    for i in range(1,row_len):\n",
    "        c.append(0)\n",
    "        for j in range(col_len):\n",
    "            if A[j][i]:\n",
    "                c[i]+=1\n",
    "        #这一列可以最多有多少个1\n",
    "        c[i]=max(c[i],col_len-c[i])\n",
    "        #按照列来相加\n",
    "        res=res+c[i]*(2**(row_len-1-i))\n",
    "    return res"
   ]
  },
  {
   "cell_type": "code",
   "execution_count": null,
   "metadata": {},
   "outputs": [],
   "source": []
  }
 ],
 "metadata": {
  "kernelspec": {
   "display_name": "Python 3",
   "language": "python",
   "name": "python3"
  },
  "language_info": {
   "codemirror_mode": {
    "name": "ipython",
    "version": 3
   },
   "file_extension": ".py",
   "mimetype": "text/x-python",
   "name": "python",
   "nbconvert_exporter": "python",
   "pygments_lexer": "ipython3",
   "version": "3.7.5"
  }
 },
 "nbformat": 4,
 "nbformat_minor": 2
}
