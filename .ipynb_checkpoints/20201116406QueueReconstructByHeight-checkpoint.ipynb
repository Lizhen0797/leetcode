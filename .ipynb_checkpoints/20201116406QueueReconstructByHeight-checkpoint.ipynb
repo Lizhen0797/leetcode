{
 "cells": [
  {
   "cell_type": "raw",
   "metadata": {},
   "source": [
    "假设有打乱顺序的一群人站成一个队列。 每个人由一个整数对(h, k)表示，其中h是这个人的身高，k是排在这个人前面且身高大于或等于h的人数。 编写一个算法来重建这个队列。\n",
    "\n",
    "注意：\n",
    "总人数少于1100人。\n",
    "\n",
    "示例\n",
    "\n",
    "输入:\n",
    "[[7,0], [4,4], [7,1], [5,0], [6,1], [5,2]]\n",
    "\n",
    "输出:\n",
    "[[5,0], [7,0], [5,2], [6,1], [4,4], [7,1]]"
   ]
  },
  {
   "cell_type": "code",
   "execution_count": 1,
   "metadata": {},
   "outputs": [],
   "source": [
    "def reconstructQueue(people):\n",
    "    people.sort(key=lambda x: (x[0], -x[1]))\n",
    "    #print(people)\n",
    "    n = len(people)\n",
    "    ans = [[] for _ in range(n)]\n",
    "    for person in people:\n",
    "        spaces = person[1] + 1\n",
    "        for i in range(n):\n",
    "            if not ans[i]:\n",
    "                spaces -= 1\n",
    "                if spaces == 0:\n",
    "                    ans[i] = person\n",
    "                    break\n",
    "    return ans"
   ]
  }
 ],
 "metadata": {
  "kernelspec": {
   "display_name": "Python 3",
   "language": "python",
   "name": "python3"
  },
  "language_info": {
   "codemirror_mode": {
    "name": "ipython",
    "version": 3
   },
   "file_extension": ".py",
   "mimetype": "text/x-python",
   "name": "python",
   "nbconvert_exporter": "python",
   "pygments_lexer": "ipython3",
   "version": "3.7.5"
  }
 },
 "nbformat": 4,
 "nbformat_minor": 2
}
