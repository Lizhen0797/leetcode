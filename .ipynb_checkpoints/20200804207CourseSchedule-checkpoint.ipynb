{
 "cells": [
  {
   "cell_type": "raw",
   "metadata": {},
   "source": [
    "你这个学期必须选修 numCourse 门课程，记为 0 到 numCourse-1 。\n",
    "\n",
    "在选修某些课程之前需要一些先修课程。 例如，想要学习课程 0 ，你需要先完成课程 1 ，我们用一个匹配来表示他们：[0,1]\n",
    "\n",
    "给定课程总量以及它们的先决条件，请你判断是否可能完成所有课程的学习？\n",
    "\n",
    " \n",
    "\n",
    "示例 1:\n",
    "\n",
    "输入: 2, [[1,0]] \n",
    "输出: true\n",
    "解释: 总共有 2 门课程。学习课程 1 之前，你需要完成课程 0。所以这是可能的。\n",
    "示例 2:\n",
    "\n",
    "输入: 2, [[1,0],[0,1]]\n",
    "输出: false\n",
    "解释: 总共有 2 门课程。学习课程 1 之前，你需要先完成课程 0；并且学习课程 0 之前，你还应先完成课程 1。这是不可能的。"
   ]
  },
  {
   "cell_type": "code",
   "execution_count": null,
   "metadata": {},
   "outputs": [],
   "source": [
    "def canFinish(numCourses, prerequisites):\n",
    "    \"\"\"\n",
    "    :type numCourses: int\n",
    "    :type prerequisites: List[List[int]]\n",
    "    :rtype: bool\n",
    "    \"\"\"\n",
    "    indegrees = [0 for _ in range(numCourses)]\n",
    "    adjacency = [[] for _ in range(numCourses)]\n",
    "    queue = deque()\n",
    "    # Get the indegree and adjacency of every course.\n",
    "    for cur, pre in prerequisites:\n",
    "        indegrees[cur] += 1\n",
    "        adjacency[pre].append(cur)\n",
    "    # Get all the courses with the indegree of 0.\n",
    "    for i in range(len(indegrees)):\n",
    "        if not indegrees[i]: queue.append(i)\n",
    "    # BFS TopSort.\n",
    "    while queue:\n",
    "        pre = queue.popleft()\n",
    "        numCourses -= 1\n",
    "        for cur in adjacency[pre]:\n",
    "            indegrees[cur] -= 1\n",
    "            if not indegrees[cur]: queue.append(cur)\n",
    "    return not numCourses"
   ]
  }
 ],
 "metadata": {
  "kernelspec": {
   "display_name": "Python 3",
   "language": "python",
   "name": "python3"
  },
  "language_info": {
   "codemirror_mode": {
    "name": "ipython",
    "version": 3
   },
   "file_extension": ".py",
   "mimetype": "text/x-python",
   "name": "python",
   "nbconvert_exporter": "python",
   "pygments_lexer": "ipython3",
   "version": "3.7.5"
  }
 },
 "nbformat": 4,
 "nbformat_minor": 2
}
