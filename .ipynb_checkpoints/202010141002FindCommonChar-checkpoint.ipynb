{
 "cells": [
  {
   "cell_type": "raw",
   "metadata": {},
   "source": [
    "给定仅有小写字母组成的字符串数组 A，返回列表中的每个字符串中都显示的全部字符（包括重复字符）组成的列表。例如，如果一个字符在每个字符串中出现 3 次，但不是 4 次，则需要在最终答案中包含该字符 3 次。\n",
    "\n",
    "你可以按任意顺序返回答案。\n",
    "\n",
    " \n",
    "\n",
    "示例 1：\n",
    "\n",
    "输入：[\"bella\",\"label\",\"roller\"]\n",
    "输出：[\"e\",\"l\",\"l\"]\n",
    "示例 2：\n",
    "\n",
    "输入：[\"cool\",\"lock\",\"cook\"]\n",
    "输出：[\"c\",\"o\"]\n",
    " \n",
    "\n",
    "提示：\n",
    "\n",
    "1 <= A.length <= 100\n",
    "1 <= A[i].length <= 100\n",
    "A[i][j] 是小写字母"
   ]
  },
  {
   "cell_type": "code",
   "execution_count": 2,
   "metadata": {},
   "outputs": [],
   "source": [
    "def commonChars(self, A):\n",
    "    \"\"\"\n",
    "    :type A: List[str]\n",
    "    :rtype: List[str]\n",
    "    \"\"\"\n",
    "    minfreq = [float(\"inf\")] * 26\n",
    "    for word in A:\n",
    "        freq = [0] * 26\n",
    "        for ch in word:\n",
    "            freq[ord(ch) - ord(\"a\")] += 1\n",
    "        for i in range(26):\n",
    "            minfreq[i] = min(minfreq[i], freq[i])\n",
    "\n",
    "    ans = []\n",
    "    for i in range(26):\n",
    "        ans.extend([chr(i + ord(\"a\"))] * minfreq[i])\n",
    "    return ans"
   ]
  },
  {
   "cell_type": "code",
   "execution_count": null,
   "metadata": {},
   "outputs": [],
   "source": []
  }
 ],
 "metadata": {
  "kernelspec": {
   "display_name": "Python 3",
   "language": "python",
   "name": "python3"
  },
  "language_info": {
   "codemirror_mode": {
    "name": "ipython",
    "version": 3
   },
   "file_extension": ".py",
   "mimetype": "text/x-python",
   "name": "python",
   "nbconvert_exporter": "python",
   "pygments_lexer": "ipython3",
   "version": "3.7.5"
  }
 },
 "nbformat": 4,
 "nbformat_minor": 2
}
