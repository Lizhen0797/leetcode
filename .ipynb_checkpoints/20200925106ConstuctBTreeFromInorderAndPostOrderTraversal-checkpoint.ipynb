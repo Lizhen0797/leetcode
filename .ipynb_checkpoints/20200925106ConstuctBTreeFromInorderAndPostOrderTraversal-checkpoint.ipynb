{
 "cells": [
  {
   "cell_type": "raw",
   "metadata": {},
   "source": [
    "\n",
    "根据一棵树的中序遍历与后序遍历构造二叉树。\n",
    "\n",
    "注意:\n",
    "你可以假设树中没有重复的元素。\n",
    "\n",
    "例如，给出\n",
    "\n",
    "中序遍历 inorder = [9,3,15,20,7]\n",
    "后序遍历 postorder = [9,15,7,20,3]\n",
    "返回如下的二叉树：\n",
    "\n",
    "    3\n",
    "   / \\\n",
    "  9  20\n",
    "    /  \\\n",
    "   15   7"
   ]
  },
  {
   "cell_type": "code",
   "execution_count": 2,
   "metadata": {},
   "outputs": [],
   "source": [
    "class TreeNode(object):\n",
    "    def __init__(self, x):\n",
    "        self.val = x\n",
    "        self.left = None\n",
    "        self.right = None"
   ]
  },
  {
   "cell_type": "code",
   "execution_count": 3,
   "metadata": {},
   "outputs": [],
   "source": [
    "def buildTree(inorder, postorder):\n",
    "    \"\"\"\n",
    "    :type inorder: List[int]\n",
    "    :type postorder: List[int]\n",
    "    :rtype: TreeNode\n",
    "    \"\"\"\n",
    "    def helper(left, right):\n",
    "        if left > right:\n",
    "            return None\n",
    "        val = postorder.pop(-1)\n",
    "        root = TreeNode(val)\n",
    "        idx = idx_map[val]\n",
    "\n",
    "        root.right = helper(idx+1, right)\n",
    "        root.left = helper(left, idx-1)\n",
    "        return root\n",
    "\n",
    "    idx_map = {val:idx for idx,val in enumerate(inorder)}\n",
    "    root = helper(0, len(inorder) - 1)\n",
    "    return root"
   ]
  },
  {
   "cell_type": "code",
   "execution_count": null,
   "metadata": {},
   "outputs": [],
   "source": []
  }
 ],
 "metadata": {
  "kernelspec": {
   "display_name": "Python 3",
   "language": "python",
   "name": "python3"
  },
  "language_info": {
   "codemirror_mode": {
    "name": "ipython",
    "version": 3
   },
   "file_extension": ".py",
   "mimetype": "text/x-python",
   "name": "python",
   "nbconvert_exporter": "python",
   "pygments_lexer": "ipython3",
   "version": "3.7.5"
  }
 },
 "nbformat": 4,
 "nbformat_minor": 2
}
