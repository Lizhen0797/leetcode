{
 "cells": [
  {
   "cell_type": "raw",
   "metadata": {},
   "source": [
    "如果交换字符串 X 中的两个不同位置的字母，使得它和字符串 Y 相等，那么称 X 和 Y 两个字符串相似。如果这两个字符串本身是相等的，那它们也是相似的。\n",
    "\n",
    "例如，\"tars\" 和 \"rats\" 是相似的 (交换 0 与 2 的位置)； \"rats\" 和 \"arts\" 也是相似的，但是 \"star\" 不与 \"tars\"，\"rats\"，或 \"arts\" 相似。\n",
    "\n",
    "总之，它们通过相似性形成了两个关联组：{\"tars\", \"rats\", \"arts\"} 和 {\"star\"}。注意，\"tars\" 和 \"arts\" 是在同一组中，即使它们并不相似。形式上，对每个组而言，要确定一个单词在组中，只需要这个词和该组中至少一个单词相似。\n",
    "\n",
    "给你一个字符串列表 strs。列表中的每个字符串都是 strs 中其它所有字符串的一个字母异位词。请问 strs 中有多少个相似字符串组？\n",
    "\n",
    " \n",
    "\n",
    "示例 1：\n",
    "\n",
    "输入：strs = [\"tars\",\"rats\",\"arts\",\"star\"]\n",
    "输出：2\n",
    "示例 2：\n",
    "\n",
    "输入：strs = [\"omv\",\"ovm\"]\n",
    "输出：1\n"
   ]
  },
  {
   "cell_type": "code",
   "execution_count": 1,
   "metadata": {},
   "outputs": [],
   "source": [
    "class UnionFind:\n",
    "    def __init__(self, n):\n",
    "        self.father = [None] * (n+1)\n",
    "        self.num_of_sets = n\n",
    "    \n",
    "    def find(self, x):\n",
    "        if self.father[x] is None:\n",
    "            return x\n",
    "        self.father[x] = self.find(self.father[x])\n",
    "        return self.father[x]\n",
    "    \n",
    "    def merge(self, x, y):\n",
    "        x, y = self.find(x), self.find(y)\n",
    "        if x != y:\n",
    "            self.father[self.find(x)] = self.find(y)\n",
    "            self.num_of_sets -= 1"
   ]
  },
  {
   "cell_type": "code",
   "execution_count": 2,
   "metadata": {},
   "outputs": [],
   "source": [
    "def numSimilarGroups(strs):\n",
    "    \"\"\"\n",
    "    :type strs: List[str]\n",
    "    :rtype: int\n",
    "    \"\"\"\n",
    "    n, m = len(strs), len(strs[0])\n",
    "    uf = UnionFind(n)\n",
    "    for i in range(n):\n",
    "        for j in range(i+1, n):\n",
    "            count = 0\n",
    "            idxs = []\n",
    "            for k in range(m):\n",
    "                if strs[i][k] != strs[j][k]:\n",
    "                    count += 1\n",
    "                    idxs.append(k)\n",
    "                    if count > 2:\n",
    "                        break\n",
    "            # 如果没有不同直接链接\n",
    "            if count == 0:\n",
    "                uf.merge(i,j)\n",
    "            # 如果两个不同，验证字母是否相同，但是在本题中已经规定了不可能不同\n",
    "            if count == 2:\n",
    "                if strs[i][idxs[0]] == strs[j][idxs[1]] and strs[i][idxs[1]]==strs[j][idxs[0]]:\n",
    "                    uf.merge(i,j)\n",
    "    return uf.num_of_sets"
   ]
  },
  {
   "cell_type": "code",
   "execution_count": null,
   "metadata": {},
   "outputs": [],
   "source": []
  }
 ],
 "metadata": {
  "kernelspec": {
   "display_name": "Python 3",
   "language": "python",
   "name": "python3"
  },
  "language_info": {
   "codemirror_mode": {
    "name": "ipython",
    "version": 3
   },
   "file_extension": ".py",
   "mimetype": "text/x-python",
   "name": "python",
   "nbconvert_exporter": "python",
   "pygments_lexer": "ipython3",
   "version": "3.7.4"
  }
 },
 "nbformat": 4,
 "nbformat_minor": 4
}
