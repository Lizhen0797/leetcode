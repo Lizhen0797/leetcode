{
 "cells": [
  {
   "cell_type": "raw",
   "metadata": {},
   "source": [
    "字符串 S 由小写字母组成。我们要把这个字符串划分为尽可能多的片段，同一个字母只会出现在其中的一个片段。返回一个表示每个字符串片段的长度的列表。\n",
    "\n",
    " \n",
    "\n",
    "示例 1：\n",
    "\n",
    "输入：S = \"ababcbacadefegdehijhklij\"\n",
    "输出：[9,7,8]\n",
    "解释：\n",
    "划分结果为 \"ababcbaca\", \"defegde\", \"hijhklij\"。\n",
    "每个字母最多出现在一个片段中。\n",
    "像 \"ababcbacadefegde\", \"hijhklij\" 的划分是错误的，因为划分的片段数较少。\n",
    " \n",
    "\n",
    "提示：\n",
    "\n",
    "S的长度在[1, 500]之间。\n",
    "S只包含小写字母 'a' 到 'z' 。"
   ]
  },
  {
   "cell_type": "code",
   "execution_count": 1,
   "metadata": {},
   "outputs": [],
   "source": [
    "def partitionLabels(S):\n",
    "    \"\"\"\n",
    "    :type S: str\n",
    "    :rtype: List[int]\n",
    "    \"\"\"\n",
    "    last = [0] * 26\n",
    "    for i, ch in enumerate(S):\n",
    "        last[ord(ch) - ord(\"a\")] = i\n",
    "\n",
    "    partition = []\n",
    "    start = end = 0\n",
    "    for i, ch in enumerate(S):\n",
    "        end = max(end, last[ord(ch) - ord(\"a\")])\n",
    "        if i == end:\n",
    "            partition.append(end - start + 1)\n",
    "            start = end + 1\n",
    "\n",
    "    return partition"
   ]
  },
  {
   "cell_type": "code",
   "execution_count": null,
   "metadata": {},
   "outputs": [],
   "source": []
  }
 ],
 "metadata": {
  "kernelspec": {
   "display_name": "Python 3",
   "language": "python",
   "name": "python3"
  },
  "language_info": {
   "codemirror_mode": {
    "name": "ipython",
    "version": 3
   },
   "file_extension": ".py",
   "mimetype": "text/x-python",
   "name": "python",
   "nbconvert_exporter": "python",
   "pygments_lexer": "ipython3",
   "version": "3.7.5"
  }
 },
 "nbformat": 4,
 "nbformat_minor": 2
}
