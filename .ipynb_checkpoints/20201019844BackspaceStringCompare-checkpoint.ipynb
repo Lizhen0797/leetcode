{
 "cells": [
  {
   "cell_type": "raw",
   "metadata": {},
   "source": [
    "给定 S 和 T 两个字符串，当它们分别被输入到空白的文本编辑器后，判断二者是否相等，并返回结果。 # 代表退格字符。\n",
    "\n",
    "注意：如果对空文本输入退格字符，文本继续为空。\n",
    "\n",
    " \n",
    "\n",
    "示例 1：\n",
    "\n",
    "输入：S = \"ab#c\", T = \"ad#c\"\n",
    "输出：true\n",
    "解释：S 和 T 都会变成 “ac”。\n",
    "示例 2：\n",
    "\n",
    "输入：S = \"ab##\", T = \"c#d#\"\n",
    "输出：true\n",
    "解释：S 和 T 都会变成 “”。\n",
    "示例 3：\n",
    "\n",
    "输入：S = \"a##c\", T = \"#a#c\"\n",
    "输出：true\n",
    "解释：S 和 T 都会变成 “c”。\n",
    "示例 4：\n",
    "\n",
    "输入：S = \"a#c\", T = \"b\"\n",
    "输出：false\n",
    "解释：S 会变成 “c”，但 T 仍然是 “b”。"
   ]
  },
  {
   "cell_type": "code",
   "execution_count": 2,
   "metadata": {},
   "outputs": [],
   "source": [
    "def backspaceCompare(S, T):\n",
    "    \"\"\"\n",
    "    :type S: str\n",
    "    :type T: str\n",
    "    :rtype: bool\n",
    "    \"\"\"\n",
    "    def reconstruct(s):\n",
    "        rs = []\n",
    "        for i in range(len(s)):\n",
    "            if s[i] != '#':\n",
    "                rs.append(s[i])\n",
    "            #以防开头为#pop报错\n",
    "            elif len(rs) != 0 and s[i] == '#':\n",
    "                rs.pop()\n",
    "        return ''.join(rs)\n",
    "    return reconstruct(S) == reconstruct(T)"
   ]
  },
  {
   "cell_type": "code",
   "execution_count": null,
   "metadata": {},
   "outputs": [],
   "source": []
  }
 ],
 "metadata": {
  "kernelspec": {
   "display_name": "Python 3",
   "language": "python",
   "name": "python3"
  },
  "language_info": {
   "codemirror_mode": {
    "name": "ipython",
    "version": 3
   },
   "file_extension": ".py",
   "mimetype": "text/x-python",
   "name": "python",
   "nbconvert_exporter": "python",
   "pygments_lexer": "ipython3",
   "version": "3.7.5"
  }
 },
 "nbformat": 4,
 "nbformat_minor": 2
}
