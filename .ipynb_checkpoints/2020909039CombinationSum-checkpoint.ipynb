{
 "cells": [
  {
   "cell_type": "raw",
   "metadata": {},
   "source": [
    "给定一个无重复元素的数组 candidates 和一个目标数 target ，找出 candidates 中所有可以使数字和为 target 的组合。\n",
    "\n",
    "candidates 中的数字可以无限制重复被选取。\n",
    "\n",
    "说明：\n",
    "\n",
    "所有数字（包括 target）都是正整数。\n",
    "解集不能包含重复的组合。 \n",
    "示例 1：\n",
    "\n",
    "输入：candidates = [2,3,6,7], target = 7,\n",
    "所求解集为：\n",
    "[\n",
    "  [7],\n",
    "  [2,2,3]\n",
    "]\n",
    "示例 2：\n",
    "\n",
    "输入：candidates = [2,3,5], target = 8,\n",
    "所求解集为：\n",
    "[\n",
    "  [2,2,2,2],\n",
    "  [2,3,3],\n",
    "  [3,5]\n",
    "]"
   ]
  },
  {
   "cell_type": "code",
   "execution_count": 4,
   "metadata": {},
   "outputs": [],
   "source": [
    "def combinationSum(candidates, target):\n",
    "    \"\"\"\n",
    "    :type candidates: List[int]\n",
    "    :type target: int\n",
    "    :rtype: List[List[int]]\n",
    "    \"\"\"\n",
    "    candidates = sorted(candidates)\n",
    "\n",
    "    ans = []\n",
    "\n",
    "    def find(s, use, remain):\n",
    "        for i in range(s, len(candidates)):\n",
    "            c = candidates[i]\n",
    "            if c == remain:\n",
    "                ans.append(use + [c])\n",
    "            if c < remain:\n",
    "                find(i, use + [c], remain - c)\n",
    "            if c > remain:\n",
    "                return\n",
    "    find(0, [], target)\n",
    "\n",
    "    return ans"
   ]
  },
  {
   "cell_type": "code",
   "execution_count": null,
   "metadata": {},
   "outputs": [],
   "source": []
  }
 ],
 "metadata": {
  "kernelspec": {
   "display_name": "Python 3",
   "language": "python",
   "name": "python3"
  },
  "language_info": {
   "codemirror_mode": {
    "name": "ipython",
    "version": 3
   },
   "file_extension": ".py",
   "mimetype": "text/x-python",
   "name": "python",
   "nbconvert_exporter": "python",
   "pygments_lexer": "ipython3",
   "version": "3.7.9"
  }
 },
 "nbformat": 4,
 "nbformat_minor": 4
}
