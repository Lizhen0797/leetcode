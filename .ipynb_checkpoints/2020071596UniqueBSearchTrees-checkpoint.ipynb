{
 "cells": [
  {
   "cell_type": "raw",
   "metadata": {},
   "source": [
    "给定一个整数 n，求以 1 ... n 为节点组成的二叉搜索树有多少种？\n",
    "\n",
    "示例:\n",
    "\n",
    "输入: 3\n",
    "输出: 5\n",
    "解释:\n",
    "给定 n = 3, 一共有 5 种不同结构的二叉搜索树:\n",
    "\n",
    "   1         3     3      2      1\n",
    "    \\       /     /      / \\      \\\n",
    "     3     2     1      1   3      2\n",
    "    /     /       \\                 \\\n",
    "   2     1         2                 3"
   ]
  },
  {
   "cell_type": "code",
   "execution_count": 2,
   "metadata": {},
   "outputs": [],
   "source": [
    "def numTrees(n):\n",
    "    dp = [0] * (n+1)\n",
    "    \n",
    "    dp[0], dp[1] = 1,1\n",
    "    for i in range(2, n+1):\n",
    "        for j in range(1, i+1):\n",
    "            dp[i] += dp[j-1] * dp[i-j]\n",
    "    return dp[n]"
   ]
  },
  {
   "cell_type": "code",
   "execution_count": null,
   "metadata": {},
   "outputs": [],
   "source": []
  }
 ],
 "metadata": {
  "kernelspec": {
   "display_name": "Python 3",
   "language": "python",
   "name": "python3"
  },
  "language_info": {
   "codemirror_mode": {
    "name": "ipython",
    "version": 3
   },
   "file_extension": ".py",
   "mimetype": "text/x-python",
   "name": "python",
   "nbconvert_exporter": "python",
   "pygments_lexer": "ipython3",
   "version": "3.7.5"
  }
 },
 "nbformat": 4,
 "nbformat_minor": 2
}
