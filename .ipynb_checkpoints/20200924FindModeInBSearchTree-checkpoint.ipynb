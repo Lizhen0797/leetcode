{
 "cells": [
  {
   "cell_type": "raw",
   "metadata": {},
   "source": [
    "给定一个有相同值的二叉搜索树（BST），找出 BST 中的所有众数（出现频率最高的元素）。\n",
    "\n",
    "假定 BST 有如下定义：\n",
    "\n",
    "结点左子树中所含结点的值小于等于当前结点的值\n",
    "结点右子树中所含结点的值大于等于当前结点的值\n",
    "左子树和右子树都是二叉搜索树\n",
    "例如：\n",
    "给定 BST [1,null,2,2],\n",
    "\n",
    "   1\n",
    "    \\\n",
    "     2\n",
    "    /\n",
    "   2"
   ]
  },
  {
   "cell_type": "code",
   "execution_count": 3,
   "metadata": {},
   "outputs": [],
   "source": [
    "class TreeNode(object):\n",
    "    def __init__(self, x):\n",
    "        self.val = x\n",
    "        self.left = None\n",
    "        self.right = None"
   ]
  },
  {
   "cell_type": "code",
   "execution_count": 4,
   "metadata": {},
   "outputs": [],
   "source": [
    "class Solution(object):\n",
    "    def __init__(self):\n",
    "        self.base = 0\n",
    "        self.count = 0\n",
    "        self.maxCount = 0\n",
    "        self.rs = []\n",
    "    def findMode(self, root):\n",
    "        \"\"\"\n",
    "        :type root: TreeNode\n",
    "        :rtype: List[int]\n",
    "        \"\"\"\n",
    "        def update(x):\n",
    "            #print(x,self.count,self.base, self.maxCount)\n",
    "            if (x == self.base):\n",
    "                self.count += 1\n",
    "            else:\n",
    "                self.base = x\n",
    "                self.count = 1\n",
    "            if self.count == self.maxCount:\n",
    "                self.rs.append(x)\n",
    "            if self.count > self.maxCount:\n",
    "                #print(self.rs)\n",
    "                self.rs = []\n",
    "                self.maxCount = self.count\n",
    "                self.rs.append(x)\n",
    "        cur = root\n",
    "        pre = None\n",
    "        while (cur!=None):\n",
    "            if cur.left == None:\n",
    "                update(cur.val)\n",
    "                cur = cur.right\n",
    "                continue\n",
    "            pre = cur.left\n",
    "            while(pre.right != None and pre.right != cur):\n",
    "                pre = pre.right\n",
    "            if pre.right == None:\n",
    "                pre.right = cur\n",
    "                cur = cur.left\n",
    "            else:\n",
    "                pre.right = None\n",
    "                update(cur.val)\n",
    "                cur = cur.right\n",
    "        return self.rs"
   ]
  }
 ],
 "metadata": {
  "kernelspec": {
   "display_name": "Python 3",
   "language": "python",
   "name": "python3"
  },
  "language_info": {
   "codemirror_mode": {
    "name": "ipython",
    "version": 3
   },
   "file_extension": ".py",
   "mimetype": "text/x-python",
   "name": "python",
   "nbconvert_exporter": "python",
   "pygments_lexer": "ipython3",
   "version": "3.7.5"
  }
 },
 "nbformat": 4,
 "nbformat_minor": 2
}
