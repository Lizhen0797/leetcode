{
 "cells": [
  {
   "cell_type": "code",
   "execution_count": 2,
   "metadata": {},
   "outputs": [],
   "source": [
    "class TreeNode(object):\n",
    "    def __init__(self,x):\n",
    "        self.val = x\n",
    "        self.left=None\n",
    "        self.right=None"
   ]
  },
  {
   "cell_type": "code",
   "execution_count": 43,
   "metadata": {},
   "outputs": [],
   "source": [
    "root = TreeNode(1)\n",
    "root.left = TreeNode(2)\n",
    "root.right = TreeNode(3)\n",
    "root.right.left = TreeNode(4)\n",
    "root.right.right = TreeNode(5)"
   ]
  },
  {
   "cell_type": "code",
   "execution_count": 38,
   "metadata": {},
   "outputs": [
    {
     "data": {
      "text/plain": [
       "2"
      ]
     },
     "execution_count": 38,
     "metadata": {},
     "output_type": "execute_result"
    }
   ],
   "source": [
    "root.left.val"
   ]
  },
  {
   "cell_type": "code",
   "execution_count": 39,
   "metadata": {},
   "outputs": [
    {
     "name": "stdout",
     "output_type": "stream",
     "text": [
      "[<__main__.TreeNode object at 0x10dc34050>, <__main__.TreeNode object at 0x10dc34f90>, <__main__.TreeNode object at 0x10dc34550>]\n",
      "[<__main__.TreeNode object at 0x10dc34f90>, <__main__.TreeNode object at 0x10dc34550>, None, None]\n",
      "[<__main__.TreeNode object at 0x10dc34550>, None, None, <__main__.TreeNode object at 0x10dc34610>, <__main__.TreeNode object at 0x10dc344d0>]\n",
      "[None, None, <__main__.TreeNode object at 0x10dc34610>, <__main__.TreeNode object at 0x10dc344d0>]\n",
      "[None, <__main__.TreeNode object at 0x10dc34610>, <__main__.TreeNode object at 0x10dc344d0>]\n",
      "[<__main__.TreeNode object at 0x10dc34610>, <__main__.TreeNode object at 0x10dc344d0>, None, None]\n",
      "[<__main__.TreeNode object at 0x10dc344d0>, None, None, None, None]\n",
      "[None, None, None, None]\n",
      "[None, None, None]\n",
      "[None, None]\n",
      "[None]\n"
     ]
    }
   ],
   "source": [
    "quene = []\n",
    "quene.append(root)\n",
    "rs = []\n",
    "while(len(quene) != 0):\n",
    "    if root == None:\n",
    "        rs.append(None)\n",
    "    else:\n",
    "        rs.append(root.val)\n",
    "        quene.append(root.left)\n",
    "        quene.append(root.right)\n",
    "    print(quene)\n",
    "    quene.remove(root)\n",
    "    if (len(quene) == 0):\n",
    "        break\n",
    "    root = quene[0]"
   ]
  },
  {
   "cell_type": "code",
   "execution_count": 40,
   "metadata": {},
   "outputs": [
    {
     "data": {
      "text/plain": [
       "[1, 2, 3, None, None, 4, 5, None, None, None, None]"
      ]
     },
     "execution_count": 40,
     "metadata": {},
     "output_type": "execute_result"
    }
   ],
   "source": [
    "rs"
   ]
  },
  {
   "cell_type": "code",
   "execution_count": 41,
   "metadata": {},
   "outputs": [],
   "source": [
    "def dfs(node):\n",
    "    vals = []\n",
    "    if node:\n",
    "        vals.append(str(node.val))\n",
    "        dfs(node.left)\n",
    "        dfs(node.right)\n",
    "    else:\n",
    "        vals.append(\"#\")\n",
    "    return \",\".join(vals)"
   ]
  },
  {
   "cell_type": "code",
   "execution_count": 44,
   "metadata": {},
   "outputs": [
    {
     "data": {
      "text/plain": [
       "'1'"
      ]
     },
     "execution_count": 44,
     "metadata": {},
     "output_type": "execute_result"
    }
   ],
   "source": [
    "dfs(root)"
   ]
  },
  {
   "cell_type": "code",
   "execution_count": 45,
   "metadata": {},
   "outputs": [],
   "source": [
    "def serialize(root):\n",
    "    def dfs(node):\n",
    "        if node:\n",
    "            vals.append(str(node.val))\n",
    "            dfs(node.left)\n",
    "            dfs(node.right)\n",
    "        else:\n",
    "            vals.append(\"#\")\n",
    "    vals = []\n",
    "    dfs(root)\n",
    "    return \",\".join(vals)"
   ]
  },
  {
   "cell_type": "code",
   "execution_count": 46,
   "metadata": {},
   "outputs": [
    {
     "data": {
      "text/plain": [
       "'1,2,#,#,3,4,#,#,5,#,#'"
      ]
     },
     "execution_count": 46,
     "metadata": {},
     "output_type": "execute_result"
    }
   ],
   "source": [
    "serialize(root)"
   ]
  },
  {
   "cell_type": "code",
   "execution_count": 50,
   "metadata": {},
   "outputs": [],
   "source": [
    "from collections import deque\n",
    "def serialize(root):\n",
    "    \n",
    "    res = []\n",
    "    queue = deque([root])\n",
    "    while queue:\n",
    "        node = queue.popleft()\n",
    "        if node:\n",
    "            queue.append(node.left)\n",
    "            queue.append(node.right)\n",
    "            res.append(str(node.val))\n",
    "        else:\n",
    "            res.append(\"#\")\n",
    "    return \",\".join(res)"
   ]
  },
  {
   "cell_type": "code",
   "execution_count": 51,
   "metadata": {},
   "outputs": [
    {
     "data": {
      "text/plain": [
       "'1,2,3,#,#,4,5,#,#,#,#'"
      ]
     },
     "execution_count": 51,
     "metadata": {},
     "output_type": "execute_result"
    }
   ],
   "source": [
    "serialize(root)"
   ]
  },
  {
   "cell_type": "code",
   "execution_count": null,
   "metadata": {},
   "outputs": [],
   "source": []
  }
 ],
 "metadata": {
  "kernelspec": {
   "display_name": "Python 3",
   "language": "python",
   "name": "python3"
  },
  "language_info": {
   "codemirror_mode": {
    "name": "ipython",
    "version": 3
   },
   "file_extension": ".py",
   "mimetype": "text/x-python",
   "name": "python",
   "nbconvert_exporter": "python",
   "pygments_lexer": "ipython3",
   "version": "3.7.5"
  }
 },
 "nbformat": 4,
 "nbformat_minor": 2
}
