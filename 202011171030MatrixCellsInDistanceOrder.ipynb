{
 "cells": [
  {
   "cell_type": "raw",
   "metadata": {},
   "source": [
    "给出 R 行 C 列的矩阵，其中的单元格的整数坐标为 (r, c)，满足 0 <= r < R 且 0 <= c < C。\n",
    "\n",
    "另外，我们在该矩阵中给出了一个坐标为 (r0, c0) 的单元格。\n",
    "\n",
    "返回矩阵中的所有单元格的坐标，并按到 (r0, c0) 的距离从最小到最大的顺序排，其中，两单元格(r1, c1) 和 (r2, c2) 之间的距离是曼哈顿距离，|r1 - r2| + |c1 - c2|。（你可以按任何满足此条件的顺序返回答案。）\n",
    "\n",
    " \n",
    "\n",
    "示例 1：\n",
    "\n",
    "输入：R = 1, C = 2, r0 = 0, c0 = 0\n",
    "输出：[[0,0],[0,1]]\n",
    "解释：从 (r0, c0) 到其他单元格的距离为：[0,1]\n",
    "示例 2：\n",
    "\n",
    "输入：R = 2, C = 2, r0 = 0, c0 = 1\n",
    "输出：[[0,1],[0,0],[1,1],[1,0]]\n",
    "解释：从 (r0, c0) 到其他单元格的距离为：[0,1,1,2]\n",
    "[[0,1],[1,1],[0,0],[1,0]] 也会被视作正确答案。\n",
    "示例 3：\n",
    "\n",
    "输入：R = 2, C = 3, r0 = 1, c0 = 2\n",
    "输出：[[1,2],[0,2],[1,1],[0,1],[1,0],[0,0]]\n",
    "解释：从 (r0, c0) 到其他单元格的距离为：[0,1,1,2,2,3]\n",
    "其他满足题目要求的答案也会被视为正确，例如 [[1,2],[1,1],[0,2],[1,0],[0,1],[0,0]]。\n"
   ]
  },
  {
   "cell_type": "code",
   "execution_count": 1,
   "metadata": {},
   "outputs": [],
   "source": [
    "def allCellsDistOrder(R, C, r0, c0):\n",
    "    ret = [(i, j) for i in range(R) for j in range(C)]\n",
    "    ret.sort(key=lambda x: abs(x[0] - r0) + abs(x[1] - c0))\n",
    "    return ret"
   ]
  },
  {
   "cell_type": "code",
   "execution_count": null,
   "metadata": {},
   "outputs": [],
   "source": []
  }
 ],
 "metadata": {
  "kernelspec": {
   "display_name": "Python 3",
   "language": "python",
   "name": "python3"
  },
  "language_info": {
   "codemirror_mode": {
    "name": "ipython",
    "version": 3
   },
   "file_extension": ".py",
   "mimetype": "text/x-python",
   "name": "python",
   "nbconvert_exporter": "python",
   "pygments_lexer": "ipython3",
   "version": "3.7.4"
  }
 },
 "nbformat": 4,
 "nbformat_minor": 2
}
