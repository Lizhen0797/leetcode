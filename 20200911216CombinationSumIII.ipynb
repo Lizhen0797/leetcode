{
 "cells": [
  {
   "cell_type": "raw",
   "metadata": {},
   "source": [
    "找出所有相加之和为 n 的 k 个数的组合。组合中只允许含有 1 - 9 的正整数，并且每种组合中不存在重复的数字。\n",
    "\n",
    "说明：\n",
    "\n",
    "所有数字都是正整数。\n",
    "解集不能包含重复的组合。 \n",
    "示例 1:\n",
    "\n",
    "输入: k = 3, n = 7\n",
    "输出: [[1,2,4]]\n",
    "示例 2:\n",
    "\n",
    "输入: k = 3, n = 9\n",
    "输出: [[1,2,6], [1,3,5], [2,3,4]]\n",
    "\n",
    "来源：力扣（LeetCode）\n",
    "链接：https://leetcode-cn.com/problems/combination-sum-iii\n",
    "著作权归领扣网络所有。商业转载请联系官方授权，非商业转载请注明出处。"
   ]
  },
  {
   "cell_type": "code",
   "execution_count": 2,
   "metadata": {},
   "outputs": [],
   "source": [
    "def combinationSum3(k, n):\n",
    "    \"\"\"\n",
    "    :type k: int\n",
    "    :type n: int\n",
    "    :rtype: List[List[int]]\n",
    "    \"\"\"\n",
    "    def Search(num, _Sum, oneSolution):\n",
    "        if _Sum == 0 and len(oneSolution) == k:  # 找到了正确的解\n",
    "            totalSolutions.append(oneSolution[:])  # 注意要切片一下。相当于复制了一遍内容。\n",
    "            return\n",
    "\n",
    "        if num == 10:  # 1~9查完了\n",
    "            return\n",
    "\n",
    "        if _Sum < 0:  # 数组和大于n了\n",
    "            return\n",
    "\n",
    "        if len(oneSolution) > k:  # 数组长度大于k了\n",
    "            return\n",
    "\n",
    "        Search(num + 1, _Sum - num, oneSolution + [num])  # 选了这个数\n",
    "        Search(num + 1, _Sum, oneSolution)   # 没选择这个数\n",
    "\n",
    "    totalSolutions = []\n",
    "\n",
    "    Search(1, n, [])\n",
    "\n",
    "    return totalSolutions"
   ]
  },
  {
   "cell_type": "code",
   "execution_count": null,
   "metadata": {},
   "outputs": [],
   "source": []
  }
 ],
 "metadata": {
  "kernelspec": {
   "display_name": "Python 3",
   "language": "python",
   "name": "python3"
  },
  "language_info": {
   "codemirror_mode": {
    "name": "ipython",
    "version": 3
   },
   "file_extension": ".py",
   "mimetype": "text/x-python",
   "name": "python",
   "nbconvert_exporter": "python",
   "pygments_lexer": "ipython3",
   "version": "3.7.9"
  }
 },
 "nbformat": 4,
 "nbformat_minor": 4
}
