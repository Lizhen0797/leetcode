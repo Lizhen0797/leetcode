{
 "cells": [
  {
   "cell_type": "raw",
   "metadata": {},
   "source": [
    "给你一个points 数组，表示 2D 平面上的一些点，其中 points[i] = [xi, yi] 。\n",
    "\n",
    "连接点 [xi, yi] 和点 [xj, yj] 的费用为它们之间的 曼哈顿距离 ：|xi - xj| + |yi - yj| ，其中 |val| 表示 val 的绝对值。\n",
    "\n",
    "请你返回将所有点连接的最小总费用。只有任意两点之间 有且仅有 一条简单路径时，才认为所有点都已连接。\n",
    "\n",
    " \n",
    "\n",
    "示例 1：\n",
    "\n",
    "\n",
    "\n",
    "输入：points = [[0,0],[2,2],[3,10],[5,2],[7,0]]\n",
    "输出：20\n",
    "解释：\n",
    "\n",
    "我们可以按照上图所示连接所有点得到最小总费用，总费用为 20 。\n",
    "注意到任意两个点之间只有唯一一条路径互相到达。\n",
    "示例 2：\n",
    "\n",
    "输入：points = [[3,12],[-2,5],[-4,1]]\n",
    "输出：18\n",
    "示例 3：\n",
    "\n",
    "输入：points = [[0,0],[1,1],[1,0],[-1,1]]\n",
    "输出：4\n",
    "示例 4：\n",
    "\n",
    "输入：points = [[-1000000,-1000000],[1000000,1000000]]\n",
    "输出：4000000\n",
    "示例 5：\n",
    "\n",
    "输入：points = [[0,0]]\n",
    "输出：0\n",
    " \n",
    "\n",
    "提示：\n",
    "\n",
    "1 <= points.length <= 1000\n",
    "-106 <= xi, yi <= 106\n",
    "所有点 (xi, yi) 两两不同。\n"
   ]
  },
  {
   "cell_type": "code",
   "execution_count": 2,
   "metadata": {},
   "outputs": [],
   "source": [
    "def minCostConnectPoints(points):\n",
    "    n = len(points)\n",
    "    if n==1:\n",
    "        return 0\n",
    "    res = 0\n",
    "    distances = [1e9]*n\n",
    "    cur = 0\n",
    "    visited = set()\n",
    "    for i in range(n-1):\n",
    "        #print('----------')\n",
    "        x, y =points[cur]\n",
    "        visited.add(cur)\n",
    "        for j, point in enumerate(points):\n",
    "            if j in visited:\n",
    "                continue\n",
    "            distances[j] = min(distances[j], abs(point[0]-x) +abs(point[1]-y))\n",
    "            #print(distances)\n",
    "        s, cur = min((d,j) for j, d in enumerate(distances))\n",
    "        distances[cur] = 1e9\n",
    "        res += s\n",
    "    return res"
   ]
  },
  {
   "cell_type": "code",
   "execution_count": null,
   "metadata": {},
   "outputs": [],
   "source": []
  }
 ],
 "metadata": {
  "kernelspec": {
   "display_name": "Python 3",
   "language": "python",
   "name": "python3"
  },
  "language_info": {
   "codemirror_mode": {
    "name": "ipython",
    "version": 3
   },
   "file_extension": ".py",
   "mimetype": "text/x-python",
   "name": "python",
   "nbconvert_exporter": "python",
   "pygments_lexer": "ipython3",
   "version": "3.6.9"
  }
 },
 "nbformat": 4,
 "nbformat_minor": 4
}
