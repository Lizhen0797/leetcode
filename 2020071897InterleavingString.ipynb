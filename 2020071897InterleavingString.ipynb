{
 "cells": [
  {
   "cell_type": "raw",
   "metadata": {},
   "source": [
    "给定三个字符串 s1, s2, s3, 验证 s3 是否是由 s1 和 s2 交错组成的。\n",
    "\n",
    "示例 1:\n",
    "\n",
    "输入: s1 = \"aabcc\", s2 = \"dbbca\", s3 = \"aadbbcbcac\"\n",
    "输出: true\n",
    "示例 2:\n",
    "\n",
    "输入: s1 = \"aabcc\", s2 = \"dbbca\", s3 = \"aadbbbaccc\"\n",
    "输出: false"
   ]
  },
  {
   "cell_type": "code",
   "execution_count": 1,
   "metadata": {},
   "outputs": [],
   "source": [
    "def isInterleave(s1, s2, s3):\n",
    "    if len(s1) + len(s2) != len(s3):\n",
    "        return False\n",
    "    if len(s1) == len(s2) == len(s3) == 0:\n",
    "        return True\n",
    "    col = len(s2) + 1\n",
    "    row = len(s1) + 1\n",
    "    dp = [[False]*col for i in range(row)]\n",
    "    dp[0][0] = True\n",
    "    for i in range(row):\n",
    "        for j in range(col):\n",
    "            if i > 0:\n",
    "                dp[i][j] |= ( dp[i-1][j] and s1[i-1] == s3[i+j-1] )\n",
    "            if j > 0:\n",
    "                dp[i][j] |= ( dp[i][j-1] and s2[j-1] == s3[i+j-1] )\n",
    "    return dp[-1][-1]"
   ]
  },
  {
   "cell_type": "code",
   "execution_count": null,
   "metadata": {},
   "outputs": [],
   "source": []
  }
 ],
 "metadata": {
  "kernelspec": {
   "display_name": "Python 3",
   "language": "python",
   "name": "python3"
  },
  "language_info": {
   "codemirror_mode": {
    "name": "ipython",
    "version": 3
   },
   "file_extension": ".py",
   "mimetype": "text/x-python",
   "name": "python",
   "nbconvert_exporter": "python",
   "pygments_lexer": "ipython3",
   "version": "3.7.5"
  }
 },
 "nbformat": 4,
 "nbformat_minor": 2
}
