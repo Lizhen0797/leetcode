{
 "cells": [
  {
   "cell_type": "raw",
   "metadata": {},
   "source": [
    "给定一个无序的数组，找出数组在排序之后，相邻元素之间最大的差值。\n",
    "\n",
    "如果数组元素个数小于 2，则返回 0。\n",
    "\n",
    "示例 1:\n",
    "\n",
    "输入: [3,6,9,1]\n",
    "输出: 3\n",
    "解释: 排序后的数组是 [1,3,6,9], 其中相邻元素 (3,6) 和 (6,9) 之间都存在最大差值 3。\n",
    "示例 2:\n",
    "\n",
    "输入: [10]\n",
    "输出: 0\n",
    "解释: 数组元素个数小于 2，因此返回 0。\n",
    "说明:\n",
    "\n",
    "你可以假设数组中所有元素都是非负整数，且数值在 32 位有符号整数范围内。\n",
    "请尝试在线性时间复杂度和空间复杂度的条件下解决此问题。"
   ]
  },
  {
   "cell_type": "code",
   "execution_count": 1,
   "metadata": {
    "collapsed": true
   },
   "outputs": [],
   "source": [
    "def maximumGap(nums):\n",
    "    \"\"\"\n",
    "    :type nums: List[int]\n",
    "    :rtype: int\n",
    "    \"\"\"\n",
    "    if len(nums) <2:\n",
    "        return 0\n",
    "    nums.sort()\n",
    "    max_gap = 0\n",
    "    for i in range(len(nums) - 1):\n",
    "        max_gap = max(abs(nums[i]-nums[i+1]), max_gap)\n",
    "    return max_gap"
   ]
  },
  {
   "cell_type": "code",
   "execution_count": null,
   "metadata": {
    "collapsed": true
   },
   "outputs": [],
   "source": []
  }
 ],
 "metadata": {
  "kernelspec": {
   "display_name": "Python 2",
   "language": "python",
   "name": "python2"
  },
  "language_info": {
   "codemirror_mode": {
    "name": "ipython",
    "version": 2
   },
   "file_extension": ".py",
   "mimetype": "text/x-python",
   "name": "python",
   "nbconvert_exporter": "python",
   "pygments_lexer": "ipython2",
   "version": "2.7.18"
  }
 },
 "nbformat": 4,
 "nbformat_minor": 2
}
