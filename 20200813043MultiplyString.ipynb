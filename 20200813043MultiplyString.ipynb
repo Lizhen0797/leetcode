{
 "cells": [
  {
   "cell_type": "raw",
   "metadata": {},
   "source": [
    "给定两个以字符串形式表示的非负整数 num1 和 num2，返回 num1 和 num2 的乘积，它们的乘积也表示为字符串形式。\n",
    "\n",
    "示例 1:\n",
    "\n",
    "输入: num1 = \"2\", num2 = \"3\"\n",
    "输出: \"6\"\n",
    "示例 2:\n",
    "\n",
    "输入: num1 = \"123\", num2 = \"456\"\n",
    "输出: \"56088\"\n"
   ]
  },
  {
   "cell_type": "code",
   "execution_count": 2,
   "metadata": {},
   "outputs": [],
   "source": [
    "def multiply(num1, num2):\n",
    "    \"\"\"\n",
    "    :type num1: str\n",
    "    :type num2: str\n",
    "    :rtype: str\n",
    "    \"\"\"\n",
    "    if num1 == \"0\" or num2 == \"0\":\n",
    "        return \"0\"\n",
    "\n",
    "    ans = \"0\"\n",
    "    m, n = len(num1), len(num2)\n",
    "    for i in range(n - 1, -1, -1):\n",
    "        add = 0\n",
    "        y = int(num2[i])\n",
    "        curr = [\"0\"] * (n - i - 1)\n",
    "        for j in range(m - 1, -1, -1):\n",
    "            product = int(num1[j]) * y + add\n",
    "            curr.append(str(product % 10))\n",
    "            add = product // 10\n",
    "            print(curr)\n",
    "        if add > 0:\n",
    "            curr.append(str(add))\n",
    "        curr = \"\".join(curr[::-1])\n",
    "        ans = addStrings(ans, curr)\n",
    "\n",
    "    return ans\n",
    "\n",
    "def addStrings(num1, num2):\n",
    "    i, j = len(num1) - 1, len(num2) - 1\n",
    "    add = 0\n",
    "    ans = list()\n",
    "    while i >= 0 or j >= 0 or add != 0:\n",
    "        x = int(num1[i]) if i >= 0 else 0\n",
    "        y = int(num2[j]) if j >= 0 else 0\n",
    "        result = x + y + add\n",
    "        ans.append(str(result % 10))\n",
    "        add = result // 10\n",
    "        i -= 1\n",
    "        j -= 1\n",
    "    return \"\".join(ans[::-1])"
   ]
  },
  {
   "cell_type": "code",
   "execution_count": 3,
   "metadata": {},
   "outputs": [
    {
     "name": "stdout",
     "output_type": "stream",
     "text": [
      "['9']\n",
      "['9', '6']\n",
      "['9', '6', '3']\n",
      "['0', '6']\n",
      "['0', '6', '4']\n",
      "['0', '6', '4', '2']\n",
      "['0', '0', '3']\n",
      "['0', '0', '3', '2']\n",
      "['0', '0', '3', '2', '1']\n"
     ]
    },
    {
     "data": {
      "text/plain": [
       "'15129'"
      ]
     },
     "execution_count": 3,
     "metadata": {},
     "output_type": "execute_result"
    }
   ],
   "source": [
    "multiply(\"123\",\"123\")"
   ]
  },
  {
   "cell_type": "code",
   "execution_count": null,
   "metadata": {},
   "outputs": [],
   "source": []
  }
 ],
 "metadata": {
  "kernelspec": {
   "display_name": "Python 3",
   "language": "python",
   "name": "python3"
  },
  "language_info": {
   "codemirror_mode": {
    "name": "ipython",
    "version": 3
   },
   "file_extension": ".py",
   "mimetype": "text/x-python",
   "name": "python",
   "nbconvert_exporter": "python",
   "pygments_lexer": "ipython3",
   "version": "3.7.5"
  }
 },
 "nbformat": 4,
 "nbformat_minor": 2
}
