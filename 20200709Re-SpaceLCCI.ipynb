{
 "cells": [
  {
   "cell_type": "markdown",
   "metadata": {},
   "source": [
    "哦，不！你不小心把一个长篇文章中的空格、标点都删掉了，并且大写也弄成了小写。像句子\"I reset the computer. It still didn’t boot!\"已经变成了\"iresetthecomputeritstilldidntboot\"。在处理标点符号和大小写之前，你得先把它断成词语。当然了，你有一本厚厚的词典dictionary，不过，有些词没在词典里。假设文章用sentence表示，设计一个算法，把文章断开，要求未识别的字符最少，返回未识别的字符数。\n",
    "\n",
    "注意：本题相对原题稍作改动，只需返回未识别的字符数\n",
    "\n",
    " \n",
    "\n",
    "示例：\n",
    "\n",
    "输入：\n",
    "dictionary = [\"looked\",\"just\",\"like\",\"her\",\"brother\"]\n",
    "sentence = \"jesslookedjustliketimherbrother\"\n",
    "输出： 7\n",
    "解释： 断句后为\"jess looked just like tim her brother\"，共7个未识别字符。\n",
    "提示：\n",
    "\n",
    "0 <= len(sentence) <= 1000\n",
    "dictionary中总字符数不超过 150000。\n",
    "你可以认为dictionary和sentence中只包含小写字母。"
   ]
  },
  {
   "cell_type": "code",
   "execution_count": 9,
   "metadata": {},
   "outputs": [],
   "source": [
    "def respace(dictionary, sentence):\n",
    "    n = len(sentence)\n",
    "    if n==0:\n",
    "        return 0\n",
    "    max_len = 0\n",
    "    for word in dictionary:\n",
    "        if len(word) > max_len:\n",
    "            max_len = len(word)\n",
    "    word_set = set(dictionary)\n",
    "    dp = [0] * (n+1)\n",
    "    for i in range(1, n+1):\n",
    "        temp = i#认为低i个位置最多是k个\n",
    "        now = 0\n",
    "        for s in range(1, max_len+1):\n",
    "            if s > i:\n",
    "                continue\n",
    "            now = dp[i-s] + (0 if sentence[i-s:i] in word_set else s)\n",
    "            if now < temp:\n",
    "                temp=now\n",
    "        dp[i] = temp\n",
    "    return dp[-1]"
   ]
  },
  {
   "cell_type": "code",
   "execution_count": 10,
   "metadata": {},
   "outputs": [
    {
     "data": {
      "text/plain": [
       "7"
      ]
     },
     "execution_count": 10,
     "metadata": {},
     "output_type": "execute_result"
    }
   ],
   "source": [
    "respace([\"looked\",\"just\",\"like\",\"her\",\"brother\"], \"jesslookedjustliketimherbrother\")"
   ]
  },
  {
   "cell_type": "code",
   "execution_count": null,
   "metadata": {},
   "outputs": [],
   "source": []
  }
 ],
 "metadata": {
  "kernelspec": {
   "display_name": "Python 3",
   "language": "python",
   "name": "python3"
  },
  "language_info": {
   "codemirror_mode": {
    "name": "ipython",
    "version": 3
   },
   "file_extension": ".py",
   "mimetype": "text/x-python",
   "name": "python",
   "nbconvert_exporter": "python",
   "pygments_lexer": "ipython3",
   "version": "3.7.5"
  }
 },
 "nbformat": 4,
 "nbformat_minor": 2
}
