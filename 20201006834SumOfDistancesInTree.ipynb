{
 "cells": [
  {
   "cell_type": "raw",
   "metadata": {},
   "source": [
    "给定一个无向、连通的树。树中有 N 个标记为 0...N-1 的节点以及 N-1 条边 。\n",
    "\n",
    "第 i 条边连接节点 edges[i][0] 和 edges[i][1] 。\n",
    "\n",
    "返回一个表示节点 i 与其他所有节点距离之和的列表 ans。\n",
    "\n",
    "示例 1:\n",
    "\n",
    "输入: N = 6, edges = [[0,1],[0,2],[2,3],[2,4],[2,5]]\n",
    "输出: [8,12,6,10,10,10]\n",
    "解释: \n",
    "如下为给定的树的示意图：\n",
    "  0\n",
    " / \\\n",
    "1   2\n",
    "   /|\\\n",
    "  3 4 5\n",
    "\n",
    "我们可以计算出 dist(0,1) + dist(0,2) + dist(0,3) + dist(0,4) + dist(0,5) \n",
    "也就是 1 + 1 + 2 + 2 + 2 = 8。 因此，answer[0] = 8，以此类推。"
   ]
  },
  {
   "cell_type": "code",
   "execution_count": 1,
   "metadata": {},
   "outputs": [],
   "source": [
    "def sumOfDistancesInTree(N, edges):\n",
    "    \"\"\"\n",
    "    :type N: int\n",
    "    :type edges: List[List[int]]\n",
    "    :rtype: List[int]\n",
    "    \"\"\"\n",
    "    def dfsForAnswer(parent, root):\n",
    "        for child in tree[parent]:\n",
    "            if child != root:\n",
    "                answer[child] = answer[parent] + N - 2 * count[child]\n",
    "                dfsForAnswer(child, parent)\n",
    "\n",
    "    def dfsForDepthAndCount(parent, root):\n",
    "        count[parent] = 1\n",
    "        for child in tree[parent]:\n",
    "            if child != root:\n",
    "                depth[child] = depth[parent] + 1\n",
    "                dfsForDepthAndCount(child, parent)\n",
    "                count[parent] += count[child]\n",
    "\n",
    "    tree = [[] for _ in range(N)]\n",
    "    for parent, child in edges:\n",
    "        tree[parent].append(child)\n",
    "        tree[child].append(parent)\n",
    "\n",
    "    depth = [0 for _ in range(N)]\n",
    "    count = [0 for _ in range(N)]\n",
    "    dfsForDepthAndCount(0, -1)\n",
    "    answer = [0 for _ in range(N)]\n",
    "    answer[0] = sum(depth)\n",
    "    dfsForAnswer(0, -1)\n",
    "    return answer"
   ]
  },
  {
   "cell_type": "code",
   "execution_count": null,
   "metadata": {},
   "outputs": [],
   "source": []
  }
 ],
 "metadata": {
  "kernelspec": {
   "display_name": "Python 3",
   "language": "python",
   "name": "python3"
  },
  "language_info": {
   "codemirror_mode": {
    "name": "ipython",
    "version": 3
   },
   "file_extension": ".py",
   "mimetype": "text/x-python",
   "name": "python",
   "nbconvert_exporter": "python",
   "pygments_lexer": "ipython3",
   "version": "3.7.5"
  }
 },
 "nbformat": 4,
 "nbformat_minor": 2
}
