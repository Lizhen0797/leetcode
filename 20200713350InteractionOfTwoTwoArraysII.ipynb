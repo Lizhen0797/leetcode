{
 "cells": [
  {
   "cell_type": "markdown",
   "metadata": {},
   "source": [
    "给定两个数组，编写一个函数来计算它们的交集。\n",
    "\n",
    "示例 1:\n",
    "\n",
    "输入: nums1 = [1,2,2,1], nums2 = [2,2]\n",
    "输出: [2,2]\n",
    "示例 2:\n",
    "\n",
    "输入: nums1 = [4,9,5], nums2 = [9,4,9,8,4]\n",
    "输出: [4,9]\n",
    "说明：\n",
    "\n",
    "输出结果中每个元素出现的次数，应与元素在两个数组中出现的次数一致。\n",
    "我们可以不考虑输出结果的顺序。\n",
    "进阶:\n",
    "\n",
    "如果给定的数组已经排好序呢？你将如何优化你的算法？\n",
    "\n",
    "回答:算法就不用排序了\n",
    "\n",
    "如果 nums1 的大小比 nums2 小很多，哪种方法更优？\n",
    "\n",
    "hash\n",
    "如果 nums2 的元素存储在磁盘上，磁盘内存是有限的，并且你不能一次加载所有的元素到内存中，你该怎么办？\n",
    "hash"
   ]
  },
  {
   "cell_type": "code",
   "execution_count": 6,
   "metadata": {},
   "outputs": [],
   "source": [
    "def intersect(nums1, nums2):\n",
    "    nums1.sort()\n",
    "    nums2.sort()\n",
    "    n = len(nums1)\n",
    "    m = len(nums2)\n",
    "    index_n = 0\n",
    "    index_m = 0\n",
    "    result=[]\n",
    "    while index_n < n and index_m < m:\n",
    "        if nums1[index_n] < nums2[index_m]:\n",
    "            index_n += 1\n",
    "        elif nums1[index_n] > nums2[index_m]:\n",
    "            index_m += 1\n",
    "        else:\n",
    "            result.append(nums1[index_n])\n",
    "            index_n += 1\n",
    "            index_m += 1\n",
    "    return result"
   ]
  },
  {
   "cell_type": "code",
   "execution_count": 7,
   "metadata": {},
   "outputs": [
    {
     "data": {
      "text/plain": [
       "[2, 2]"
      ]
     },
     "execution_count": 7,
     "metadata": {},
     "output_type": "execute_result"
    }
   ],
   "source": [
    "intersect([1,2,2,1],[2,2])"
   ]
  },
  {
   "cell_type": "code",
   "execution_count": 8,
   "metadata": {},
   "outputs": [
    {
     "data": {
      "text/plain": [
       "[4, 9]"
      ]
     },
     "execution_count": 8,
     "metadata": {},
     "output_type": "execute_result"
    }
   ],
   "source": [
    "intersect([4,9,5],[9,4,9,8,4])"
   ]
  },
  {
   "cell_type": "code",
   "execution_count": null,
   "metadata": {},
   "outputs": [],
   "source": []
  }
 ],
 "metadata": {
  "kernelspec": {
   "display_name": "Python 3",
   "language": "python",
   "name": "python3"
  },
  "language_info": {
   "codemirror_mode": {
    "name": "ipython",
    "version": 3
   },
   "file_extension": ".py",
   "mimetype": "text/x-python",
   "name": "python",
   "nbconvert_exporter": "python",
   "pygments_lexer": "ipython3",
   "version": "3.7.5"
  }
 },
 "nbformat": 4,
 "nbformat_minor": 2
}
