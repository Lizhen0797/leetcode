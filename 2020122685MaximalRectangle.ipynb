{
 "cells": [
  {
   "cell_type": "raw",
   "metadata": {},
   "source": [
    "给定一个仅包含 0 和 1 、大小为 rows x cols 的二维二进制矩阵，找出只包含 1 的最大矩形，并返回其面积。\n",
    "\n",
    " \n",
    "\n",
    "示例 1：\n",
    "\n",
    "\n",
    "输入：matrix = [[\"1\",\"0\",\"1\",\"0\",\"0\"],[\"1\",\"0\",\"1\",\"1\",\"1\"],[\"1\",\"1\",\"1\",\"1\",\"1\"],[\"1\",\"0\",\"0\",\"1\",\"0\"]]\n",
    "输出：6\n",
    "解释：最大矩形如上图所示。\n",
    "示例 2：\n",
    "\n",
    "输入：matrix = []\n",
    "输出：0\n",
    "示例 3：\n",
    "\n",
    "输入：matrix = [[\"0\"]]\n",
    "输出：0\n",
    "示例 4：\n",
    "\n",
    "输入：matrix = [[\"1\"]]\n",
    "输出：1\n",
    "示例 5：\n",
    "\n",
    "输入：matrix = [[\"0\",\"0\"]]\n",
    "输出：0"
   ]
  },
  {
   "cell_type": "code",
   "execution_count": 1,
   "metadata": {},
   "outputs": [],
   "source": [
    "def maximalRectangle(matrix):\n",
    "    \"\"\"\n",
    "    :type matrix: List[List[str]]\n",
    "    :rtype: int\n",
    "    \"\"\"\n",
    "    m = len(matrix)\n",
    "    if m==0:\n",
    "        return 0\n",
    "    n = len(matrix[0])\n",
    "    left = [ [0] * n for _ in range(m)]\n",
    "\n",
    "    for i in range(m):\n",
    "        for j in range(n):\n",
    "            if matrix[i][j] == '1':\n",
    "                if left[i][j-1] != 0:\n",
    "                    left[i][j] = left[i][j-1] + 1\n",
    "                else:\n",
    "                    left[i][j] = 1\n",
    "\n",
    "    ret = 0\n",
    "    for i in range(m):\n",
    "        for j in range(n):\n",
    "            if matrix[i][j] == '0':\n",
    "                continue\n",
    "            width = left[i][j]\n",
    "            area = width\n",
    "            for k in range(i-1, -1, -1):\n",
    "                width = min(width, left[k][j])\n",
    "                area = max(area, (i-k+1)*width)\n",
    "            ret = max(ret, area)\n",
    "    return ret"
   ]
  },
  {
   "cell_type": "code",
   "execution_count": null,
   "metadata": {},
   "outputs": [],
   "source": []
  }
 ],
 "metadata": {
  "kernelspec": {
   "display_name": "Python 3",
   "language": "python",
   "name": "python3"
  },
  "language_info": {
   "codemirror_mode": {
    "name": "ipython",
    "version": 3
   },
   "file_extension": ".py",
   "mimetype": "text/x-python",
   "name": "python",
   "nbconvert_exporter": "python",
   "pygments_lexer": "ipython3",
   "version": "3.7.5"
  }
 },
 "nbformat": 4,
 "nbformat_minor": 2
}
