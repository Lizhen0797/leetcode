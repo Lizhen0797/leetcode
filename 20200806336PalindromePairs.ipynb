{
 "cells": [
  {
   "cell_type": "raw",
   "metadata": {},
   "source": [
    "给定一组唯一的单词， 找出所有不同 的索引对(i, j)，使得列表中的两个单词， words[i] + words[j] ，可拼接成回文串。\n",
    "\n",
    "示例 1:\n",
    "\n",
    "输入: [\"abcd\",\"dcba\",\"lls\",\"s\",\"sssll\"]\n",
    "输出: [[0,1],[1,0],[3,2],[2,4]] \n",
    "解释: 可拼接成的回文串为 [\"dcbaabcd\",\"abcddcba\",\"slls\",\"llssssll\"]\n",
    "示例 2:\n",
    "\n",
    "输入: [\"bat\",\"tab\",\"cat\"]\n",
    "输出: [[0,1],[1,0]] \n",
    "解释: 可拼接成的回文串为 [\"battab\",\"tabbat\"]。"
   ]
  },
  {
   "cell_type": "code",
   "execution_count": 2,
   "metadata": {},
   "outputs": [],
   "source": [
    "def palindromePairs(words):\n",
    "    \n",
    "    def findWord(s, left, right):\n",
    "        return indices.get(s[left:right+1], -1)\n",
    "    \n",
    "    def isPalindrome(s, left, right):\n",
    "        sub = s[left:right+1]\n",
    "        return (sub== sub[::-1])\n",
    "        \n",
    "    \n",
    "    n = len(words)\n",
    "    indices = {word[::-1]: i for i, word in enumerate(words)}\n",
    "    \n",
    "    result = []\n",
    "    \n",
    "    for i, word in enumerate(words):\n",
    "        m = len(word)\n",
    "        for j in range(m+1):\n",
    "            # 这里将字符串划分为前半段与后半段，这里是考虑后半段是否为回文\n",
    "            #如果后半段为回文，只需找前半段的回文id 构建为[word, findWordID]\n",
    "            if isPalindrome(word, j, m-1):\n",
    "                rightId = findWord(word, 0, j-1)\n",
    "                if rightId != -1 and rightId != i:\n",
    "                    result.append([i, rightId])\n",
    "            #这里是判断前半段是否为回文\n",
    "            if j and isPalindrome(word, 0, j-1):\n",
    "                leftId = findWord(word, j, m-1)\n",
    "                if leftId != -1 and leftId != i:\n",
    "                    result.append([leftId, i])\n",
    "    return result"
   ]
  },
  {
   "cell_type": "code",
   "execution_count": null,
   "metadata": {},
   "outputs": [],
   "source": []
  }
 ],
 "metadata": {
  "kernelspec": {
   "display_name": "Python 3",
   "language": "python",
   "name": "python3"
  },
  "language_info": {
   "codemirror_mode": {
    "name": "ipython",
    "version": 3
   },
   "file_extension": ".py",
   "mimetype": "text/x-python",
   "name": "python",
   "nbconvert_exporter": "python",
   "pygments_lexer": "ipython3",
   "version": "3.7.5"
  }
 },
 "nbformat": 4,
 "nbformat_minor": 2
}
