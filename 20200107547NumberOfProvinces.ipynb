{
 "cells": [
  {
   "cell_type": "raw",
   "metadata": {},
   "source": [
    "有 n 个城市，其中一些彼此相连，另一些没有相连。如果城市 a 与城市 b 直接相连，且城市 b 与城市 c 直接相连，那么城市 a 与城市 c 间接相连。\n",
    "\n",
    "省份 是一组直接或间接相连的城市，组内不含其他没有相连的城市。\n",
    "\n",
    "给你一个 n x n 的矩阵 isConnected ，其中 isConnected[i][j] = 1 表示第 i 个城市和第 j 个城市直接相连，而 isConnected[i][j] = 0 表示二者不直接相连。\n",
    "\n",
    "返回矩阵中 省份 的数量。\n",
    "\n",
    " \n",
    "\n",
    "示例 1：\n",
    "\n",
    "\n",
    "输入：isConnected = [[1,1,0],[1,1,0],[0,0,1]]\n",
    "输出：2\n",
    "示例 2：\n",
    "\n",
    "\n",
    "输入：isConnected = [[1,0,0],[0,1,0],[0,0,1]]\n",
    "输出：3\n",
    " \n",
    "\n",
    "提示：\n",
    "\n",
    "1 <= n <= 200\n",
    "n == isConnected.length\n",
    "n == isConnected[i].length\n",
    "isConnected[i][j] 为 1 或 0\n",
    "isConnected[i][i] == 1\n",
    "isConnected[i][j] == isConnected[j][i]"
   ]
  },
  {
   "cell_type": "code",
   "execution_count": 1,
   "metadata": {},
   "outputs": [],
   "source": [
    "def findCircleNum(isConnected):\n",
    "    \"\"\"\n",
    "    :type isConnected: List[List[int]]\n",
    "    :rtype: int\n",
    "    \"\"\"\n",
    "    def dfs(i):\n",
    "        for j in range(provinces):\n",
    "            if isConnected[i][j] == 1 and j not in visited:\n",
    "                visited.add(j)\n",
    "                dfs(j)\n",
    "    provinces = len(isConnected)\n",
    "    visited = set()\n",
    "    circles = 0\n",
    "\n",
    "    for i in range(provinces):\n",
    "        if i not in visited:\n",
    "            dfs(i)\n",
    "            circles += 1\n",
    "\n",
    "    return circles"
   ]
  },
  {
   "cell_type": "code",
   "execution_count": null,
   "metadata": {},
   "outputs": [],
   "source": []
  }
 ],
 "metadata": {
  "kernelspec": {
   "display_name": "Python 3",
   "language": "python",
   "name": "python3"
  },
  "language_info": {
   "codemirror_mode": {
    "name": "ipython",
    "version": 3
   },
   "file_extension": ".py",
   "mimetype": "text/x-python",
   "name": "python",
   "nbconvert_exporter": "python",
   "pygments_lexer": "ipython3",
   "version": "3.7.4"
  }
 },
 "nbformat": 4,
 "nbformat_minor": 2
}
