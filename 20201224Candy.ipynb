{
 "cells": [
  {
   "cell_type": "raw",
   "metadata": {},
   "source": [
    "老师想给孩子们分发糖果，有 N 个孩子站成了一条直线，老师会根据每个孩子的表现，预先给他们评分。\n",
    "\n",
    "你需要按照以下要求，帮助老师给这些孩子分发糖果：\n",
    "\n",
    "每个孩子至少分配到 1 个糖果。\n",
    "相邻的孩子中，评分高的孩子必须获得更多的糖果。\n",
    "那么这样下来，老师至少需要准备多少颗糖果呢？\n",
    "\n",
    "示例 1:\n",
    "\n",
    "输入: [1,0,2]\n",
    "输出: 5\n",
    "解释: 你可以分别给这三个孩子分发 2、1、2 颗糖果。\n",
    "示例 2:\n",
    "\n",
    "输入: [1,2,2]\n",
    "输出: 4\n",
    "解释: 你可以分别给这三个孩子分发 1、2、1 颗糖果。\n",
    "     第三个孩子只得到 1 颗糖果，这已满足上述两个条件。"
   ]
  },
  {
   "cell_type": "code",
   "execution_count": 2,
   "metadata": {},
   "outputs": [],
   "source": [
    "def candy(ratings):\n",
    "    res = [1 for _ in range(len(ratings))]\n",
    "\n",
    "    for i in range(1, len(ratings)):\n",
    "        if ratings[i] > ratings[i-1]:\n",
    "            res[i] = res[i - 1] + 1\n",
    "    for i in range(len(ratings)-2,-1,-1):\n",
    "        if ratings[i] > ratings[i+1]:\n",
    "            res[i] = max(res[i],res[i + 1] + 1)\n",
    "    return sum(res)"
   ]
  }
 ],
 "metadata": {
  "kernelspec": {
   "display_name": "Python 3",
   "language": "python",
   "name": "python3"
  },
  "language_info": {
   "codemirror_mode": {
    "name": "ipython",
    "version": 3
   },
   "file_extension": ".py",
   "mimetype": "text/x-python",
   "name": "python",
   "nbconvert_exporter": "python",
   "pygments_lexer": "ipython3",
   "version": "3.7.5"
  }
 },
 "nbformat": 4,
 "nbformat_minor": 2
}
