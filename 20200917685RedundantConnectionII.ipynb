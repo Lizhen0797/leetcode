{
 "cells": [
  {
   "cell_type": "raw",
   "metadata": {},
   "source": [
    "在本问题中，有根树指满足以下条件的有向图。该树只有一个根节点，所有其他节点都是该根节点的后继。每一个节点只有一个父节点，除了根节点没有父节点。\n",
    "\n",
    "输入一个有向图，该图由一个有着N个节点 (节点值不重复1, 2, ..., N) 的树及一条附加的边构成。附加的边的两个顶点包含在1到N中间，这条附加的边不属于树中已存在的边。\n",
    "\n",
    "结果图是一个以边组成的二维数组。 每一个边 的元素是一对 [u, v]，用以表示有向图中连接顶点 u 和顶点 v 的边，其中 u 是 v 的一个父节点。\n",
    "\n",
    "返回一条能删除的边，使得剩下的图是有N个节点的有根树。若有多个答案，返回最后出现在给定二维数组的答案。\n",
    "\n",
    "示例 1:\n",
    "\n",
    "输入: [[1,2], [1,3], [2,3]]\n",
    "输出: [2,3]\n",
    "解释: 给定的有向图如下:\n",
    "  1\n",
    " / \\\n",
    "v   v\n",
    "2-->3\n",
    "示例 2:\n",
    "\n",
    "输入: [[1,2], [2,3], [3,4], [4,1], [1,5]]\n",
    "输出: [4,1]\n",
    "解释: 给定的有向图如下:\n",
    "5 <- 1 -> 2\n",
    "     ^    |\n",
    "     |    v\n",
    "     4 <- 3"
   ]
  },
  {
   "cell_type": "code",
   "execution_count": 1,
   "metadata": {},
   "outputs": [],
   "source": [
    "class UnionFind:\n",
    "    def __init__(self, n):\n",
    "        self.ancestor = list(range(n))\n",
    "    def union(self, index1, index2):\n",
    "        self.ancestor[self.find(index1)] = self.find(index2)\n",
    "    def find(self, index):\n",
    "        if self.ancestor[index] != index:\n",
    "            self.ancestor[index] = self.find(self.ancestor[index])\n",
    "        return self.ancestor[index]"
   ]
  },
  {
   "cell_type": "code",
   "execution_count": 2,
   "metadata": {},
   "outputs": [],
   "source": [
    "def findRedundantDirectedConnection(edges):\n",
    "    \"\"\"\n",
    "    :type edges: List[List[int]]\n",
    "    :rtype: List[int]\n",
    "    \"\"\"\n",
    "    nodesCount = len(edges)\n",
    "    uf = UnionFind(nodesCount + 1)\n",
    "    parent = list(range(nodesCount + 1))\n",
    "    conflict = -1\n",
    "    cycle = -1\n",
    "    for i, (node1, node2) in enumerate(edges):\n",
    "        if parent[node2] != node2:\n",
    "            conflict = i\n",
    "        else:\n",
    "            parent[node2] = node1\n",
    "            if uf.find(node1) == uf.find(node2):\n",
    "                cycle = i\n",
    "            else:\n",
    "                uf.union(node1, node2)\n",
    "\n",
    "    if conflict < 0:\n",
    "        return [edges[cycle][0], edges[cycle][1]]\n",
    "    else:\n",
    "        conflictEdge = edges[conflict]\n",
    "        if cycle >= 0:\n",
    "            return [parent[conflictEdge[1]], conflictEdge[1]]\n",
    "        else:\n",
    "            return [conflictEdge[0], conflictEdge[1]]\n"
   ]
  },
  {
   "cell_type": "code",
   "execution_count": null,
   "metadata": {},
   "outputs": [],
   "source": []
  }
 ],
 "metadata": {
  "kernelspec": {
   "display_name": "Python 3",
   "language": "python",
   "name": "python3"
  },
  "language_info": {
   "codemirror_mode": {
    "name": "ipython",
    "version": 3
   },
   "file_extension": ".py",
   "mimetype": "text/x-python",
   "name": "python",
   "nbconvert_exporter": "python",
   "pygments_lexer": "ipython3",
   "version": "3.7.5"
  }
 },
 "nbformat": 4,
 "nbformat_minor": 2
}
