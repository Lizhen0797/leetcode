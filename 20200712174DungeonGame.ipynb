{
 "cells": [
  {
   "cell_type": "markdown",
   "metadata": {},
   "source": [
    "一些恶魔抓住了公主（P）并将她关在了地下城的右下角。地下城是由 M x N 个房间组成的二维网格。我们英勇的骑士（K）最初被安置在左上角的房间里，他必须穿过地下城并通过对抗恶魔来拯救公主。\n",
    "\n",
    "骑士的初始健康点数为一个正整数。如果他的健康点数在某一时刻降至 0 或以下，他会立即死亡。\n",
    "\n",
    "有些房间由恶魔守卫，因此骑士在进入这些房间时会失去健康点数（若房间里的值为负整数，则表示骑士将损失健康点数）；其他房间要么是空的（房间里的值为 0），要么包含增加骑士健康点数的魔法球（若房间里的值为正整数，则表示骑士将增加健康点数）。\n",
    "\n",
    "为了尽快到达公主，骑士决定每次只向右或向下移动一步。\n",
    "\n",
    " \n",
    "\n",
    "编写一个函数来计算确保骑士能够拯救到公主所需的最低初始健康点数。\n",
    "\n",
    "例如，考虑到如下布局的地下城，如果骑士遵循最佳路径 右 -> 右 -> 下 -> 下，则骑士的初始健康点数至少为 7。\n",
    "\n",
    "-2 (K)\t-3\t3\n",
    "\n",
    "-5\t-10\t1\n",
    "\n",
    "10\t30\t-5 (P)\n",
    " \n",
    "\n",
    "说明:\n",
    "\n",
    "骑士的健康点数没有上限。\n",
    "\n",
    "任何房间都可能对骑士的健康点数造成威胁，也可能增加骑士的健康点数，包括骑士进入的左上角房间以及公主被监禁的右下角房间。\n"
   ]
  },
  {
   "cell_type": "code",
   "execution_count": 10,
   "metadata": {},
   "outputs": [],
   "source": [
    "#注意，至少为1的体力值，不能为0，因此初始化的时候将dp[n][m-1], dp[n-1][m]固定为1表示最少需要1的体力值\n",
    "def calculateMinimumHP(dungeon):\n",
    "    n, m = len(dungeon), len(dungeon[0])\n",
    "    BIG = 10**9\n",
    "    dp = [[BIG] * (m + 1) for _ in range(n+1)]\n",
    "    \n",
    "    dp[n][m-1] = dp[n-1][m] = 1\n",
    "    for i in range(n-1, -1, -1):\n",
    "        for j in range(m-1, -1, -1):\n",
    "            minn = min(dp[i + 1][j], dp[i][j+1])\n",
    "            dp[i][j] = max(minn - dungeon[i][j], 1)\n",
    "            #print(dp)\n",
    "    #print(dp)\n",
    "    return dp[0][0]"
   ]
  },
  {
   "cell_type": "code",
   "execution_count": 11,
   "metadata": {},
   "outputs": [
    {
     "data": {
      "text/plain": [
       "7"
      ]
     },
     "execution_count": 11,
     "metadata": {},
     "output_type": "execute_result"
    }
   ],
   "source": [
    "calculateMinimumHP([[-2, -3, 3], [-5, -10, 1], [10, 30, -5]])"
   ]
  }
 ],
 "metadata": {
  "kernelspec": {
   "display_name": "Python 3",
   "language": "python",
   "name": "python3"
  },
  "language_info": {
   "codemirror_mode": {
    "name": "ipython",
    "version": 3
   },
   "file_extension": ".py",
   "mimetype": "text/x-python",
   "name": "python",
   "nbconvert_exporter": "python",
   "pygments_lexer": "ipython3",
   "version": "3.7.5"
  }
 },
 "nbformat": 4,
 "nbformat_minor": 2
}
