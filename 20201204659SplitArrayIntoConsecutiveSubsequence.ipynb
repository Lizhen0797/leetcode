{
 "cells": [
  {
   "cell_type": "raw",
   "metadata": {},
   "source": [
    "你一个按升序排序的整数数组 num（可能包含重复数字），请你将它们分割成一个或多个子序列，其中每个子序列都由连续整数组成且长度至少为 3 。\n",
    "\n",
    "如果可以完成上述分割，则返回 true ；否则，返回 false 。\n",
    "\n",
    " \n",
    "\n",
    "示例 1：\n",
    "\n",
    "输入: [1,2,3,3,4,5]\n",
    "输出: True\n",
    "解释:\n",
    "你可以分割出这样两个连续子序列 : \n",
    "1, 2, 3\n",
    "3, 4, 5\n",
    " \n",
    "\n",
    "示例 2：\n",
    "\n",
    "输入: [1,2,3,3,4,4,5,5]\n",
    "输出: True\n",
    "解释:\n",
    "你可以分割出这样两个连续子序列 : \n",
    "1, 2, 3, 4, 5\n",
    "3, 4, 5\n",
    " \n",
    "\n",
    "示例 3：\n",
    "\n",
    "输入: [1,2,3,4,4,5]\n",
    "输出: False"
   ]
  },
  {
   "cell_type": "code",
   "execution_count": 1,
   "metadata": {},
   "outputs": [],
   "source": [
    "import collections"
   ]
  },
  {
   "cell_type": "code",
   "execution_count": 2,
   "metadata": {},
   "outputs": [],
   "source": [
    "def isPossible(self, nums):\n",
    "    \"\"\"\n",
    "    :type nums: List[int]\n",
    "    :rtype: bool\n",
    "    \"\"\"\n",
    "    d1 = collections.Counter(nums)\n",
    "    d2 = collections.defaultdict(int)\n",
    "    for num in nums:\n",
    "        if d1[num] == 0:\n",
    "            continue\n",
    "        d1[num]-=1\n",
    "        if d2[num-1] > 0:\n",
    "            d2[num-1] -=1\n",
    "            d2[num] += 1\n",
    "        elif d1[num+1] and d1[num+2]:\n",
    "            d1[num+1] -= 1\n",
    "            d1[num+2] -= 1\n",
    "            d2[num+2] += 1\n",
    "        else:\n",
    "            return False\n",
    "    return True"
   ]
  },
  {
   "cell_type": "code",
   "execution_count": null,
   "metadata": {},
   "outputs": [],
   "source": []
  }
 ],
 "metadata": {
  "kernelspec": {
   "display_name": "Python 3",
   "language": "python",
   "name": "python3"
  },
  "language_info": {
   "codemirror_mode": {
    "name": "ipython",
    "version": 3
   },
   "file_extension": ".py",
   "mimetype": "text/x-python",
   "name": "python",
   "nbconvert_exporter": "python",
   "pygments_lexer": "ipython3",
   "version": "3.7.5"
  }
 },
 "nbformat": 4,
 "nbformat_minor": 2
}
