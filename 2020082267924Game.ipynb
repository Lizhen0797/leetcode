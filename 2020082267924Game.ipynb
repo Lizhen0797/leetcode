{
 "cells": [
  {
   "cell_type": "raw",
   "metadata": {},
   "source": [
    "679. 24 点游戏\n",
    "你有 4 张写有 1 到 9 数字的牌。你需要判断是否能通过 *，/，+，-，(，) 的运算得到 24。\n",
    "\n",
    "示例 1:\n",
    "\n",
    "输入: [4, 1, 8, 7]\n",
    "输出: True\n",
    "解释: (8-4) * (7-1) = 24\n",
    "示例 2:\n",
    "\n",
    "输入: [1, 2, 1, 2]\n",
    "输出: False"
   ]
  },
  {
   "cell_type": "code",
   "execution_count": 2,
   "metadata": {},
   "outputs": [],
   "source": [
    "def solution(nums):\n",
    "    @functools.lru_cache(None)\n",
    "    def dfs(nums):\n",
    "        if len(nums) == 1:\n",
    "            return abs(nums[0] - 24)< 0.1\n",
    "\n",
    "        (a, b), nums = nums[:2], nums[2:]\n",
    "        ops = (mul, add, sub) if b==0 else (mul, add, sub ,truediv)\n",
    "        return any(dfs(nums[:i] + (op(a, b),) + nums[i:])\n",
    "                   for op in ops for i in range(len(nums)+1))\n",
    "\n",
    "    return any(dfs(permu) for permu in itertools.permutations(nums, 4))"
   ]
  },
  {
   "cell_type": "code",
   "execution_count": null,
   "metadata": {},
   "outputs": [],
   "source": []
  }
 ],
 "metadata": {
  "kernelspec": {
   "display_name": "Python 3",
   "language": "python",
   "name": "python3"
  },
  "language_info": {
   "codemirror_mode": {
    "name": "ipython",
    "version": 3
   },
   "file_extension": ".py",
   "mimetype": "text/x-python",
   "name": "python",
   "nbconvert_exporter": "python",
   "pygments_lexer": "ipython3",
   "version": "3.7.5"
  }
 },
 "nbformat": 4,
 "nbformat_minor": 2
}
