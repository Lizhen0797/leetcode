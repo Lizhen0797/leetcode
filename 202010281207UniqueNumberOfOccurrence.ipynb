{
 "cells": [
  {
   "cell_type": "raw",
   "metadata": {},
   "source": [
    "给你一个整数数组 arr，请你帮忙统计数组中每个数的出现次数。\n",
    "\n",
    "如果每个数的出现次数都是独一无二的，就返回 true；否则返回 false。\n",
    "\n",
    " \n",
    "\n",
    "示例 1：\n",
    "\n",
    "输入：arr = [1,2,2,1,1,3]\n",
    "输出：true\n",
    "解释：在该数组中，1 出现了 3 次，2 出现了 2 次，3 只出现了 1 次。没有两个数的出现次数相同。\n",
    "示例 2：\n",
    "\n",
    "输入：arr = [1,2]\n",
    "输出：false\n",
    "示例 3：\n",
    "\n",
    "输入：arr = [-3,0,1,-3,1,1,1,-3,10,0]\n",
    "输出：true"
   ]
  },
  {
   "cell_type": "code",
   "execution_count": 2,
   "metadata": {},
   "outputs": [],
   "source": [
    "def uniqueOccurrences(arr):\n",
    "    \"\"\"\n",
    "    :type arr: List[int]\n",
    "    :rtype: bool\n",
    "    \"\"\"\n",
    "    num_dic = {}\n",
    "    for i in range(len(arr)):\n",
    "        if arr[i] in num_dic:\n",
    "            num_dic[arr[i]] += 1\n",
    "        else:\n",
    "            num_dic[arr[i]] = 1\n",
    "    nums_dic = {}\n",
    "    for i in num_dic.keys():\n",
    "        if num_dic[i] in nums_dic:\n",
    "            return False\n",
    "        else:\n",
    "            nums_dic[num_dic[i]]=1\n",
    "    return True"
   ]
  },
  {
   "cell_type": "code",
   "execution_count": null,
   "metadata": {},
   "outputs": [],
   "source": []
  }
 ],
 "metadata": {
  "kernelspec": {
   "display_name": "Python 3",
   "language": "python",
   "name": "python3"
  },
  "language_info": {
   "codemirror_mode": {
    "name": "ipython",
    "version": 3
   },
   "file_extension": ".py",
   "mimetype": "text/x-python",
   "name": "python",
   "nbconvert_exporter": "python",
   "pygments_lexer": "ipython3",
   "version": "3.7.5"
  }
 },
 "nbformat": 4,
 "nbformat_minor": 2
}
