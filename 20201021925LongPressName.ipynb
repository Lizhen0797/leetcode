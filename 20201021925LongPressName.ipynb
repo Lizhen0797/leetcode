{
 "cells": [
  {
   "cell_type": "raw",
   "metadata": {},
   "source": [
    "你的朋友正在使用键盘输入他的名字 name。偶尔，在键入字符 c 时，按键可能会被长按，而字符可能被输入 1 次或多次。\n",
    "\n",
    "你将会检查键盘输入的字符 typed。如果它对应的可能是你的朋友的名字（其中一些字符可能被长按），那么就返回 True。\n",
    "\n",
    " \n",
    "\n",
    "示例 1：\n",
    "\n",
    "输入：name = \"alex\", typed = \"aaleex\"\n",
    "输出：true\n",
    "解释：'alex' 中的 'a' 和 'e' 被长按。\n",
    "示例 2：\n",
    "\n",
    "输入：name = \"saeed\", typed = \"ssaaedd\"\n",
    "输出：false\n",
    "解释：'e' 一定需要被键入两次，但在 typed 的输出中不是这样。\n",
    "示例 3：\n",
    "\n",
    "输入：name = \"leelee\", typed = \"lleeelee\"\n",
    "输出：true\n",
    "示例 4：\n",
    "\n",
    "输入：name = \"laiden\", typed = \"laiden\"\n",
    "输出：true\n",
    "解释：长按名字中的字符并不是必要的。"
   ]
  },
  {
   "cell_type": "code",
   "execution_count": 2,
   "metadata": {},
   "outputs": [],
   "source": [
    "def isLongPressedName(name, typed):\n",
    "    \"\"\"\n",
    "    :type name: str\n",
    "    :type typed: str\n",
    "    :rtype: bool\n",
    "    \"\"\"\n",
    "    i = 0 \n",
    "    j = 0\n",
    "    while i < len(typed):\n",
    "        if j < len(name) and typed[i] == name[j]:\n",
    "            i += 1\n",
    "            j += 1\n",
    "        elif i > 0 and typed[i] == typed[i-1]:\n",
    "            i += 1\n",
    "        else:\n",
    "            return False\n",
    "    return j == len(name)"
   ]
  }
 ],
 "metadata": {
  "kernelspec": {
   "display_name": "Python 3",
   "language": "python",
   "name": "python3"
  },
  "language_info": {
   "codemirror_mode": {
    "name": "ipython",
    "version": 3
   },
   "file_extension": ".py",
   "mimetype": "text/x-python",
   "name": "python",
   "nbconvert_exporter": "python",
   "pygments_lexer": "ipython3",
   "version": "3.7.5"
  }
 },
 "nbformat": 4,
 "nbformat_minor": 2
}
