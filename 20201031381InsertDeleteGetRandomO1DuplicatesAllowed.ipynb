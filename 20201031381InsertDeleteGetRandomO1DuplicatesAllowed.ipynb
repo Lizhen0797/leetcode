{
 "cells": [
  {
   "cell_type": "code",
   "execution_count": 1,
   "metadata": {},
   "outputs": [
    {
     "ename": "SyntaxError",
     "evalue": "invalid character in identifier (<ipython-input-1-c47ee1763ce3>, line 1)",
     "output_type": "error",
     "traceback": [
      "\u001b[0;36m  File \u001b[0;32m\"<ipython-input-1-c47ee1763ce3>\"\u001b[0;36m, line \u001b[0;32m1\u001b[0m\n\u001b[0;31m    设计一个支持在平均 时间复杂度 O(1) 下， 执行以下操作的数据结构。\u001b[0m\n\u001b[0m                    ^\u001b[0m\n\u001b[0;31mSyntaxError\u001b[0m\u001b[0;31m:\u001b[0m invalid character in identifier\n"
     ]
    }
   ],
   "source": [
    "设计一个支持在平均 时间复杂度 O(1) 下， 执行以下操作的数据结构。\n",
    "\n",
    "注意: 允许出现重复元素。\n",
    "\n",
    "insert(val)：向集合中插入元素 val。\n",
    "remove(val)：当 val 存在时，从集合中移除一个 val。\n",
    "getRandom：从现有集合中随机获取一个元素。每个元素被返回的概率应该与其在集合中的数量呈线性相关。\n",
    "示例:\n",
    "\n",
    "// 初始化一个空的集合。\n",
    "RandomizedCollection collection = new RandomizedCollection();\n",
    "\n",
    "// 向集合中插入 1 。返回 true 表示集合不包含 1 。\n",
    "collection.insert(1);\n",
    "\n",
    "// 向集合中插入另一个 1 。返回 false 表示集合包含 1 。集合现在包含 [1,1] 。\n",
    "collection.insert(1);\n",
    "\n",
    "// 向集合中插入 2 ，返回 true 。集合现在包含 [1,1,2] 。\n",
    "collection.insert(2);\n",
    "\n",
    "// getRandom 应当有 2/3 的概率返回 1 ，1/3 的概率返回 2 。\n",
    "collection.getRandom();\n",
    "\n",
    "// 从集合中删除 1 ，返回 true 。集合现在包含 [1,2] 。\n",
    "collection.remove(1);\n",
    "\n",
    "// getRandom 应有相同概率返回 1 和 2 。\n",
    "collection.getRandom();"
   ]
  },
  {
   "cell_type": "code",
   "execution_count": 2,
   "metadata": {},
   "outputs": [],
   "source": [
    "class RandomizedCollection(object):\n",
    "\n",
    "    def __init__(self):\n",
    "        \"\"\"\n",
    "        Initialize your data structure here.\n",
    "        \"\"\"\n",
    "        self.numbers = []\n",
    "        self.dic = {}\n",
    "\n",
    "\n",
    "    def insert(self, val):\n",
    "        \"\"\"\n",
    "        Inserts a value to the collection. Returns true if the collection did not already contain the specified element.\n",
    "        :type val: int\n",
    "        :rtype: bool\n",
    "        \"\"\"\n",
    "        idx = len(self.numbers)\n",
    "        v_set = self.dic.get(val)\n",
    "        self.numbers.append(val)\n",
    "        if v_set:\n",
    "            self.dic[val].add(idx)\n",
    "            return False\n",
    "        else:\n",
    "            self.dic[val] = {idx}\n",
    "            return True\n",
    "\n",
    "\n",
    "    def remove(self, val):\n",
    "        \"\"\"\n",
    "        Removes a value from the collection. Returns true if the collection contained the specified element.\n",
    "        :type val: int\n",
    "        :rtype: bool\n",
    "        \"\"\"\n",
    "        v_set = self.dic.get(val)\n",
    "        l_len = len(self.numbers)\n",
    "        if v_set:\n",
    "            last_val = self.numbers[-1]\n",
    "            if val == last_val:\n",
    "                v_set.remove(l_len - 1)\n",
    "            else:\n",
    "                v_index = v_set.pop()\n",
    "                self.numbers[v_index] = last_val\n",
    "                last_set = self.dic.get(last_val)\n",
    "                last_set.remove(l_len - 1)\n",
    "                last_set.add(v_index)\n",
    "            self.numbers.pop()\n",
    "            return True\n",
    "        return False\n",
    "\n",
    "    def getRandom(self):\n",
    "        \"\"\"\n",
    "        Get a random element from the collection.\n",
    "        :rtype: int\n",
    "        \"\"\"\n",
    "        return random.choice(self.numbers)"
   ]
  },
  {
   "cell_type": "code",
   "execution_count": null,
   "metadata": {},
   "outputs": [],
   "source": []
  }
 ],
 "metadata": {
  "kernelspec": {
   "display_name": "Python 3",
   "language": "python",
   "name": "python3"
  },
  "language_info": {
   "codemirror_mode": {
    "name": "ipython",
    "version": 3
   },
   "file_extension": ".py",
   "mimetype": "text/x-python",
   "name": "python",
   "nbconvert_exporter": "python",
   "pygments_lexer": "ipython3",
   "version": "3.7.5"
  }
 },
 "nbformat": 4,
 "nbformat_minor": 2
}
