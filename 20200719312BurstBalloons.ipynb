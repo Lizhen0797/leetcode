{
 "cells": [
  {
   "cell_type": "raw",
   "metadata": {},
   "source": [
    "有 n 个气球，编号为0 到 n-1，每个气球上都标有一个数字，这些数字存在数组 nums 中。\n",
    "\n",
    "现在要求你戳破所有的气球。如果你戳破气球 i ，就可以获得 nums[left] * nums[i] * nums[right] 个硬币。 这里的 left 和 right 代表和 i 相邻的两个气球的序号。注意当你戳破了气球 i 后，气球 left 和气球 right 就变成了相邻的气球。\n",
    "\n",
    "求所能获得硬币的最大数量。\n",
    "\n",
    "说明:\n",
    "\n",
    "你可以假设 nums[-1] = nums[n] = 1，但注意它们不是真实存在的所以并不能被戳破。\n",
    "0 ≤ n ≤ 500, 0 ≤ nums[i] ≤ 100\n",
    "示例:\n",
    "\n",
    "输入: [3,1,5,8]\n",
    "输出: 167 \n",
    "解释: nums = [3,1,5,8] --> [3,5,8] -->   [3,8]   -->  [8]  --> []\n",
    "     coins =  3*1*5      +  3*5*8    +  1*3*8      + 1*8*1   = 1\n"
   ]
  },
  {
   "cell_type": "code",
   "execution_count": 2,
   "metadata": {},
   "outputs": [],
   "source": [
    "def maxCoins(nums):\n",
    "    n = len(nums)\n",
    "    rec = [[0] * (n + 2) for _ in range(n + 2)]\n",
    "    val = [1] + nums + [1]\n",
    "\n",
    "    for i in range(n - 1, -1, -1):\n",
    "        for j in range(i + 2, n + 2):\n",
    "            for k in range(i + 1, j):\n",
    "                total = val[i] * val[k] * val[j]\n",
    "                total += rec[i][k] + rec[k][j]\n",
    "                rec[i][j] = max(rec[i][j], total)\n",
    "        \n",
    "    return rec[0][n + 1]"
   ]
  },
  {
   "cell_type": "code",
   "execution_count": null,
   "metadata": {},
   "outputs": [],
   "source": []
  }
 ],
 "metadata": {
  "kernelspec": {
   "display_name": "Python 3",
   "language": "python",
   "name": "python3"
  },
  "language_info": {
   "codemirror_mode": {
    "name": "ipython",
    "version": 3
   },
   "file_extension": ".py",
   "mimetype": "text/x-python",
   "name": "python",
   "nbconvert_exporter": "python",
   "pygments_lexer": "ipython3",
   "version": "3.7.5"
  }
 },
 "nbformat": 4,
 "nbformat_minor": 2
}
