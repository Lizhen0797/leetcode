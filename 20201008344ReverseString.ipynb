{
 "cells": [
  {
   "cell_type": "raw",
   "metadata": {},
   "source": [
    "编写一个函数，其作用是将输入的字符串反转过来。输入字符串以字符数组 char[] 的形式给出。\n",
    "\n",
    "不要给另外的数组分配额外的空间，你必须原地修改输入数组、使用 O(1) 的额外空间解决这一问题。\n",
    "\n",
    "你可以假设数组中的所有字符都是 ASCII 码表中的可打印字符。\n",
    "\n",
    " \n",
    "\n",
    "示例 1：\n",
    "\n",
    "输入：[\"h\",\"e\",\"l\",\"l\",\"o\"]\n",
    "输出：[\"o\",\"l\",\"l\",\"e\",\"h\"]\n",
    "示例 2：\n",
    "\n",
    "输入：[\"H\",\"a\",\"n\",\"n\",\"a\",\"h\"]\n",
    "输出：[\"h\",\"a\",\"n\",\"n\",\"a\",\"H\"]"
   ]
  },
  {
   "cell_type": "code",
   "execution_count": 2,
   "metadata": {},
   "outputs": [],
   "source": [
    "def reverseString(s):\n",
    "    \"\"\"\n",
    "    :type s: List[str]\n",
    "    :rtype: None Do not return anything, modify s in-place instead.\n",
    "    \"\"\"\n",
    "    for i in range(len(s)//2):\n",
    "        s[i], s[len(s)-i-1] = s[len(s)-i-1], s[i]"
   ]
  },
  {
   "cell_type": "code",
   "execution_count": null,
   "metadata": {},
   "outputs": [],
   "source": []
  }
 ],
 "metadata": {
  "kernelspec": {
   "display_name": "Python 3",
   "language": "python",
   "name": "python3"
  },
  "language_info": {
   "codemirror_mode": {
    "name": "ipython",
    "version": 3
   },
   "file_extension": ".py",
   "mimetype": "text/x-python",
   "name": "python",
   "nbconvert_exporter": "python",
   "pygments_lexer": "ipython3",
   "version": "3.7.5"
  }
 },
 "nbformat": 4,
 "nbformat_minor": 2
}
