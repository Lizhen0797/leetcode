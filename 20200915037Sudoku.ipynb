{
 "cells": [
  {
   "cell_type": "raw",
   "metadata": {},
   "source": [
    "编写一个程序，通过已填充的空格来解决数独问题。\n",
    "\n",
    "一个数独的解法需遵循如下规则：\n",
    "\n",
    "数字 1-9 在每一行只能出现一次。\n",
    "数字 1-9 在每一列只能出现一次。\n",
    "数字 1-9 在每一个以粗实线分隔的 3x3 宫内只能出现一次。\n",
    "空白格用 '.' 表示。\n",
    "\n",
    "\n",
    "\n",
    "一个数独。\n",
    "\n",
    "\n",
    "\n",
    "答案被标成红色。\n",
    "\n",
    "Note:\n",
    "\n",
    "给定的数独序列只包含数字 1-9 和字符 '.' 。\n",
    "你可以假设给定的数独只有唯一解。\n",
    "给定数独永远是 9x9 形式的。"
   ]
  },
  {
   "cell_type": "code",
   "execution_count": 2,
   "metadata": {},
   "outputs": [],
   "source": [
    "def solveSudoku(board):\n",
    "    nums = {\"1\", \"2\", \"3\", \"4\", \"5\", \"6\", \"7\", \"8\", \"9\"}\n",
    "    row = [set() for _ in range(9)]\n",
    "    col = [set() for _ in range(9)]\n",
    "    palace = [[set() for _ in range(3)] for _ in range(3)]\n",
    "    blank = []\n",
    "    for i in range(9):\n",
    "        for j in range(9):\n",
    "            ch = board[i][j]\n",
    "            if ch == '.':\n",
    "                blank.append((i,j))\n",
    "            else:\n",
    "                row[i].add(ch)\n",
    "                col[j].add(ch)\n",
    "                palace[i//3][j//3].add(ch)\n",
    "    def dfs(n):\n",
    "        if n == len(blank):\n",
    "            return True\n",
    "        i, j = blank[n]\n",
    "        rst = nums - row[i] - col[j] - palace[i//3][j//3]\n",
    "        if not rst:\n",
    "            return False\n",
    "        for num in rst:\n",
    "            board[i][j] = num\n",
    "            row[i].add(num)\n",
    "            col[j].add[num]\n",
    "            palace[i//3][j//3].add(num)            \n",
    "            if dfs(n+1):\n",
    "                return True\n",
    "            row[i].remove(num)\n",
    "            col[j].remove(num)\n",
    "            palace[i//3][j//3].remove(num)\n",
    "    dfs(0)"
   ]
  },
  {
   "cell_type": "code",
   "execution_count": null,
   "metadata": {},
   "outputs": [],
   "source": []
  }
 ],
 "metadata": {
  "kernelspec": {
   "display_name": "Python 3",
   "language": "python",
   "name": "python3"
  },
  "language_info": {
   "codemirror_mode": {
    "name": "ipython",
    "version": 3
   },
   "file_extension": ".py",
   "mimetype": "text/x-python",
   "name": "python",
   "nbconvert_exporter": "python",
   "pygments_lexer": "ipython3",
   "version": "3.7.9"
  }
 },
 "nbformat": 4,
 "nbformat_minor": 4
}
