{
 "cells": [
  {
   "cell_type": "raw",
   "metadata": {},
   "source": [
    "在一个 N x N 的坐标方格 grid 中，每一个方格的值 grid[i][j] 表示在位置 (i,j) 的平台高度。\n",
    "\n",
    "现在开始下雨了。当时间为 t 时，此时雨水导致水池中任意位置的水位为 t 。你可以从一个平台游向四周相邻的任意一个平台，但是前提是此时水位必须同时淹没这两个平台。假定你可以瞬间移动无限距离，也就是默认在方格内部游动是不耗时的。当然，在你游泳的时候你必须待在坐标方格里面。\n",
    "\n",
    "你从坐标方格的左上平台 (0，0) 出发。最少耗时多久你才能到达坐标方格的右下平台 (N-1, N-1)？\n",
    "\n",
    " \n",
    "\n",
    "示例 1:\n",
    "\n",
    "输入: [[0,2],[1,3]]\n",
    "输出: 3\n",
    "解释:\n",
    "时间为0时，你位于坐标方格的位置为 (0, 0)。\n",
    "此时你不能游向任意方向，因为四个相邻方向平台的高度都大于当前时间为 0 时的水位。\n",
    "\n",
    "等时间到达 3 时，你才可以游向平台 (1, 1). 因为此时的水位是 3，坐标方格中的平台没有比水位 3 更高的，所以你可以游向坐标方格中的任意位置\n",
    "示例2:\n",
    "\n",
    "输入: [[0,1,2,3,4],[24,23,22,21,5],[12,13,14,15,16],[11,17,18,19,20],[10,9,8,7,6]]\n",
    "输出: 16\n",
    "解释:\n",
    " 0  1  2  3  4\n",
    "24 23 22 21  5\n",
    "12 13 14 15 16\n",
    "11 17 18 19 20\n",
    "10  9  8  7  6\n",
    "\n",
    "最终的路线用加粗进行了标记。\n",
    "我们必须等到时间为 16，此时才能保证平台 (0, 0) 和 (4, 4) 是连通的"
   ]
  },
  {
   "cell_type": "code",
   "execution_count": 2,
   "metadata": {},
   "outputs": [],
   "source": [
    "class UnionFind:\n",
    "    def __init__(self, n):\n",
    "        self.father = list(range(n))\n",
    "    \n",
    "    def find(self, x):\n",
    "        if self.father[x] == x:\n",
    "            return x\n",
    "        self.father[x] = self.find(self.father[x])\n",
    "        return self.father[x]\n",
    "    \n",
    "    def merge(self, x, y):\n",
    "        x, y =self.find(x), self.find(y)\n",
    "        self.father[y] = x\n",
    "    \n",
    "    def is_coonected(self, x, y):\n",
    "        return self.find(x) == self.find(y)"
   ]
  },
  {
   "cell_type": "code",
   "execution_count": 1,
   "metadata": {},
   "outputs": [],
   "source": [
    "def swimInWater(grid):\n",
    "    \"\"\"\n",
    "    :type grid: List[List[int]]\n",
    "    :rtype: int\n",
    "    \"\"\"\n",
    "    m = len(grid)\n",
    "    n = len(grid[0])\n",
    "    edges = []\n",
    "    for i in range(m):\n",
    "        for j in range(n):\n",
    "            iden = i * n +j\n",
    "            if i > 0:\n",
    "                edges.append((iden-n, iden, max(grid[i][j], grid[i-1][j])))\n",
    "            if j > 0:\n",
    "                edges.append((iden-1, iden, max(grid[i][j], grid[i][j-1])))\n",
    "    edges.sort(key=lambda x:x[2])\n",
    "    uf = UnionFind(m * n)\n",
    "    ans = 0\n",
    "    for x, y, v in edges:\n",
    "        uf.merge(x, y)\n",
    "        if uf.is_coonected(0, m * n -1):\n",
    "            ans = v\n",
    "            break\n",
    "    return ans"
   ]
  },
  {
   "cell_type": "code",
   "execution_count": 3,
   "metadata": {},
   "outputs": [
    {
     "data": {
      "text/plain": [
       "3"
      ]
     },
     "execution_count": 3,
     "metadata": {},
     "output_type": "execute_result"
    }
   ],
   "source": [
    "swimInWater([[0,2],[1,3]])"
   ]
  },
  {
   "cell_type": "code",
   "execution_count": null,
   "metadata": {},
   "outputs": [],
   "source": []
  }
 ],
 "metadata": {
  "kernelspec": {
   "display_name": "Python 3",
   "language": "python",
   "name": "python3"
  },
  "language_info": {
   "codemirror_mode": {
    "name": "ipython",
    "version": 3
   },
   "file_extension": ".py",
   "mimetype": "text/x-python",
   "name": "python",
   "nbconvert_exporter": "python",
   "pygments_lexer": "ipython3",
   "version": "3.7.4"
  }
 },
 "nbformat": 4,
 "nbformat_minor": 2
}
