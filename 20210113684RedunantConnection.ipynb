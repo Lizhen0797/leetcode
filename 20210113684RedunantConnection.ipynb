{
 "cells": [
  {
   "cell_type": "raw",
   "metadata": {},
   "source": [
    "在本问题中, 树指的是一个连通且无环的无向图。\n",
    "\n",
    "输入一个图，该图由一个有着N个节点 (节点值不重复1, 2, ..., N) 的树及一条附加的边构成。附加的边的两个顶点包含在1到N中间，这条附加的边不属于树中已存在的边。\n",
    "\n",
    "结果图是一个以边组成的二维数组。每一个边的元素是一对[u, v] ，满足 u < v，表示连接顶点u 和v的无向图的边。\n",
    "\n",
    "返回一条可以删去的边，使得结果图是一个有着N个节点的树。如果有多个答案，则返回二维数组中最后出现的边。答案边 [u, v] 应满足相同的格式 u < v。\n",
    "\n",
    "示例 1：\n",
    "\n",
    "输入: [[1,2], [1,3], [2,3]]\n",
    "输出: [2,3]\n",
    "解释: 给定的无向图为:\n",
    "  1\n",
    " / \\\n",
    "2 - 3\n",
    "示例 2：\n",
    "\n",
    "输入: [[1,2], [2,3], [3,4], [1,4], [1,5]]\n",
    "输出: [1,4]\n",
    "解释: 给定的无向图为:\n",
    "5 - 1 - 2\n",
    "    |   |\n",
    "    4 - 3\n",
    "注意:\n",
    "\n",
    "输入的二维数组大小在 3 到 1000。\n",
    "二维数组中的整数在1到N之间，其中N是输入数组的大小。\n",
    "\n",
    "来源：力扣（LeetCode）\n",
    "链接：https://leetcode-cn.com/problems/redundant-connection\n",
    "著作权归领扣网络所有。商业转载请联系官方授权，非商业转载请注明出处。"
   ]
  },
  {
   "cell_type": "code",
   "execution_count": 1,
   "metadata": {},
   "outputs": [],
   "source": [
    "class UnionFind:\n",
    "    def __init__(self, size):\n",
    "        self.father={i:None for i in range(1, size+1)}\n",
    "    \n",
    "    def find(self,x):\n",
    "        #print('---find---')\n",
    "        root = x\n",
    "        while self.father[root] != None:\n",
    "            root = self.father[root]\n",
    "        #print(self.father)\n",
    "        while x != root:\n",
    "            orginal_father = self.father[x]\n",
    "            self.father[x] = root\n",
    "            x = orginal_father\n",
    "        #print(self.father)\n",
    "        return root\n",
    "    \n",
    "    def merge(self, x, y):\n",
    "        #print('---merger----')\n",
    "        root_x, root_y = self.find(x), self.find(y)\n",
    "        if root_x != root_y:\n",
    "            self.father[root_x] = root_y\n",
    "        \n",
    "    def is_connected(self, x, y):\n",
    "        #print('---connect---')\n",
    "        return self.find(x) == self.find(y)\n",
    "class Solution(object):\n",
    "    def findRedundantConnection(self, edges):\n",
    "        \"\"\"\n",
    "        :type edges: List[List[int]]\n",
    "        :rtype: List[int]\n",
    "        \"\"\"\n",
    "        uf = UnionFind(len(edges))\n",
    "        for x,y in edges:\n",
    "            if uf.is_connected(x,y):\n",
    "                print(uf.father)\n",
    "                return [x,y]\n",
    "            uf.merge(x,y)\n",
    "        \n",
    "        return []"
   ]
  },
  {
   "cell_type": "code",
   "execution_count": null,
   "metadata": {},
   "outputs": [],
   "source": []
  }
 ],
 "metadata": {
  "kernelspec": {
   "display_name": "Python 3",
   "language": "python",
   "name": "python3"
  },
  "language_info": {
   "codemirror_mode": {
    "name": "ipython",
    "version": 3
   },
   "file_extension": ".py",
   "mimetype": "text/x-python",
   "name": "python",
   "nbconvert_exporter": "python",
   "pygments_lexer": "ipython3",
   "version": "3.6.9"
  }
 },
 "nbformat": 4,
 "nbformat_minor": 4
}
