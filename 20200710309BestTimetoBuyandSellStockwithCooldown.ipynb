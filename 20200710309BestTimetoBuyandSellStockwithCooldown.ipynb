{
 "cells": [
  {
   "cell_type": "markdown",
   "metadata": {},
   "source": [
    "给定一个整数数组，其中第 i 个元素代表了第 i 天的股票价格 。​\n",
    "\n",
    "设计一个算法计算出最大利润。在满足以下约束条件下，你可以尽可能地完成更多的交易（多次买卖一支股票）:\n",
    "\n",
    "你不能同时参与多笔交易（你必须在再次购买前出售掉之前的股票）。\n",
    "卖出股票后，你无法在第二天买入股票 (即冷冻期为 1 天)。\n",
    "示例:\n",
    "\n",
    "输入: [1,2,3,0,2]\n",
    "输出: 3 \n",
    "解释: 对应的交易状态为: [买入, 卖出, 冷冻期, 买入, 卖出]\n"
   ]
  },
  {
   "cell_type": "code",
   "execution_count": 10,
   "metadata": {},
   "outputs": [],
   "source": [
    "#我们目前持有一支股票，对应的「累计最大收益」记为 f[i][0]\n",
    "#我们目前不持有任何股票，并且处于冷冻期中，对应的「累计最大收益」记为 f[i][1]\n",
    "#我们目前不持有任何股票，并且不处于冷冻期中，对应的「累计最大收益」记为 f[i][2]\n",
    "def maxProfit(prices):\n",
    "    if prices is None:\n",
    "        return 0\n",
    "    n = len(prices)\n",
    "    f = [[-prices[0], 0, 0]] + [[0] * 3 for _ in range(n - 1)]\n",
    "    for i in range(1, n):\n",
    "        f[i][0] = max(f[i - 1][0], f[i - 1][2] - prices[i])\n",
    "        f[i][1] = f[i-1][0] + prices[i]\n",
    "        f[i][2] = max(f[i-1][1], f[i-1][2])\n",
    "    return max(f[n - 1][1], f[n - 1][2])"
   ]
  },
  {
   "cell_type": "code",
   "execution_count": 11,
   "metadata": {},
   "outputs": [
    {
     "data": {
      "text/plain": [
       "3"
      ]
     },
     "execution_count": 11,
     "metadata": {},
     "output_type": "execute_result"
    }
   ],
   "source": [
    "maxProfit([1,2,3,0,2])"
   ]
  },
  {
   "cell_type": "code",
   "execution_count": null,
   "metadata": {},
   "outputs": [],
   "source": []
  }
 ],
 "metadata": {
  "kernelspec": {
   "display_name": "Python 3",
   "language": "python",
   "name": "python3"
  },
  "language_info": {
   "codemirror_mode": {
    "name": "ipython",
    "version": 3
   },
   "file_extension": ".py",
   "mimetype": "text/x-python",
   "name": "python",
   "nbconvert_exporter": "python",
   "pygments_lexer": "ipython3",
   "version": "3.7.5"
  }
 },
 "nbformat": 4,
 "nbformat_minor": 2
}
