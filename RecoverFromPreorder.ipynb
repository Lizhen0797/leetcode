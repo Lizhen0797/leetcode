{
 "cells": [
  {
   "cell_type": "code",
   "execution_count": 1,
   "metadata": {},
   "outputs": [],
   "source": [
    "class TreeNode(object):\n",
    "    def __init__(self, x):\n",
    "        self.val = x\n",
    "        self.left = None\n",
    "        self.right = None"
   ]
  },
  {
   "cell_type": "code",
   "execution_count": null,
   "metadata": {},
   "outputs": [],
   "source": [
    "def recoverFromPreorder(S):\n",
    "    path, pos = list(), 0\n",
    "    while pos < len(S):\n",
    "        level = 0\n",
    "        while S[pos] == '-':\n",
    "            level += 1\n",
    "            pos += 1\n",
    "        value = 0\n",
    "        while pos < len(s) and S[pos].isdigit():\n",
    "            value = value * 10 + int(S[pos])\n",
    "            pos += 1\n",
    "        node = TreeNode(value)\n",
    "        if level == len(path):\n",
    "            if path:\n",
    "                path[-1].left = node\n",
    "        else:\n",
    "            while(len(path)!=level):\n",
    "                path.pop()\n",
    "            path[-1].right = node\n",
    "        path.append(node)\n",
    "    return path(0)"
   ]
  }
 ],
 "metadata": {
  "kernelspec": {
   "display_name": "Python 3",
   "language": "python",
   "name": "python3"
  },
  "language_info": {
   "codemirror_mode": {
    "name": "ipython",
    "version": 3
   },
   "file_extension": ".py",
   "mimetype": "text/x-python",
   "name": "python",
   "nbconvert_exporter": "python",
   "pygments_lexer": "ipython3",
   "version": "3.7.5"
  }
 },
 "nbformat": 4,
 "nbformat_minor": 2
}
