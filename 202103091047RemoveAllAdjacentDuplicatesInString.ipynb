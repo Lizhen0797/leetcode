{
 "cells": [
  {
   "cell_type": "raw",
   "metadata": {},
   "source": [
    "给出由小写字母组成的字符串 S，重复项删除操作会选择两个相邻且相同的字母，并删除它们。\n",
    "\n",
    "在 S 上反复执行重复项删除操作，直到无法继续删除。\n",
    "\n",
    "在完成所有重复项删除操作后返回最终的字符串。答案保证唯一。\n",
    "\n",
    " \n",
    "\n",
    "示例：\n",
    "\n",
    "输入：\"abbaca\"\n",
    "输出：\"ca\"\n",
    "解释：\n",
    "例如，在 \"abbaca\" 中，我们可以删除 \"bb\" 由于两字母相邻且相同，这是此时唯一可以执行删除操作的重复项。之后我们得到字符串 \"aaca\"，其中又只有 \"aa\" 可以执行重复项删除操作，所以最后的字符串为 \"ca\"。"
   ]
  },
  {
   "cell_type": "code",
   "execution_count": 1,
   "metadata": {},
   "outputs": [],
   "source": [
    "def removeDuplicates(S):\n",
    "    stack = []\n",
    "    for ch in S:\n",
    "        if stack and stack[-1] == ch:\n",
    "            stack.pop(-1)\n",
    "        else:\n",
    "            stack.append(ch)\n",
    "    return \"\".join(stack)"
   ]
  },
  {
   "cell_type": "code",
   "execution_count": null,
   "metadata": {},
   "outputs": [],
   "source": []
  }
 ],
 "metadata": {
  "kernelspec": {
   "display_name": "Python 3",
   "language": "python",
   "name": "python3"
  },
  "language_info": {
   "codemirror_mode": {
    "name": "ipython",
    "version": 3
   },
   "file_extension": ".py",
   "mimetype": "text/x-python",
   "name": "python",
   "nbconvert_exporter": "python",
   "pygments_lexer": "ipython3",
   "version": "3.7.5"
  }
 },
 "nbformat": 4,
 "nbformat_minor": 2
}
