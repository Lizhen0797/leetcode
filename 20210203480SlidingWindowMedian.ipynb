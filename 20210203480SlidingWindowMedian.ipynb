{
 "cells": [
  {
   "cell_type": "raw",
   "metadata": {},
   "source": [
    "中位数是有序序列最中间的那个数。如果序列的长度是偶数，则没有最中间的数；此时中位数是最中间的两个数的平均数。\n",
    "\n",
    "例如：\n",
    "\n",
    "[2,3,4]，中位数是 3\n",
    "[2,3]，中位数是 (2 + 3) / 2 = 2.5\n",
    "给你一个数组 nums，有一个长度为 k 的窗口从最左端滑动到最右端。窗口中有 k 个数，每次窗口向右移动 1 位。你的任务是找出每次窗口移动后得到的新窗口中元素的中位数，并输出由它们组成的数组。\n",
    "\n",
    " \n",
    "\n",
    "示例：\n",
    "\n",
    "给出 nums = [1,3,-1,-3,5,3,6,7]，以及 k = 3。\n",
    "\n",
    "窗口位置                      中位数\n",
    "---------------               -----\n",
    "[1  3  -1] -3  5  3  6  7       1\n",
    " 1 [3  -1  -3] 5  3  6  7      -1\n",
    " 1  3 [-1  -3  5] 3  6  7      -1\n",
    " 1  3  -1 [-3  5  3] 6  7       3\n",
    " 1  3  -1  -3 [5  3  6] 7       5\n",
    " 1  3  -1  -3  5 [3  6  7]      6\n",
    " 因此，返回该滑动窗口的中位数数组 [1,-1,-1,3,5,6]。\n",
    "\n",
    " \n",
    "\n",
    "提示：\n",
    "\n",
    "你可以假设 k 始终有效，即：k 始终小于输入的非空数组的元素个数。\n",
    "与真实值误差在 10 ^ -5 以内的答案将被视作正确答案。"
   ]
  },
  {
   "cell_type": "code",
   "execution_count": 3,
   "metadata": {},
   "outputs": [],
   "source": [
    "import heapq"
   ]
  },
  {
   "cell_type": "code",
   "execution_count": 12,
   "metadata": {},
   "outputs": [],
   "source": [
    "def medianSlidingWindow(nums, k):\n",
    "    # # 暴力\n",
    "        # res = []\n",
    "        # for i in range(len(nums) - k + 1):\n",
    "        #     windows = sorted(nums[i:i+k])\n",
    "        #     # 直观求中位数\n",
    "        #     # if k % 2 == 0:\n",
    "        #     #     #print((float(windows[k/2] + windows[k/2-1]))/2)\n",
    "        #     #     res.append((float(windows[k/2] + windows[k/2-1]))/2)\n",
    "        #     # else:\n",
    "        #     #     res.append(windows[k//2])\n",
    "        #     # 优化求中位数\n",
    "        #     res.append((float(windows[(k-1)//2] + windows[k//2])) / 2)\n",
    "        # return res\n",
    "    # 堆方法，通过堆来动态维持堆内的顺序\n",
    "    #存储比中位数大的数\n",
    "    min_heap = []\n",
    "    #存储比中位数小的数\n",
    "    max_heap = []\n",
    "    for i in range(k):\n",
    "        heapq.heappush(min_heap, (nums[i], i))\n",
    "    print(min_heap)\n",
    "    for i in range(k//2):\n",
    "        n, idx = heapq.heappop(min_heap)\n",
    "        # 加负号来保证根节点最大，因为heap只支持小根堆\n",
    "        heapq.heappush(max_heap, (-n, idx))\n",
    "    print(min_heap)\n",
    "    print(max_heap)\n",
    "    res = ((min_heap[0][0] - max_heap[0][0])/2 if k % 2==0 else min_heap[0][0] * 1.0)\n",
    "    for i in range(k, len(nums)):\n",
    "        if nums[i] < min_heap[0][0]:\n",
    "            heapq.heappush(max_heap,(-nums[i],i))\n",
    "            if nums[i-k] >= min_heap[0][0]:\n",
    "                n, idx = heapq.heappop(max_heap)\n",
    "                heapq.heappush(min_heap, (-n, idx))\n",
    "        else:\n",
    "            heapq.heappush(min_heap,(nums[i],i))\n",
    "            # 如果要弹出的元素在最小堆中，调整\n",
    "            # 取等号是特殊情况\n",
    "            if nums[i-k] <= min_heap[0][0]:\n",
    "                n,idx = heapq.heappop(min_heap)\n",
    "                heapq.heappush(max_heap,(-n,idx))\n",
    "        while min_heap and min_heap[0][1] <= i-k:\n",
    "            heapq.heappop(min_heap)\n",
    "        while max_heap and max_heap[0][1] <= i-k:\n",
    "            heapq.heappop(max_heap)\n",
    "        res = ((min_heap[0][0] - max_heap[0][0])/2 if k % 2==0 else min_heap[0][0] * 1.0)\n",
    "    return res"
   ]
  },
  {
   "cell_type": "code",
   "execution_count": null,
   "metadata": {},
   "outputs": [],
   "source": []
  }
 ],
 "metadata": {
  "kernelspec": {
   "display_name": "Python 3",
   "language": "python",
   "name": "python3"
  },
  "language_info": {
   "codemirror_mode": {
    "name": "ipython",
    "version": 3
   },
   "file_extension": ".py",
   "mimetype": "text/x-python",
   "name": "python",
   "nbconvert_exporter": "python",
   "pygments_lexer": "ipython3",
   "version": "3.7.4"
  }
 },
 "nbformat": 4,
 "nbformat_minor": 2
}
