{
 "cells": [
  {
   "cell_type": "raw",
   "metadata": {},
   "source": [
    "给你一个字符串 s 、一个字符串 t 。返回 s 中涵盖 t 所有字符的最小子串。如果 s 中不存在涵盖 t 所有字符的子串，则返回空字符串 \"\" 。\n",
    "\n",
    "注意：如果 s 中存在这样的子串，我们保证它是唯一的答案。\n",
    "\n",
    " \n",
    "\n",
    "示例 1：\n",
    "\n",
    "输入：s = \"ADOBECODEBANC\", t = \"ABC\"\n",
    "输出：\"BANC\"\n",
    "示例 2：\n",
    "\n",
    "输入：s = \"a\", t = \"a\"\n",
    "输出：\"a\"\n"
   ]
  },
  {
   "cell_type": "code",
   "execution_count": 1,
   "metadata": {},
   "outputs": [],
   "source": [
    "def minWindow(s, t):\n",
    "    need = collections.defaultdict(int)\n",
    "    for c in t:\n",
    "        need[c] += 1\n",
    "    window = collections.defaultdict(int)\n",
    "    #print(need)\n",
    "    left, right, valid = 0, 0, 0\n",
    "    start = 0\n",
    "    length = float('INF')\n",
    "    while right < len(s):\n",
    "        c = s[right]\n",
    "        right += 1\n",
    "        if c in need:\n",
    "            window[c] += 1\n",
    "            if (window[c] == need[c]):\n",
    "                valid += 1\n",
    "\n",
    "        while (valid == len(need)):\n",
    "            if right-left < length:\n",
    "                start =left\n",
    "                length = right - left\n",
    "            d = s[left]\n",
    "            left += 1\n",
    "            if d in need:\n",
    "                if window[d] == need[d]:\n",
    "                    valid -= 1\n",
    "                window[d] -= 1\n",
    "    #\n",
    "    if length == float('INF'):\n",
    "        return \"\"\n",
    "    return s[start:start+length]"
   ]
  },
  {
   "cell_type": "code",
   "execution_count": null,
   "metadata": {},
   "outputs": [],
   "source": []
  }
 ],
 "metadata": {
  "kernelspec": {
   "display_name": "Python 3",
   "language": "python",
   "name": "python3"
  },
  "language_info": {
   "codemirror_mode": {
    "name": "ipython",
    "version": 3
   },
   "file_extension": ".py",
   "mimetype": "text/x-python",
   "name": "python",
   "nbconvert_exporter": "python",
   "pygments_lexer": "ipython3",
   "version": "3.7.5"
  }
 },
 "nbformat": 4,
 "nbformat_minor": 2
}
