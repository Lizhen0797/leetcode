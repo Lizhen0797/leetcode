{
 "cells": [
  {
   "cell_type": "raw",
   "metadata": {},
   "source": [
    "统计所有小于非负整数 n 的质数的数量。\n",
    "\n",
    " \n",
    "\n",
    "示例 1：\n",
    "\n",
    "输入：n = 10\n",
    "输出：4\n",
    "解释：小于 10 的质数一共有 4 个, 它们是 2, 3, 5, 7 。\n",
    "示例 2：\n",
    "\n",
    "输入：n = 0\n",
    "输出：0\n",
    "示例 3：\n",
    "\n",
    "输入：n = 1\n",
    "输出：0\n",
    " \n",
    "\n",
    "提示：\n",
    "\n",
    "0 <= n <= 5 * 106"
   ]
  },
  {
   "cell_type": "code",
   "execution_count": 1,
   "metadata": {
    "collapsed": true
   },
   "outputs": [],
   "source": [
    "def countPrimes(n):\n",
    "    \"\"\"\n",
    "    :type n: int\n",
    "    :rtype: int\n",
    "    \"\"\"\n",
    "    # 最小的质数是 2\n",
    "    if n < 2:\n",
    "        return 0\n",
    "\n",
    "    isPrime = [1] * n\n",
    "    isPrime[0] = isPrime[1] = 0   # 0和1不是质数，先排除掉\n",
    "\n",
    "    # 埃式筛，把不大于根号 n 的所有质数的倍数剔除\n",
    "    for i in range(2, int(n ** 0.5) + 1):\n",
    "        if isPrime[i]:\n",
    "            isPrime[i * i:n:i] = [0] * ((n - 1 - i * i) // i + 1)\n",
    "\n",
    "    return sum(isPrime)"
   ]
  },
  {
   "cell_type": "code",
   "execution_count": null,
   "metadata": {
    "collapsed": true
   },
   "outputs": [],
   "source": []
  }
 ],
 "metadata": {
  "kernelspec": {
   "display_name": "Python 2",
   "language": "python",
   "name": "python2"
  },
  "language_info": {
   "codemirror_mode": {
    "name": "ipython",
    "version": 2
   },
   "file_extension": ".py",
   "mimetype": "text/x-python",
   "name": "python",
   "nbconvert_exporter": "python",
   "pygments_lexer": "ipython2",
   "version": "2.7.18"
  }
 },
 "nbformat": 4,
 "nbformat_minor": 2
}
