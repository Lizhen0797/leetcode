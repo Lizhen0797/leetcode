{
 "cells": [
  {
   "cell_type": "markdown",
   "metadata": {},
   "source": [
    "给定一个字符串 (s) 和一个字符模式 (p) ，实现一个支持 '?' 和 '*' 的通配符匹配。\n",
    "\n",
    "'?' 可以匹配任何单个字符。\n",
    "'*' 可以匹配任意字符串（包括空字符串）。\n",
    "两个字符串完全匹配才算匹配成功。\n",
    "\n",
    "说明:\n",
    "\n",
    "s 可能为空，且只包含从 a-z 的小写字母。\n",
    "p 可能为空，且只包含从 a-z 的小写字母，以及字符 ? 和 *。\n",
    "示例 1:\n",
    "\n",
    "输入:\n",
    "\n",
    "s = \"aa\"\n",
    "\n",
    "p = \"a\"\n",
    "\n",
    "输出: false\n",
    "\n",
    "解释: \"a\" 无法匹配 \"aa\" 整个字符串。\n",
    "\n",
    "示例 2:\n",
    "\n",
    "输入:\n",
    "\n",
    "s = \"aa\"\n",
    "\n",
    "p = \"*\"\n",
    "\n",
    "输出: true\n",
    "\n",
    "解释: '*' 可以匹配任意字符串。\n",
    "\n",
    "示例 3:\n",
    "\n",
    "输入:\n",
    "\n",
    "s = \"cb\"\n",
    "\n",
    "p = \"?a\"\n",
    "\n",
    "输出: false\n",
    "\n",
    "解释: '?' 可以匹配 'c', 但第二个 'a' 无法匹配 'b'。\n",
    "\n",
    "示例 4:\n",
    "\n",
    "输入:\n",
    "\n",
    "s = \"adceb\"\n",
    "\n",
    "p = \"*a*b\"\n",
    "\n",
    "输出: true\n",
    "\n",
    "解释: 第一个 '*' 可以匹配空字符串, 第二个 '*' 可以匹配字符串 \"dce\".\n",
    "\n",
    "示例 5:\n",
    "\n",
    "输入:\n",
    "s = \"acdcb\"\n",
    "\n",
    "p = \"a*c?b\"\n",
    "\n",
    "输出: false\n"
   ]
  },
  {
   "cell_type": "code",
   "execution_count": 11,
   "metadata": {},
   "outputs": [],
   "source": [
    "def isMatch(s,p):\n",
    "    m, n = len(s), len(p)\n",
    "    dp = [[False] * (n+1) for _ in range(m+1)]\n",
    "    dp[0][0] = True\n",
    "    for i in range(1, n+1):\n",
    "        if p[i-1] == '*':\n",
    "            dp[0][i]=True\n",
    "        else:\n",
    "            break\n",
    "    \n",
    "    for i in range(1, m+1):\n",
    "        for j in range(1, n+1):\n",
    "            if p[j-1] == '*':\n",
    "                dp[i][j] = dp[i][j-1] | dp[i-1][j]\n",
    "            elif p[j-1] == '?' or s[i-1] == p[j-1]:\n",
    "                dp[i][j] = dp[i-1][j-1]\n",
    "    return dp[m][n]"
   ]
  },
  {
   "cell_type": "code",
   "execution_count": 12,
   "metadata": {},
   "outputs": [
    {
     "data": {
      "text/plain": [
       "False"
      ]
     },
     "execution_count": 12,
     "metadata": {},
     "output_type": "execute_result"
    }
   ],
   "source": [
    "isMatch('aa','a')"
   ]
  },
  {
   "cell_type": "code",
   "execution_count": 13,
   "metadata": {},
   "outputs": [
    {
     "data": {
      "text/plain": [
       "True"
      ]
     },
     "execution_count": 13,
     "metadata": {},
     "output_type": "execute_result"
    }
   ],
   "source": [
    "isMatch('aa','*')"
   ]
  },
  {
   "cell_type": "code",
   "execution_count": 14,
   "metadata": {},
   "outputs": [
    {
     "data": {
      "text/plain": [
       "False"
      ]
     },
     "execution_count": 14,
     "metadata": {},
     "output_type": "execute_result"
    }
   ],
   "source": [
    "isMatch('cb','?a')"
   ]
  },
  {
   "cell_type": "code",
   "execution_count": 15,
   "metadata": {},
   "outputs": [
    {
     "data": {
      "text/plain": [
       "True"
      ]
     },
     "execution_count": 15,
     "metadata": {},
     "output_type": "execute_result"
    }
   ],
   "source": [
    "isMatch('adceb','*a*b')"
   ]
  },
  {
   "cell_type": "code",
   "execution_count": 16,
   "metadata": {},
   "outputs": [
    {
     "data": {
      "text/plain": [
       "False"
      ]
     },
     "execution_count": 16,
     "metadata": {},
     "output_type": "execute_result"
    }
   ],
   "source": [
    "isMatch('acdcb','a*c?b')"
   ]
  },
  {
   "cell_type": "code",
   "execution_count": null,
   "metadata": {},
   "outputs": [],
   "source": []
  }
 ],
 "metadata": {
  "kernelspec": {
   "display_name": "Python 3",
   "language": "python",
   "name": "python3"
  },
  "language_info": {
   "codemirror_mode": {
    "name": "ipython",
    "version": 3
   },
   "file_extension": ".py",
   "mimetype": "text/x-python",
   "name": "python",
   "nbconvert_exporter": "python",
   "pygments_lexer": "ipython3",
   "version": "3.7.5"
  }
 },
 "nbformat": 4,
 "nbformat_minor": 2
}
