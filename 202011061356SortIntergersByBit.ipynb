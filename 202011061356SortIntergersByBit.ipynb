{
 "cells": [
  {
   "cell_type": "raw",
   "metadata": {},
   "source": [
    "给你一个整数数组 arr 。请你将数组中的元素按照其二进制表示中数字 1 的数目升序排序。\n",
    "\n",
    "如果存在多个数字二进制中 1 的数目相同，则必须将它们按照数值大小升序排列。\n",
    "\n",
    "请你返回排序后的数组。\n",
    "\n",
    " \n",
    "\n",
    "示例 1：\n",
    "\n",
    "输入：arr = [0,1,2,3,4,5,6,7,8]\n",
    "输出：[0,1,2,4,8,3,5,6,7]\n",
    "解释：[0] 是唯一一个有 0 个 1 的数。\n",
    "[1,2,4,8] 都有 1 个 1 。\n",
    "[3,5,6] 有 2 个 1 。\n",
    "[7] 有 3 个 1 。\n",
    "按照 1 的个数排序得到的结果数组为 [0,1,2,4,8,3,5,6,7]\n",
    "示例 2：\n",
    "\n",
    "输入：arr = [1024,512,256,128,64,32,16,8,4,2,1]\n",
    "输出：[1,2,4,8,16,32,64,128,256,512,1024]\n",
    "解释：数组中所有整数二进制下都只有 1 个 1 ，所以你需要按照数值大小将它们排序。\n",
    "示例 3：\n",
    "\n",
    "输入：arr = [10000,10000]\n",
    "输出：[10000,10000]\n",
    "示例 4：\n",
    "\n",
    "输入：arr = [2,3,5,7,11,13,17,19]\n",
    "输出：[2,3,5,17,7,11,13,19]\n",
    "示例 5：\n",
    "\n",
    "输入：arr = [10,100,1000,10000]\n",
    "输出：[10,100,10000,1000]\n",
    " \n",
    "\n",
    "提示：\n",
    "\n",
    "1 <= arr.length <= 500\n",
    "0 <= arr[i] <= 10^4"
   ]
  },
  {
   "cell_type": "code",
   "execution_count": 2,
   "metadata": {},
   "outputs": [],
   "source": [
    "def sortByBits(arr):\n",
    "    dic = {}\n",
    "\n",
    "    for i in arr:\n",
    "        c = 0\n",
    "        for s in str(bin(i)):\n",
    "            if s == \"1\":\n",
    "                c += 1\n",
    "        if c in dic:\n",
    "            dic[c].append(i)\n",
    "        else:\n",
    "            dic[c]=[i]\n",
    "\n",
    "    output = []\n",
    "    for key in dic.keys():\n",
    "        if dic[key]:\n",
    "            for temp in sorted(dic[key]):\n",
    "                output.append(temp)\n",
    "\n",
    "    return output"
   ]
  },
  {
   "cell_type": "code",
   "execution_count": null,
   "metadata": {},
   "outputs": [],
   "source": []
  }
 ],
 "metadata": {
  "kernelspec": {
   "display_name": "Python 3",
   "language": "python",
   "name": "python3"
  },
  "language_info": {
   "codemirror_mode": {
    "name": "ipython",
    "version": 3
   },
   "file_extension": ".py",
   "mimetype": "text/x-python",
   "name": "python",
   "nbconvert_exporter": "python",
   "pygments_lexer": "ipython3",
   "version": "3.7.5"
  }
 },
 "nbformat": 4,
 "nbformat_minor": 2
}
