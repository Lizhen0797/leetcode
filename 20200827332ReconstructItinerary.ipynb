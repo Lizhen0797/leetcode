{
 "cells": [
  {
   "cell_type": "code",
   "execution_count": 3,
   "metadata": {},
   "outputs": [],
   "source": [
    "import collections\n",
    "import heapq\n",
    "import "
   ]
  },
  {
   "cell_type": "code",
   "execution_count": 5,
   "metadata": {},
   "outputs": [],
   "source": [
    "def findItinerary(tickets):\n",
    "    def dfs(curr):\n",
    "        while vec[curr]:\n",
    "            tmp = heapq.heappop(vec[curr])\n",
    "            dfs(tmp)\n",
    "        stack.append(curr)\n",
    "\n",
    "    vec = collections.defaultdict(list)\n",
    "    for depart, arrive in tickets:\n",
    "        vec[depart].append(arrive)\n",
    "    for key in vec:\n",
    "        heapq.heapify(vec[key])\n",
    "\n",
    "    stack = list()\n",
    "    dfs(\"JFK\")\n",
    "    return stack[::-1]"
   ]
  },
  {
   "cell_type": "code",
   "execution_count": null,
   "metadata": {},
   "outputs": [],
   "source": []
  }
 ],
 "metadata": {
  "kernelspec": {
   "display_name": "Python 3",
   "language": "python",
   "name": "python3"
  },
  "language_info": {
   "codemirror_mode": {
    "name": "ipython",
    "version": 3
   },
   "file_extension": ".py",
   "mimetype": "text/x-python",
   "name": "python",
   "nbconvert_exporter": "python",
   "pygments_lexer": "ipython3",
   "version": "3.7.5"
  }
 },
 "nbformat": 4,
 "nbformat_minor": 2
}
