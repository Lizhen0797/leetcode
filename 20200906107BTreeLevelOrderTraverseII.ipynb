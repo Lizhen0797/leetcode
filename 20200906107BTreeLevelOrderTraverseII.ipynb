{
 "cells": [
  {
   "cell_type": "raw",
   "metadata": {},
   "source": [
    "给定一个二叉树，返回其节点值自底向上的层次遍历。 （即按从叶子节点所在层到根节点所在的层，逐层从左向右遍历）\n",
    "\n",
    "例如：\n",
    "给定二叉树 [3,9,20,null,null,15,7],\n",
    "\n",
    "    3\n",
    "   / \\\n",
    "  9  20\n",
    "    /  \\\n",
    "   15   7\n",
    "返回其自底向上的层次遍历为：\n",
    "\n",
    "[\n",
    "  [15,7],\n",
    "  [9,20],\n",
    "  [3]\n",
    "]\n",
    "\n",
    "\n",
    "来源：力扣（LeetCode）\n",
    "链接：https://leetcode-cn.com/problems/binary-tree-level-order-traversal-ii\n",
    "著作权归领扣网络所有。商业转载请联系官方授权，非商业转载请注明出处。"
   ]
  },
  {
   "cell_type": "code",
   "execution_count": 2,
   "metadata": {},
   "outputs": [],
   "source": [
    "def levelOrderBottom(root):\n",
    "    \"\"\"\n",
    "    :type root: TreeNode\n",
    "    :rtype: List[List[int]]\n",
    "    \"\"\"\n",
    "    result = []\n",
    "    if root is None:\n",
    "        return result\n",
    "    queue = [root]\n",
    "    while len(queue)>0:\n",
    "        level_result = []\n",
    "        length = len(queue)\n",
    "        for i in range(length):\n",
    "            level = queue.pop(0)\n",
    "            level_result.append(level.val)\n",
    "            if level.left is not None:\n",
    "                queue.append(level.left)\n",
    "            if level.right is not None:\n",
    "                queue.append(level.right)\n",
    "        result.append(level_result)\n",
    "    return result[::-1]"
   ]
  },
  {
   "cell_type": "code",
   "execution_count": null,
   "metadata": {},
   "outputs": [],
   "source": []
  }
 ],
 "metadata": {
  "kernelspec": {
   "display_name": "Python 3",
   "language": "python",
   "name": "python3"
  },
  "language_info": {
   "codemirror_mode": {
    "name": "ipython",
    "version": 3
   },
   "file_extension": ".py",
   "mimetype": "text/x-python",
   "name": "python",
   "nbconvert_exporter": "python",
   "pygments_lexer": "ipython3",
   "version": "3.7.4"
  }
 },
 "nbformat": 4,
 "nbformat_minor": 2
}
