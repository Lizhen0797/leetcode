{
 "cells": [
  {
   "cell_type": "code",
   "execution_count": 1,
   "metadata": {},
   "outputs": [],
   "source": [
    "def solve(board):\n",
    "    if not board:\n",
    "        return\n",
    "    n, m = len(board), len(board[0])\n",
    "    def dfs(x, y):\n",
    "        if not 0 <= x < n or not 0 <= y < m or board[x][y] != 'O':\n",
    "            return\n",
    "        board[x][y] = 'A'\n",
    "        dfs(x+1, y)\n",
    "        dfs(x-1, y)\n",
    "        dfs(x, y+1)\n",
    "        dfs(x, y-1)\n",
    "    for i in range(n):\n",
    "        dfs(i,0)\n",
    "        dfs(i, m-1)\n",
    "    for i in range(m-1):\n",
    "        dfs(0, i)\n",
    "        dfs(n-1, i)\n",
    "    \n",
    "    for i in range(n):\n",
    "        for j in range(m):\n",
    "            if board[i][j] =='A':\n",
    "                board[i][j] ='O'\n",
    "            elif board[i][j] =='O':\n",
    "                board[i][j]='X'"
   ]
  },
  {
   "cell_type": "code",
   "execution_count": null,
   "metadata": {},
   "outputs": [],
   "source": []
  }
 ],
 "metadata": {
  "kernelspec": {
   "display_name": "Python 3",
   "language": "python",
   "name": "python3"
  },
  "language_info": {
   "codemirror_mode": {
    "name": "ipython",
    "version": 3
   },
   "file_extension": ".py",
   "mimetype": "text/x-python",
   "name": "python",
   "nbconvert_exporter": "python",
   "pygments_lexer": "ipython3",
   "version": "3.7.5"
  }
 },
 "nbformat": 4,
 "nbformat_minor": 2
}
